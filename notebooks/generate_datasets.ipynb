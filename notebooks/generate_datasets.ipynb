{
 "cells": [
  {
   "cell_type": "code",
   "execution_count": 1,
   "id": "bbb519c3",
   "metadata": {},
   "outputs": [],
   "source": [
    "import gc\n",
    "import torch\n",
    "import random\n",
    "import numpy as np\n",
    "from tqdm.auto import tqdm\n",
    "\n",
    "from graph_nn_vae.data.adj_matrix_data_module import AdjMatrixDataModule\n",
    "from graph_nn_vae.data.graph_loaders import RealGraphLoader, SyntheticGraphLoader\n",
    "from graph_nn_vae.experiments.decorators import add_graphloader_args"
   ]
  },
  {
   "cell_type": "code",
   "execution_count": 2,
   "id": "77f784b8",
   "metadata": {},
   "outputs": [],
   "source": [
    "torch.manual_seed(0)\n",
    "random.seed(0)\n",
    "np.random.seed(0)"
   ]
  },
  {
   "cell_type": "code",
   "execution_count": 3,
   "id": "e1822467",
   "metadata": {},
   "outputs": [],
   "source": [
    "train_val_test_split = [0.7, 0.15, 0.15]\n",
    "train_val_test_permutation_split = [1, 0, 0.0]\n",
    "num_dataset_graph_permutations = 10"
   ]
  },
  {
   "cell_type": "code",
   "execution_count": 4,
   "id": "c86f78cc",
   "metadata": {},
   "outputs": [],
   "source": [
    "N = 5"
   ]
  },
  {
   "cell_type": "code",
   "execution_count": 5,
   "id": "c8e56c1b",
   "metadata": {},
   "outputs": [],
   "source": [
    "datasets_path = './datasets'"
   ]
  },
  {
   "cell_type": "code",
   "execution_count": 6,
   "id": "a4bf7f51",
   "metadata": {},
   "outputs": [
    {
     "name": "stdout",
     "output_type": "stream",
     "text": [
      "mkdir: cannot create directory ‘/usr/local/datasets/GRID-SMALL’: File exists\n",
      "mkdir: cannot create directory ‘/usr/local/datasets/IMDB-BINARY’: File exists\n",
      "mkdir: cannot create directory ‘/usr/local/datasets/IMDB-MULTI’: File exists\n",
      "mkdir: cannot create directory ‘/usr/local/datasets/COLLAB’: File exists\n",
      "mkdir: cannot create directory ‘/usr/local/datasets/REDDIT-BINARY’: File exists\n",
      "mkdir: cannot create directory ‘/usr/local/datasets/REDDIT-MULTI-5K’: File exists\n",
      "mkdir: cannot create directory ‘/usr/local/datasets/REDDIT-MULTI-12K’: File exists\n"
     ]
    }
   ],
   "source": [
    "to_save_path = '/usr/local/datasets'\n",
    "!mkdir $to_save_path/GRID-SMALL\n",
    "!mkdir $to_save_path/IMDB-BINARY\n",
    "!mkdir $to_save_path/IMDB-MULTI\n",
    "!mkdir $to_save_path/COLLAB\n",
    "!mkdir $to_save_path/REDDIT-BINARY\n",
    "!mkdir $to_save_path/REDDIT-MULTI-5K\n",
    "!mkdir $to_save_path/REDDIT-MULTI-12K"
   ]
  },
  {
   "cell_type": "code",
   "execution_count": 7,
   "id": "4b72482a",
   "metadata": {},
   "outputs": [],
   "source": [
    "@add_graphloader_args\n",
    "class SyntheticSaver(AdjMatrixDataModule):\n",
    "    graphloader_class = SyntheticGraphLoader"
   ]
  },
  {
   "cell_type": "code",
   "execution_count": 8,
   "id": "0d465e8e",
   "metadata": {
    "scrolled": true
   },
   "outputs": [
    {
     "name": "stdout",
     "output_type": "stream",
     "text": [
      "Statistic of set:  Full original dataset\n",
      "             Dataset size : 9\n",
      "                   Labels : False\n",
      "           Min node count : 4\n",
      "       Average node count : 9.0\n",
      "           Max node count : 16\n",
      "           Min edge count : 4.0\n",
      "       Average edge count : 12.0\n",
      "           Max edge count : 24.0\n",
      "     Min filling fraction : 0.2\n",
      " Average filling fraction : 0.37\n",
      "     Max filling fraction : 0.67\n",
      "----------------------------------------------------------------\n",
      "Dataset pickled successfully\n",
      "File path: /usr/local/datasets/GRID-SMALL/0.pkl\n",
      "File size: 35.33 KB\n",
      "Statistic of set:  Train dataset\n",
      "             Dataset size : 43\n",
      "                   Labels : False\n",
      "           Min node count : 4\n",
      "       Average node count : 10.05\n",
      "           Max node count : 16\n",
      "           Min edge count : 4.0\n",
      "       Average edge count : 13.77\n",
      "           Max edge count : 24.0\n",
      "     Min filling fraction : 0.2\n",
      " Average filling fraction : 0.34\n",
      "     Max filling fraction : 0.67\n",
      "----------------------------------------------------------------\n",
      "Statistic of set:  Validation dataset 0\n",
      "             Dataset size : 20\n",
      "                   Labels : False\n",
      "           Min node count : 6\n",
      "       Average node count : 7.5\n",
      "           Max node count : 9\n",
      "           Min edge count : 7.0\n",
      "       Average edge count : 9.5\n",
      "           Max edge count : 12.0\n",
      "     Min filling fraction : 0.33\n",
      " Average filling fraction : 0.4\n",
      "     Max filling fraction : 0.47\n",
      "----------------------------------------------------------------\n",
      "Statistic of set:  Test dataset 0\n",
      "             Dataset size : 20\n",
      "                   Labels : False\n",
      "           Min node count : 8\n",
      "       Average node count : 10.0\n",
      "           Max node count : 12\n",
      "           Min edge count : 10.0\n",
      "       Average edge count : 13.5\n",
      "           Max edge count : 17.0\n",
      "     Min filling fraction : 0.26\n",
      " Average filling fraction : 0.31\n",
      "     Max filling fraction : 0.36\n",
      "----------------------------------------------------------------\n"
     ]
    },
    {
     "data": {
      "application/vnd.jupyter.widget-view+json": {
       "model_id": "f08589a26cab498faa54d80823f279b6",
       "version_major": 2,
       "version_minor": 0
      },
      "text/plain": [
       "preparing dataset train for autoencoder:   0%|          | 0/43 [00:00<?, ?it/s]"
      ]
     },
     "metadata": {},
     "output_type": "display_data"
    },
    {
     "data": {
      "application/vnd.jupyter.widget-view+json": {
       "model_id": "2355a7a69ba241d5a3846bad5821e69a",
       "version_major": 2,
       "version_minor": 0
      },
      "text/plain": [
       "preparing dataset val 0 for autoencoder:   0%|          | 0/20 [00:00<?, ?it/s]"
      ]
     },
     "metadata": {},
     "output_type": "display_data"
    },
    {
     "data": {
      "application/vnd.jupyter.widget-view+json": {
       "model_id": "8d5ce40b1b734162a5c3b802b467a3ee",
       "version_major": 2,
       "version_minor": 0
      },
      "text/plain": [
       "preparing dataset test 0 for autoencoder:   0%|          | 0/20 [00:00<?, ?it/s]"
      ]
     },
     "metadata": {},
     "output_type": "display_data"
    },
    {
     "name": "stdout",
     "output_type": "stream",
     "text": [
      "Statistic of set:  Full original dataset\n",
      "             Dataset size : 9\n",
      "                   Labels : False\n",
      "           Min node count : 4\n",
      "       Average node count : 9.0\n",
      "           Max node count : 16\n",
      "           Min edge count : 4.0\n",
      "       Average edge count : 12.0\n",
      "           Max edge count : 24.0\n",
      "     Min filling fraction : 0.2\n",
      " Average filling fraction : 0.37\n",
      "     Max filling fraction : 0.67\n",
      "----------------------------------------------------------------\n",
      "Dataset pickled successfully\n",
      "File path: /usr/local/datasets/GRID-SMALL/1.pkl\n",
      "File size: 35.16 KB\n",
      "Statistic of set:  Train dataset\n",
      "             Dataset size : 42\n",
      "                   Labels : False\n",
      "           Min node count : 4\n",
      "       Average node count : 7.05\n",
      "           Max node count : 9\n",
      "           Min edge count : 4.0\n",
      "       Average edge count : 8.69\n",
      "           Max edge count : 12.0\n",
      "     Min filling fraction : 0.33\n",
      " Average filling fraction : 0.42\n",
      "     Max filling fraction : 0.67\n",
      "----------------------------------------------------------------\n",
      "Statistic of set:  Validation dataset 0\n",
      "             Dataset size : 20\n",
      "                   Labels : False\n",
      "           Min node count : 8\n",
      "       Average node count : 12.0\n",
      "           Max node count : 16\n",
      "           Min edge count : 10.0\n",
      "       Average edge count : 17.0\n",
      "           Max edge count : 24.0\n",
      "     Min filling fraction : 0.2\n",
      " Average filling fraction : 0.28\n",
      "     Max filling fraction : 0.36\n",
      "----------------------------------------------------------------\n",
      "Statistic of set:  Test dataset 0\n",
      "             Dataset size : 20\n",
      "                   Labels : False\n",
      "           Min node count : 12\n",
      "       Average node count : 12.0\n",
      "           Max node count : 12\n",
      "           Min edge count : 17.0\n",
      "       Average edge count : 17.0\n",
      "           Max edge count : 17.0\n",
      "     Min filling fraction : 0.26\n",
      " Average filling fraction : 0.26\n",
      "     Max filling fraction : 0.26\n",
      "----------------------------------------------------------------\n"
     ]
    },
    {
     "data": {
      "application/vnd.jupyter.widget-view+json": {
       "model_id": "cc7d2268fb2c460b9c17d6009da18bb3",
       "version_major": 2,
       "version_minor": 0
      },
      "text/plain": [
       "preparing dataset train for autoencoder:   0%|          | 0/42 [00:00<?, ?it/s]"
      ]
     },
     "metadata": {},
     "output_type": "display_data"
    },
    {
     "data": {
      "application/vnd.jupyter.widget-view+json": {
       "model_id": "db75019a0c3b4755b3141eb72de95937",
       "version_major": 2,
       "version_minor": 0
      },
      "text/plain": [
       "preparing dataset val 0 for autoencoder:   0%|          | 0/20 [00:00<?, ?it/s]"
      ]
     },
     "metadata": {},
     "output_type": "display_data"
    },
    {
     "data": {
      "application/vnd.jupyter.widget-view+json": {
       "model_id": "e058d36e88ac4bc39e24e7f03e9c16d4",
       "version_major": 2,
       "version_minor": 0
      },
      "text/plain": [
       "preparing dataset test 0 for autoencoder:   0%|          | 0/20 [00:00<?, ?it/s]"
      ]
     },
     "metadata": {},
     "output_type": "display_data"
    },
    {
     "name": "stdout",
     "output_type": "stream",
     "text": [
      "Statistic of set:  Full original dataset\n",
      "             Dataset size : 9\n",
      "                   Labels : False\n",
      "           Min node count : 4\n",
      "       Average node count : 9.0\n",
      "           Max node count : 16\n",
      "           Min edge count : 4.0\n",
      "       Average edge count : 12.0\n",
      "           Max edge count : 24.0\n",
      "     Min filling fraction : 0.2\n",
      " Average filling fraction : 0.37\n",
      "     Max filling fraction : 0.67\n",
      "----------------------------------------------------------------\n",
      "Dataset pickled successfully\n",
      "File path: /usr/local/datasets/GRID-SMALL/2.pkl\n",
      "File size: 35.33 KB\n",
      "Statistic of set:  Train dataset\n",
      "             Dataset size : 43\n",
      "                   Labels : False\n",
      "           Min node count : 4\n",
      "       Average node count : 9.81\n",
      "           Max node count : 12\n",
      "           Min edge count : 4.0\n",
      "       Average edge count : 13.3\n",
      "           Max edge count : 17.0\n",
      "     Min filling fraction : 0.26\n",
      " Average filling fraction : 0.33\n",
      "     Max filling fraction : 0.67\n",
      "----------------------------------------------------------------\n",
      "Statistic of set:  Validation dataset 0\n",
      "             Dataset size : 20\n",
      "                   Labels : False\n",
      "           Min node count : 6\n",
      "       Average node count : 6.0\n",
      "           Max node count : 6\n",
      "           Min edge count : 7.0\n",
      "       Average edge count : 7.0\n",
      "           Max edge count : 7.0\n",
      "     Min filling fraction : 0.47\n",
      " Average filling fraction : 0.47\n",
      "     Max filling fraction : 0.47\n",
      "----------------------------------------------------------------\n",
      "Statistic of set:  Test dataset 0\n",
      "             Dataset size : 20\n",
      "                   Labels : False\n",
      "           Min node count : 8\n",
      "       Average node count : 12.0\n",
      "           Max node count : 16\n",
      "           Min edge count : 10.0\n",
      "       Average edge count : 17.0\n",
      "           Max edge count : 24.0\n",
      "     Min filling fraction : 0.2\n",
      " Average filling fraction : 0.28\n",
      "     Max filling fraction : 0.36\n",
      "----------------------------------------------------------------\n"
     ]
    },
    {
     "data": {
      "application/vnd.jupyter.widget-view+json": {
       "model_id": "c4c260ab2e8e4a1792a4e781fab4815d",
       "version_major": 2,
       "version_minor": 0
      },
      "text/plain": [
       "preparing dataset train for autoencoder:   0%|          | 0/43 [00:00<?, ?it/s]"
      ]
     },
     "metadata": {},
     "output_type": "display_data"
    },
    {
     "data": {
      "application/vnd.jupyter.widget-view+json": {
       "model_id": "c2108b7945f14cdabc75c5748b055c7e",
       "version_major": 2,
       "version_minor": 0
      },
      "text/plain": [
       "preparing dataset val 0 for autoencoder:   0%|          | 0/20 [00:00<?, ?it/s]"
      ]
     },
     "metadata": {},
     "output_type": "display_data"
    },
    {
     "data": {
      "application/vnd.jupyter.widget-view+json": {
       "model_id": "e03805f856e24e329335039577040029",
       "version_major": 2,
       "version_minor": 0
      },
      "text/plain": [
       "preparing dataset test 0 for autoencoder:   0%|          | 0/20 [00:00<?, ?it/s]"
      ]
     },
     "metadata": {},
     "output_type": "display_data"
    },
    {
     "name": "stdout",
     "output_type": "stream",
     "text": [
      "Statistic of set:  Full original dataset\n",
      "             Dataset size : 9\n",
      "                   Labels : False\n",
      "           Min node count : 4\n",
      "       Average node count : 9.0\n",
      "           Max node count : 16\n",
      "           Min edge count : 4.0\n",
      "       Average edge count : 12.0\n",
      "           Max edge count : 24.0\n",
      "     Min filling fraction : 0.2\n",
      " Average filling fraction : 0.37\n",
      "     Max filling fraction : 0.67\n",
      "----------------------------------------------------------------\n",
      "Dataset pickled successfully\n",
      "File path: /usr/local/datasets/GRID-SMALL/3.pkl\n",
      "File size: 35.33 KB\n",
      "Statistic of set:  Train dataset\n",
      "             Dataset size : 43\n",
      "                   Labels : False\n",
      "           Min node count : 4\n",
      "       Average node count : 6.79\n",
      "           Max node count : 8\n",
      "           Min edge count : 4.0\n",
      "       Average edge count : 8.19\n",
      "           Max edge count : 10.0\n",
      "     Min filling fraction : 0.36\n",
      " Average filling fraction : 0.43\n",
      "     Max filling fraction : 0.67\n",
      "----------------------------------------------------------------\n",
      "Statistic of set:  Validation dataset 0\n",
      "             Dataset size : 20\n",
      "                   Labels : False\n",
      "           Min node count : 9\n",
      "       Average node count : 10.5\n",
      "           Max node count : 12\n",
      "           Min edge count : 12.0\n",
      "       Average edge count : 14.5\n",
      "           Max edge count : 17.0\n",
      "     Min filling fraction : 0.26\n",
      " Average filling fraction : 0.3\n",
      "     Max filling fraction : 0.33\n",
      "----------------------------------------------------------------\n",
      "Statistic of set:  Test dataset 0\n",
      "             Dataset size : 20\n",
      "                   Labels : False\n",
      "           Min node count : 12\n",
      "       Average node count : 14.0\n",
      "           Max node count : 16\n",
      "           Min edge count : 17.0\n",
      "       Average edge count : 20.5\n",
      "           Max edge count : 24.0\n",
      "     Min filling fraction : 0.2\n",
      " Average filling fraction : 0.23\n",
      "     Max filling fraction : 0.26\n",
      "----------------------------------------------------------------\n"
     ]
    },
    {
     "data": {
      "application/vnd.jupyter.widget-view+json": {
       "model_id": "de5bf555ba374c049eb7652e04ea2c7c",
       "version_major": 2,
       "version_minor": 0
      },
      "text/plain": [
       "preparing dataset train for autoencoder:   0%|          | 0/43 [00:00<?, ?it/s]"
      ]
     },
     "metadata": {},
     "output_type": "display_data"
    },
    {
     "data": {
      "application/vnd.jupyter.widget-view+json": {
       "model_id": "22a80e8b1ba942c0856cb8a92b32bad0",
       "version_major": 2,
       "version_minor": 0
      },
      "text/plain": [
       "preparing dataset val 0 for autoencoder:   0%|          | 0/20 [00:00<?, ?it/s]"
      ]
     },
     "metadata": {},
     "output_type": "display_data"
    },
    {
     "data": {
      "application/vnd.jupyter.widget-view+json": {
       "model_id": "f1ea780c20ba4999bc078b2649f0270b",
       "version_major": 2,
       "version_minor": 0
      },
      "text/plain": [
       "preparing dataset test 0 for autoencoder:   0%|          | 0/20 [00:00<?, ?it/s]"
      ]
     },
     "metadata": {},
     "output_type": "display_data"
    },
    {
     "name": "stdout",
     "output_type": "stream",
     "text": [
      "Statistic of set:  Full original dataset\n",
      "             Dataset size : 9\n",
      "                   Labels : False\n",
      "           Min node count : 4\n",
      "       Average node count : 9.0\n",
      "           Max node count : 16\n",
      "           Min edge count : 4.0\n",
      "       Average edge count : 12.0\n",
      "           Max edge count : 24.0\n",
      "     Min filling fraction : 0.2\n",
      " Average filling fraction : 0.37\n",
      "     Max filling fraction : 0.67\n",
      "----------------------------------------------------------------\n",
      "Dataset pickled successfully\n",
      "File path: /usr/local/datasets/GRID-SMALL/4.pkl\n",
      "File size: 35.16 KB\n",
      "Statistic of set:  Train dataset\n",
      "             Dataset size : 42\n",
      "                   Labels : False\n",
      "           Min node count : 4\n",
      "       Average node count : 9.43\n",
      "           Max node count : 12\n",
      "           Min edge count : 4.0\n",
      "       Average edge count : 12.74\n",
      "           Max edge count : 17.0\n",
      "     Min filling fraction : 0.26\n",
      " Average filling fraction : 0.35\n",
      "     Max filling fraction : 0.67\n",
      "----------------------------------------------------------------\n",
      "Statistic of set:  Validation dataset 0\n",
      "             Dataset size : 20\n",
      "                   Labels : False\n",
      "           Min node count : 8\n",
      "       Average node count : 8.0\n",
      "           Max node count : 8\n",
      "           Min edge count : 10.0\n",
      "       Average edge count : 10.0\n",
      "           Max edge count : 10.0\n",
      "     Min filling fraction : 0.36\n",
      " Average filling fraction : 0.36\n",
      "     Max filling fraction : 0.36\n",
      "----------------------------------------------------------------\n",
      "Statistic of set:  Test dataset 0\n",
      "             Dataset size : 20\n",
      "                   Labels : False\n",
      "           Min node count : 6\n",
      "       Average node count : 11.0\n",
      "           Max node count : 16\n",
      "           Min edge count : 7.0\n",
      "       Average edge count : 15.5\n",
      "           Max edge count : 24.0\n",
      "     Min filling fraction : 0.2\n",
      " Average filling fraction : 0.33\n",
      "     Max filling fraction : 0.47\n",
      "----------------------------------------------------------------\n"
     ]
    },
    {
     "data": {
      "application/vnd.jupyter.widget-view+json": {
       "model_id": "47574beb12814f28b234fa9dca9bd158",
       "version_major": 2,
       "version_minor": 0
      },
      "text/plain": [
       "preparing dataset train for autoencoder:   0%|          | 0/42 [00:00<?, ?it/s]"
      ]
     },
     "metadata": {},
     "output_type": "display_data"
    },
    {
     "data": {
      "application/vnd.jupyter.widget-view+json": {
       "model_id": "635c2fd76b00431b815548985d3b48bb",
       "version_major": 2,
       "version_minor": 0
      },
      "text/plain": [
       "preparing dataset val 0 for autoencoder:   0%|          | 0/20 [00:00<?, ?it/s]"
      ]
     },
     "metadata": {},
     "output_type": "display_data"
    },
    {
     "data": {
      "application/vnd.jupyter.widget-view+json": {
       "model_id": "1a67c7e8c2ab4a30a51a5cc657b7416f",
       "version_major": 2,
       "version_minor": 0
      },
      "text/plain": [
       "preparing dataset test 0 for autoencoder:   0%|          | 0/20 [00:00<?, ?it/s]"
      ]
     },
     "metadata": {},
     "output_type": "display_data"
    }
   ],
   "source": [
    "for i in range(N):\n",
    "    SyntheticSaver(\n",
    "        graph_type='grid_small',\n",
    "        num_dataset_graph_permutations=num_dataset_graph_permutations, \n",
    "        train_val_test_split=[0.5, 0.25, 0.25], \n",
    "        train_val_test_permutation_split=train_val_test_permutation_split,\n",
    "        use_labels=False,\n",
    "        save_dataset_to_pickle=to_save_path+'/GRID-SMALL/'+str(i)+'.pkl',\n",
    "        bfs=False,\n",
    "        deduplicate_train = False,\n",
    "        deduplicate_val_test = False,\n",
    "        batch_size=1,\n",
    "        batch_size_val=0,\n",
    "        batch_size_test=0,\n",
    "        workers=0\n",
    "    )"
   ]
  },
  {
   "cell_type": "code",
   "execution_count": 9,
   "id": "c111509b",
   "metadata": {},
   "outputs": [],
   "source": [
    "@add_graphloader_args\n",
    "class RealSaver(AdjMatrixDataModule):\n",
    "    graphloader_class = RealGraphLoader"
   ]
  },
  {
   "cell_type": "code",
   "execution_count": 10,
   "id": "f2f00cdd",
   "metadata": {},
   "outputs": [],
   "source": [
    "def save_datasets(dataset_name):\n",
    "    for i in tqdm(range(N), desc=dataset_name):\n",
    "        RealSaver(\n",
    "            datasets_dir=datasets_path,\n",
    "            dataset_name=dataset_name,\n",
    "            use_labels=True,\n",
    "            max_graph_size=None,\n",
    "            num_dataset_graph_permutations=num_dataset_graph_permutations, \n",
    "            train_val_test_split=train_val_test_split, \n",
    "            train_val_test_permutation_split=train_val_test_permutation_split,\n",
    "            save_dataset_to_pickle=to_save_path+'/'+dataset_name+'/'+str(i)+'.pkl',\n",
    "            bfs=False,\n",
    "            deduplicate_train = False,\n",
    "            deduplicate_val_test = False,\n",
    "            batch_size=1,\n",
    "            batch_size_val=0,\n",
    "            batch_size_test=0,\n",
    "            workers=0\n",
    "        )\n",
    "        gc.collect()"
   ]
  },
  {
   "cell_type": "code",
   "execution_count": 11,
   "id": "3b2b8974",
   "metadata": {
    "scrolled": true
   },
   "outputs": [
    {
     "data": {
      "application/vnd.jupyter.widget-view+json": {
       "model_id": "ed5162f06f2b44c9b83977a66d79224e",
       "version_major": 2,
       "version_minor": 0
      },
      "text/plain": [
       "IMDB-BINARY:   0%|          | 0/5 [00:00<?, ?it/s]"
      ]
     },
     "metadata": {},
     "output_type": "display_data"
    },
    {
     "data": {
      "application/vnd.jupyter.widget-view+json": {
       "model_id": "5780d535a78148b0a8309c7003caf65d",
       "version_major": 2,
       "version_minor": 0
      },
      "text/plain": [
       "reading edges: 0it [00:00, ?it/s]"
      ]
     },
     "metadata": {},
     "output_type": "display_data"
    },
    {
     "name": "stdout",
     "output_type": "stream",
     "text": [
      "Statistic of set:  Full original dataset\n",
      "             Dataset size : 1000\n",
      "                   Labels : True\n",
      "           Min node count : 12\n",
      "       Average node count : 19.77\n",
      "           Max node count : 136\n",
      "           Min edge count : 26.0\n",
      "       Average edge count : 96.53\n",
      "           Max edge count : 1249.0\n",
      "     Min filling fraction : 0.1\n",
      " Average filling fraction : 0.52\n",
      "     Max filling fraction : 1.0\n",
      "          Label \"0\" count : 500\n",
      "          Label \"1\" count : 500\n",
      "----------------------------------------------------------------\n",
      "Dataset pickled successfully\n",
      "File path: /usr/local/datasets/IMDB-BINARY/0.pkl\n",
      "File size: 34.54 MB\n",
      "Statistic of set:  Train dataset\n",
      "             Dataset size : 6171\n",
      "                   Labels : True\n",
      "           Min node count : 12\n",
      "       Average node count : 19.99\n",
      "           Max node count : 136\n",
      "           Min edge count : 26.0\n",
      "       Average edge count : 88.1\n",
      "           Max edge count : 1249.0\n",
      "     Min filling fraction : 0.1\n",
      " Average filling fraction : 0.46\n",
      "     Max filling fraction : 1.0\n",
      "          Label \"0\" count : 2915\n",
      "          Label \"1\" count : 3256\n",
      "----------------------------------------------------------------\n",
      "Statistic of set:  Validation dataset 0\n",
      "             Dataset size : 1257\n",
      "                   Labels : True\n",
      "           Min node count : 12\n",
      "       Average node count : 19.98\n",
      "           Max node count : 69\n",
      "           Min edge count : 26.0\n",
      "       Average edge count : 82.14\n",
      "           Max edge count : 686.0\n",
      "     Min filling fraction : 0.1\n",
      " Average filling fraction : 0.44\n",
      "     Max filling fraction : 1.0\n",
      "          Label \"0\" count : 636\n",
      "          Label \"1\" count : 621\n",
      "----------------------------------------------------------------\n",
      "Statistic of set:  Test dataset 0\n",
      "             Dataset size : 1320\n",
      "                   Labels : True\n",
      "           Min node count : 12\n",
      "       Average node count : 20.7\n",
      "           Max node count : 61\n",
      "           Min edge count : 26.0\n",
      "       Average edge count : 84.82\n",
      "           Max edge count : 785.0\n",
      "     Min filling fraction : 0.12\n",
      " Average filling fraction : 0.44\n",
      "     Max filling fraction : 1.0\n",
      "          Label \"0\" count : 720\n",
      "          Label \"1\" count : 600\n",
      "----------------------------------------------------------------\n"
     ]
    },
    {
     "data": {
      "application/vnd.jupyter.widget-view+json": {
       "model_id": "6ddf6a4ba8534725be08e9a1ce1f7cca",
       "version_major": 2,
       "version_minor": 0
      },
      "text/plain": [
       "preparing dataset train for autoencoder:   0%|          | 0/6171 [00:00<?, ?it/s]"
      ]
     },
     "metadata": {},
     "output_type": "display_data"
    },
    {
     "data": {
      "application/vnd.jupyter.widget-view+json": {
       "model_id": "351fe1c03a2442b0b4101fde25595c39",
       "version_major": 2,
       "version_minor": 0
      },
      "text/plain": [
       "preparing dataset val 0 for autoencoder:   0%|          | 0/1257 [00:00<?, ?it/s]"
      ]
     },
     "metadata": {},
     "output_type": "display_data"
    },
    {
     "data": {
      "application/vnd.jupyter.widget-view+json": {
       "model_id": "efa9e55339554492944272182841e4fe",
       "version_major": 2,
       "version_minor": 0
      },
      "text/plain": [
       "preparing dataset test 0 for autoencoder:   0%|          | 0/1320 [00:00<?, ?it/s]"
      ]
     },
     "metadata": {},
     "output_type": "display_data"
    },
    {
     "data": {
      "application/vnd.jupyter.widget-view+json": {
       "model_id": "d64c7ca85d5a479890294429f4ad09a4",
       "version_major": 2,
       "version_minor": 0
      },
      "text/plain": [
       "reading edges: 0it [00:00, ?it/s]"
      ]
     },
     "metadata": {},
     "output_type": "display_data"
    },
    {
     "name": "stdout",
     "output_type": "stream",
     "text": [
      "Statistic of set:  Full original dataset\n",
      "             Dataset size : 1000\n",
      "                   Labels : True\n",
      "           Min node count : 12\n",
      "       Average node count : 19.77\n",
      "           Max node count : 136\n",
      "           Min edge count : 26.0\n",
      "       Average edge count : 96.53\n",
      "           Max edge count : 1249.0\n",
      "     Min filling fraction : 0.1\n",
      " Average filling fraction : 0.52\n",
      "     Max filling fraction : 1.0\n",
      "          Label \"0\" count : 500\n",
      "          Label \"1\" count : 500\n",
      "----------------------------------------------------------------\n",
      "Dataset pickled successfully\n",
      "File path: /usr/local/datasets/IMDB-BINARY/1.pkl\n",
      "File size: 34.54 MB\n",
      "Statistic of set:  Train dataset\n",
      "             Dataset size : 6091\n",
      "                   Labels : True\n",
      "           Min node count : 12\n",
      "       Average node count : 20.14\n",
      "           Max node count : 136\n",
      "           Min edge count : 26.0\n",
      "       Average edge count : 86.37\n",
      "           Max edge count : 1249.0\n",
      "     Min filling fraction : 0.1\n",
      " Average filling fraction : 0.45\n",
      "     Max filling fraction : 1.0\n",
      "          Label \"0\" count : 2957\n",
      "          Label \"1\" count : 3134\n",
      "----------------------------------------------------------------\n",
      "Statistic of set:  Validation dataset 0\n",
      "             Dataset size : 1319\n",
      "                   Labels : True\n",
      "           Min node count : 12\n",
      "       Average node count : 20.68\n",
      "           Max node count : 65\n",
      "           Min edge count : 27.0\n",
      "       Average edge count : 92.7\n",
      "           Max edge count : 654.0\n",
      "     Min filling fraction : 0.13\n",
      " Average filling fraction : 0.44\n",
      "     Max filling fraction : 1.0\n",
      "          Label \"0\" count : 670\n",
      "          Label \"1\" count : 649\n",
      "----------------------------------------------------------------\n",
      "Statistic of set:  Test dataset 0\n",
      "             Dataset size : 1336\n",
      "                   Labels : True\n",
      "           Min node count : 12\n",
      "       Average node count : 19.3\n",
      "           Max node count : 46\n",
      "           Min edge count : 26.0\n",
      "       Average edge count : 82.67\n",
      "           Max edge count : 478.0\n",
      "     Min filling fraction : 0.14\n",
      " Average filling fraction : 0.47\n",
      "     Max filling fraction : 1.0\n",
      "          Label \"0\" count : 642\n",
      "          Label \"1\" count : 694\n",
      "----------------------------------------------------------------\n"
     ]
    },
    {
     "data": {
      "application/vnd.jupyter.widget-view+json": {
       "model_id": "5f16903f297c4e4ab1759f3c44a05181",
       "version_major": 2,
       "version_minor": 0
      },
      "text/plain": [
       "preparing dataset train for autoencoder:   0%|          | 0/6091 [00:00<?, ?it/s]"
      ]
     },
     "metadata": {},
     "output_type": "display_data"
    },
    {
     "data": {
      "application/vnd.jupyter.widget-view+json": {
       "model_id": "01dec3f26cf84038951f61075b4efb05",
       "version_major": 2,
       "version_minor": 0
      },
      "text/plain": [
       "preparing dataset val 0 for autoencoder:   0%|          | 0/1319 [00:00<?, ?it/s]"
      ]
     },
     "metadata": {},
     "output_type": "display_data"
    },
    {
     "data": {
      "application/vnd.jupyter.widget-view+json": {
       "model_id": "60f4dd15b43a4393bfdc6603b8befb1c",
       "version_major": 2,
       "version_minor": 0
      },
      "text/plain": [
       "preparing dataset test 0 for autoencoder:   0%|          | 0/1336 [00:00<?, ?it/s]"
      ]
     },
     "metadata": {},
     "output_type": "display_data"
    },
    {
     "data": {
      "application/vnd.jupyter.widget-view+json": {
       "model_id": "c88b0b9334de4353960ed08e7188e33f",
       "version_major": 2,
       "version_minor": 0
      },
      "text/plain": [
       "reading edges: 0it [00:00, ?it/s]"
      ]
     },
     "metadata": {},
     "output_type": "display_data"
    },
    {
     "name": "stdout",
     "output_type": "stream",
     "text": [
      "Statistic of set:  Full original dataset\n",
      "             Dataset size : 1000\n",
      "                   Labels : True\n",
      "           Min node count : 12\n",
      "       Average node count : 19.77\n",
      "           Max node count : 136\n",
      "           Min edge count : 26.0\n",
      "       Average edge count : 96.53\n",
      "           Max edge count : 1249.0\n",
      "     Min filling fraction : 0.1\n",
      " Average filling fraction : 0.52\n",
      "     Max filling fraction : 1.0\n",
      "          Label \"0\" count : 500\n",
      "          Label \"1\" count : 500\n",
      "----------------------------------------------------------------\n",
      "Dataset pickled successfully\n",
      "File path: /usr/local/datasets/IMDB-BINARY/2.pkl\n",
      "File size: 34.54 MB\n",
      "Statistic of set:  Train dataset\n",
      "             Dataset size : 6154\n",
      "                   Labels : True\n",
      "           Min node count : 12\n",
      "       Average node count : 20.21\n",
      "           Max node count : 136\n",
      "           Min edge count : 26.0\n",
      "       Average edge count : 86.9\n",
      "           Max edge count : 1249.0\n",
      "     Min filling fraction : 0.1\n",
      " Average filling fraction : 0.45\n",
      "     Max filling fraction : 1.0\n",
      "          Label \"0\" count : 2967\n",
      "          Label \"1\" count : 3187\n",
      "----------------------------------------------------------------\n",
      "Statistic of set:  Validation dataset 0\n",
      "             Dataset size : 1256\n",
      "                   Labels : True\n",
      "           Min node count : 12\n",
      "       Average node count : 20.14\n",
      "           Max node count : 58\n",
      "           Min edge count : 26.0\n",
      "       Average edge count : 83.22\n",
      "           Max edge count : 525.0\n",
      "     Min filling fraction : 0.12\n",
      " Average filling fraction : 0.44\n",
      "     Max filling fraction : 1.0\n",
      "          Label \"0\" count : 562\n",
      "          Label \"1\" count : 694\n",
      "----------------------------------------------------------------\n",
      "Statistic of set:  Test dataset 0\n",
      "             Dataset size : 1337\n",
      "                   Labels : True\n",
      "           Min node count : 12\n",
      "       Average node count : 19.53\n",
      "           Max node count : 66\n",
      "           Min edge count : 26.0\n",
      "       Average edge count : 89.38\n",
      "           Max edge count : 785.0\n",
      "     Min filling fraction : 0.16\n",
      " Average filling fraction : 0.46\n",
      "     Max filling fraction : 1.0\n",
      "          Label \"0\" count : 740\n",
      "          Label \"1\" count : 597\n",
      "----------------------------------------------------------------\n"
     ]
    },
    {
     "data": {
      "application/vnd.jupyter.widget-view+json": {
       "model_id": "d5be641c300443d494c089c314dcefa8",
       "version_major": 2,
       "version_minor": 0
      },
      "text/plain": [
       "preparing dataset train for autoencoder:   0%|          | 0/6154 [00:00<?, ?it/s]"
      ]
     },
     "metadata": {},
     "output_type": "display_data"
    },
    {
     "data": {
      "application/vnd.jupyter.widget-view+json": {
       "model_id": "d44950d7695243a3b975bca6cb7f81e5",
       "version_major": 2,
       "version_minor": 0
      },
      "text/plain": [
       "preparing dataset val 0 for autoencoder:   0%|          | 0/1256 [00:00<?, ?it/s]"
      ]
     },
     "metadata": {},
     "output_type": "display_data"
    },
    {
     "data": {
      "application/vnd.jupyter.widget-view+json": {
       "model_id": "2dd1c0de66c84970bcf006a64eb8c190",
       "version_major": 2,
       "version_minor": 0
      },
      "text/plain": [
       "preparing dataset test 0 for autoencoder:   0%|          | 0/1337 [00:00<?, ?it/s]"
      ]
     },
     "metadata": {},
     "output_type": "display_data"
    },
    {
     "data": {
      "application/vnd.jupyter.widget-view+json": {
       "model_id": "f3415da426ab48b2b12dd0302a0c9429",
       "version_major": 2,
       "version_minor": 0
      },
      "text/plain": [
       "reading edges: 0it [00:00, ?it/s]"
      ]
     },
     "metadata": {},
     "output_type": "display_data"
    },
    {
     "name": "stdout",
     "output_type": "stream",
     "text": [
      "Statistic of set:  Full original dataset\n",
      "             Dataset size : 1000\n",
      "                   Labels : True\n",
      "           Min node count : 12\n",
      "       Average node count : 19.77\n",
      "           Max node count : 136\n",
      "           Min edge count : 26.0\n",
      "       Average edge count : 96.53\n",
      "           Max edge count : 1249.0\n",
      "     Min filling fraction : 0.1\n",
      " Average filling fraction : 0.52\n",
      "     Max filling fraction : 1.0\n",
      "          Label \"0\" count : 500\n",
      "          Label \"1\" count : 500\n",
      "----------------------------------------------------------------\n",
      "Dataset pickled successfully\n",
      "File path: /usr/local/datasets/IMDB-BINARY/3.pkl\n",
      "File size: 34.54 MB\n",
      "Statistic of set:  Train dataset\n",
      "             Dataset size : 6061\n",
      "                   Labels : True\n",
      "           Min node count : 12\n",
      "       Average node count : 20.01\n",
      "           Max node count : 136\n",
      "           Min edge count : 26.0\n",
      "       Average edge count : 86.05\n",
      "           Max edge count : 1249.0\n",
      "     Min filling fraction : 0.1\n",
      " Average filling fraction : 0.45\n",
      "     Max filling fraction : 1.0\n",
      "          Label \"0\" count : 2895\n",
      "          Label \"1\" count : 3166\n",
      "----------------------------------------------------------------\n",
      "Statistic of set:  Validation dataset 0\n",
      "             Dataset size : 1329\n",
      "                   Labels : True\n",
      "           Min node count : 12\n",
      "       Average node count : 20.61\n",
      "           Max node count : 69\n",
      "           Min edge count : 26.0\n",
      "       Average edge count : 82.98\n",
      "           Max edge count : 438.0\n",
      "     Min filling fraction : 0.1\n",
      " Average filling fraction : 0.44\n",
      "     Max filling fraction : 1.0\n",
      "          Label \"0\" count : 665\n",
      "          Label \"1\" count : 664\n",
      "----------------------------------------------------------------\n",
      "Statistic of set:  Test dataset 0\n",
      "             Dataset size : 1356\n",
      "                   Labels : True\n",
      "           Min node count : 12\n",
      "       Average node count : 19.98\n",
      "           Max node count : 84\n",
      "           Min edge count : 27.0\n",
      "       Average edge count : 93.63\n",
      "           Max edge count : 785.0\n",
      "     Min filling fraction : 0.11\n",
      " Average filling fraction : 0.48\n",
      "     Max filling fraction : 1.0\n",
      "          Label \"0\" count : 709\n",
      "          Label \"1\" count : 647\n",
      "----------------------------------------------------------------\n"
     ]
    },
    {
     "data": {
      "application/vnd.jupyter.widget-view+json": {
       "model_id": "a6bc57c1c4954af89ac52b5abca1c23d",
       "version_major": 2,
       "version_minor": 0
      },
      "text/plain": [
       "preparing dataset train for autoencoder:   0%|          | 0/6061 [00:00<?, ?it/s]"
      ]
     },
     "metadata": {},
     "output_type": "display_data"
    },
    {
     "data": {
      "application/vnd.jupyter.widget-view+json": {
       "model_id": "1666f081f2d34556ae1f8d44ccd893cd",
       "version_major": 2,
       "version_minor": 0
      },
      "text/plain": [
       "preparing dataset val 0 for autoencoder:   0%|          | 0/1329 [00:00<?, ?it/s]"
      ]
     },
     "metadata": {},
     "output_type": "display_data"
    },
    {
     "data": {
      "application/vnd.jupyter.widget-view+json": {
       "model_id": "744dbf9074474f259667c08f9149cf80",
       "version_major": 2,
       "version_minor": 0
      },
      "text/plain": [
       "preparing dataset test 0 for autoencoder:   0%|          | 0/1356 [00:00<?, ?it/s]"
      ]
     },
     "metadata": {},
     "output_type": "display_data"
    },
    {
     "data": {
      "application/vnd.jupyter.widget-view+json": {
       "model_id": "94ded620889246e6b2109d2e72151cf9",
       "version_major": 2,
       "version_minor": 0
      },
      "text/plain": [
       "reading edges: 0it [00:00, ?it/s]"
      ]
     },
     "metadata": {},
     "output_type": "display_data"
    },
    {
     "name": "stdout",
     "output_type": "stream",
     "text": [
      "Statistic of set:  Full original dataset\n",
      "             Dataset size : 1000\n",
      "                   Labels : True\n",
      "           Min node count : 12\n",
      "       Average node count : 19.77\n",
      "           Max node count : 136\n",
      "           Min edge count : 26.0\n",
      "       Average edge count : 96.53\n",
      "           Max edge count : 1249.0\n",
      "     Min filling fraction : 0.1\n",
      " Average filling fraction : 0.52\n",
      "     Max filling fraction : 1.0\n",
      "          Label \"0\" count : 500\n",
      "          Label \"1\" count : 500\n",
      "----------------------------------------------------------------\n",
      "Dataset pickled successfully\n",
      "File path: /usr/local/datasets/IMDB-BINARY/4.pkl\n",
      "File size: 34.54 MB\n",
      "Statistic of set:  Train dataset\n",
      "             Dataset size : 6136\n",
      "                   Labels : True\n",
      "           Min node count : 12\n",
      "       Average node count : 20.11\n",
      "           Max node count : 136\n",
      "           Min edge count : 26.0\n",
      "       Average edge count : 86.77\n",
      "           Max edge count : 1249.0\n",
      "     Min filling fraction : 0.1\n",
      " Average filling fraction : 0.45\n",
      "     Max filling fraction : 1.0\n",
      "          Label \"0\" count : 3059\n",
      "          Label \"1\" count : 3077\n",
      "----------------------------------------------------------------\n",
      "Statistic of set:  Validation dataset 0\n",
      "             Dataset size : 1275\n",
      "                   Labels : True\n",
      "           Min node count : 12\n",
      "       Average node count : 20.7\n",
      "           Max node count : 72\n",
      "           Min edge count : 26.0\n",
      "       Average edge count : 93.86\n",
      "           Max edge count : 525.0\n",
      "     Min filling fraction : 0.1\n",
      " Average filling fraction : 0.47\n",
      "     Max filling fraction : 1.0\n",
      "          Label \"0\" count : 641\n",
      "          Label \"1\" count : 634\n",
      "----------------------------------------------------------------\n",
      "Statistic of set:  Test dataset 0\n",
      "             Dataset size : 1338\n",
      "                   Labels : True\n",
      "           Min node count : 12\n",
      "       Average node count : 19.43\n",
      "           Max node count : 61\n",
      "           Min edge count : 26.0\n",
      "       Average edge count : 79.83\n",
      "           Max edge count : 785.0\n",
      "     Min filling fraction : 0.12\n",
      " Average filling fraction : 0.45\n",
      "     Max filling fraction : 1.0\n",
      "          Label \"0\" count : 571\n",
      "          Label \"1\" count : 767\n",
      "----------------------------------------------------------------\n"
     ]
    },
    {
     "data": {
      "application/vnd.jupyter.widget-view+json": {
       "model_id": "be8b5a0699b740adbc64ab03425980d5",
       "version_major": 2,
       "version_minor": 0
      },
      "text/plain": [
       "preparing dataset train for autoencoder:   0%|          | 0/6136 [00:00<?, ?it/s]"
      ]
     },
     "metadata": {},
     "output_type": "display_data"
    },
    {
     "data": {
      "application/vnd.jupyter.widget-view+json": {
       "model_id": "e90a68241e2a45acbbf2a1452537e456",
       "version_major": 2,
       "version_minor": 0
      },
      "text/plain": [
       "preparing dataset val 0 for autoencoder:   0%|          | 0/1275 [00:00<?, ?it/s]"
      ]
     },
     "metadata": {},
     "output_type": "display_data"
    },
    {
     "data": {
      "application/vnd.jupyter.widget-view+json": {
       "model_id": "bb6788d8f02f44808af293712efb0aec",
       "version_major": 2,
       "version_minor": 0
      },
      "text/plain": [
       "preparing dataset test 0 for autoencoder:   0%|          | 0/1338 [00:00<?, ?it/s]"
      ]
     },
     "metadata": {},
     "output_type": "display_data"
    }
   ],
   "source": [
    "save_datasets('IMDB-BINARY')"
   ]
  },
  {
   "cell_type": "code",
   "execution_count": 12,
   "id": "c50db477",
   "metadata": {
    "scrolled": true
   },
   "outputs": [
    {
     "data": {
      "application/vnd.jupyter.widget-view+json": {
       "model_id": "869da1c80bec409992089e7cbdfc52e8",
       "version_major": 2,
       "version_minor": 0
      },
      "text/plain": [
       "IMDB-MULTI:   0%|          | 0/5 [00:00<?, ?it/s]"
      ]
     },
     "metadata": {},
     "output_type": "display_data"
    },
    {
     "data": {
      "application/vnd.jupyter.widget-view+json": {
       "model_id": "8c1301190d8a40399a5da7fa62069a56",
       "version_major": 2,
       "version_minor": 0
      },
      "text/plain": [
       "reading edges: 0it [00:00, ?it/s]"
      ]
     },
     "metadata": {},
     "output_type": "display_data"
    },
    {
     "name": "stdout",
     "output_type": "stream",
     "text": [
      "Statistic of set:  Full original dataset\n",
      "             Dataset size : 1500\n",
      "                   Labels : True\n",
      "           Min node count : 7\n",
      "       Average node count : 13.0\n",
      "           Max node count : 89\n",
      "           Min edge count : 12.0\n",
      "       Average edge count : 65.94\n",
      "           Max edge count : 1467.0\n",
      "     Min filling fraction : 0.13\n",
      " Average filling fraction : 0.77\n",
      "     Max filling fraction : 1.0\n",
      "          Label \"1\" count : 500\n",
      "          Label \"2\" count : 500\n",
      "          Label \"3\" count : 500\n",
      "----------------------------------------------------------------\n",
      "Dataset pickled successfully\n",
      "File path: /usr/local/datasets/IMDB-MULTI/0.pkl\n",
      "File size: 21.42 MB\n",
      "Statistic of set:  Train dataset\n",
      "             Dataset size : 5450\n",
      "                   Labels : True\n",
      "           Min node count : 7\n",
      "       Average node count : 15.8\n",
      "           Max node count : 78\n",
      "           Min edge count : 12.0\n",
      "       Average edge count : 72.93\n",
      "           Max edge count : 982.0\n",
      "     Min filling fraction : 0.13\n",
      " Average filling fraction : 0.57\n",
      "     Max filling fraction : 1.0\n",
      "          Label \"1\" count : 2091\n",
      "          Label \"2\" count : 1798\n",
      "          Label \"3\" count : 1561\n",
      "----------------------------------------------------------------\n",
      "Statistic of set:  Validation dataset 0\n",
      "             Dataset size : 1235\n",
      "                   Labels : True\n",
      "           Min node count : 7\n",
      "       Average node count : 15.92\n",
      "           Max node count : 51\n",
      "           Min edge count : 12.0\n",
      "       Average edge count : 77.68\n",
      "           Max edge count : 858.0\n",
      "     Min filling fraction : 0.17\n",
      " Average filling fraction : 0.56\n",
      "     Max filling fraction : 1.0\n",
      "          Label \"1\" count : 426\n",
      "          Label \"2\" count : 456\n",
      "          Label \"3\" count : 353\n",
      "----------------------------------------------------------------\n",
      "Statistic of set:  Test dataset 0\n",
      "             Dataset size : 1187\n",
      "                   Labels : True\n",
      "           Min node count : 7\n",
      "       Average node count : 16.83\n",
      "           Max node count : 89\n",
      "           Min edge count : 12.0\n",
      "       Average edge count : 87.07\n",
      "           Max edge count : 1467.0\n",
      "     Min filling fraction : 0.13\n",
      " Average filling fraction : 0.56\n",
      "     Max filling fraction : 1.0\n",
      "          Label \"1\" count : 496\n",
      "          Label \"2\" count : 388\n",
      "          Label \"3\" count : 303\n",
      "----------------------------------------------------------------\n"
     ]
    },
    {
     "data": {
      "application/vnd.jupyter.widget-view+json": {
       "model_id": "44ac7ae48586469095fa8a5cf205791a",
       "version_major": 2,
       "version_minor": 0
      },
      "text/plain": [
       "preparing dataset train for autoencoder:   0%|          | 0/5450 [00:00<?, ?it/s]"
      ]
     },
     "metadata": {},
     "output_type": "display_data"
    },
    {
     "data": {
      "application/vnd.jupyter.widget-view+json": {
       "model_id": "d41d6549066f4fcf8f2ab5169ad50344",
       "version_major": 2,
       "version_minor": 0
      },
      "text/plain": [
       "preparing dataset val 0 for autoencoder:   0%|          | 0/1235 [00:00<?, ?it/s]"
      ]
     },
     "metadata": {},
     "output_type": "display_data"
    },
    {
     "data": {
      "application/vnd.jupyter.widget-view+json": {
       "model_id": "a5136ea53fca44649dae3d5ee7565ff2",
       "version_major": 2,
       "version_minor": 0
      },
      "text/plain": [
       "preparing dataset test 0 for autoencoder:   0%|          | 0/1187 [00:00<?, ?it/s]"
      ]
     },
     "metadata": {},
     "output_type": "display_data"
    },
    {
     "data": {
      "application/vnd.jupyter.widget-view+json": {
       "model_id": "78de61808b404a858bdbcd647f800c6c",
       "version_major": 2,
       "version_minor": 0
      },
      "text/plain": [
       "reading edges: 0it [00:00, ?it/s]"
      ]
     },
     "metadata": {},
     "output_type": "display_data"
    },
    {
     "name": "stdout",
     "output_type": "stream",
     "text": [
      "Statistic of set:  Full original dataset\n",
      "             Dataset size : 1500\n",
      "                   Labels : True\n",
      "           Min node count : 7\n",
      "       Average node count : 13.0\n",
      "           Max node count : 89\n",
      "           Min edge count : 12.0\n",
      "       Average edge count : 65.94\n",
      "           Max edge count : 1467.0\n",
      "     Min filling fraction : 0.13\n",
      " Average filling fraction : 0.77\n",
      "     Max filling fraction : 1.0\n",
      "          Label \"1\" count : 500\n",
      "          Label \"2\" count : 500\n",
      "          Label \"3\" count : 500\n",
      "----------------------------------------------------------------\n",
      "Dataset pickled successfully\n",
      "File path: /usr/local/datasets/IMDB-MULTI/1.pkl\n",
      "File size: 21.42 MB\n",
      "Statistic of set:  Train dataset\n",
      "             Dataset size : 5459\n",
      "                   Labels : True\n",
      "           Min node count : 7\n",
      "       Average node count : 15.72\n",
      "           Max node count : 89\n",
      "           Min edge count : 12.0\n",
      "       Average edge count : 72.3\n",
      "           Max edge count : 1467.0\n",
      "     Min filling fraction : 0.13\n",
      " Average filling fraction : 0.56\n",
      "     Max filling fraction : 1.0\n",
      "          Label \"1\" count : 2137\n",
      "          Label \"2\" count : 1845\n",
      "          Label \"3\" count : 1477\n",
      "----------------------------------------------------------------\n",
      "Statistic of set:  Validation dataset 0\n",
      "             Dataset size : 1265\n",
      "                   Labels : True\n",
      "           Min node count : 7\n",
      "       Average node count : 16.42\n",
      "           Max node count : 54\n",
      "           Min edge count : 13.0\n",
      "       Average edge count : 77.56\n",
      "           Max edge count : 703.0\n",
      "     Min filling fraction : 0.14\n",
      " Average filling fraction : 0.57\n",
      "     Max filling fraction : 1.0\n",
      "          Label \"1\" count : 558\n",
      "          Label \"2\" count : 417\n",
      "          Label \"3\" count : 290\n",
      "----------------------------------------------------------------\n",
      "Statistic of set:  Test dataset 0\n",
      "             Dataset size : 1142\n",
      "                   Labels : True\n",
      "           Min node count : 7\n",
      "       Average node count : 16.71\n",
      "           Max node count : 60\n",
      "           Min edge count : 16.0\n",
      "       Average edge count : 90.94\n",
      "           Max edge count : 982.0\n",
      "     Min filling fraction : 0.17\n",
      " Average filling fraction : 0.59\n",
      "     Max filling fraction : 1.0\n",
      "          Label \"1\" count : 312\n",
      "          Label \"2\" count : 380\n",
      "          Label \"3\" count : 450\n",
      "----------------------------------------------------------------\n"
     ]
    },
    {
     "data": {
      "application/vnd.jupyter.widget-view+json": {
       "model_id": "8e99e6b82c9e4d8b8715fa01e7e591db",
       "version_major": 2,
       "version_minor": 0
      },
      "text/plain": [
       "preparing dataset train for autoencoder:   0%|          | 0/5459 [00:00<?, ?it/s]"
      ]
     },
     "metadata": {},
     "output_type": "display_data"
    },
    {
     "data": {
      "application/vnd.jupyter.widget-view+json": {
       "model_id": "867320229146434198deb89a74cd7ae1",
       "version_major": 2,
       "version_minor": 0
      },
      "text/plain": [
       "preparing dataset val 0 for autoencoder:   0%|          | 0/1265 [00:00<?, ?it/s]"
      ]
     },
     "metadata": {},
     "output_type": "display_data"
    },
    {
     "data": {
      "application/vnd.jupyter.widget-view+json": {
       "model_id": "f8d45520debf48d6838c3434de5822a2",
       "version_major": 2,
       "version_minor": 0
      },
      "text/plain": [
       "preparing dataset test 0 for autoencoder:   0%|          | 0/1142 [00:00<?, ?it/s]"
      ]
     },
     "metadata": {},
     "output_type": "display_data"
    },
    {
     "data": {
      "application/vnd.jupyter.widget-view+json": {
       "model_id": "ca5aea65d1b745eb9e0a21837efed6c6",
       "version_major": 2,
       "version_minor": 0
      },
      "text/plain": [
       "reading edges: 0it [00:00, ?it/s]"
      ]
     },
     "metadata": {},
     "output_type": "display_data"
    },
    {
     "name": "stdout",
     "output_type": "stream",
     "text": [
      "Statistic of set:  Full original dataset\n",
      "             Dataset size : 1500\n",
      "                   Labels : True\n",
      "           Min node count : 7\n",
      "       Average node count : 13.0\n",
      "           Max node count : 89\n",
      "           Min edge count : 12.0\n",
      "       Average edge count : 65.94\n",
      "           Max edge count : 1467.0\n",
      "     Min filling fraction : 0.13\n",
      " Average filling fraction : 0.77\n",
      "     Max filling fraction : 1.0\n",
      "          Label \"1\" count : 500\n",
      "          Label \"2\" count : 500\n",
      "          Label \"3\" count : 500\n",
      "----------------------------------------------------------------\n",
      "Dataset pickled successfully\n",
      "File path: /usr/local/datasets/IMDB-MULTI/2.pkl\n",
      "File size: 21.42 MB\n",
      "Statistic of set:  Train dataset\n",
      "             Dataset size : 5494\n",
      "                   Labels : True\n",
      "           Min node count : 7\n",
      "       Average node count : 16.1\n",
      "           Max node count : 78\n",
      "           Min edge count : 12.0\n",
      "       Average edge count : 74.04\n",
      "           Max edge count : 982.0\n",
      "     Min filling fraction : 0.13\n",
      " Average filling fraction : 0.57\n",
      "     Max filling fraction : 1.0\n",
      "          Label \"1\" count : 2264\n",
      "          Label \"2\" count : 1677\n",
      "          Label \"3\" count : 1553\n",
      "----------------------------------------------------------------\n",
      "Statistic of set:  Validation dataset 0\n",
      "             Dataset size : 1219\n",
      "                   Labels : True\n",
      "           Min node count : 7\n",
      "       Average node count : 15.85\n",
      "           Max node count : 63\n",
      "           Min edge count : 12.0\n",
      "       Average edge count : 72.71\n",
      "           Max edge count : 594.0\n",
      "     Min filling fraction : 0.17\n",
      " Average filling fraction : 0.56\n",
      "     Max filling fraction : 1.0\n",
      "          Label \"1\" count : 305\n",
      "          Label \"2\" count : 513\n",
      "          Label \"3\" count : 401\n",
      "----------------------------------------------------------------\n",
      "Statistic of set:  Test dataset 0\n",
      "             Dataset size : 1154\n",
      "                   Labels : True\n",
      "           Min node count : 7\n",
      "       Average node count : 15.53\n",
      "           Max node count : 89\n",
      "           Min edge count : 13.0\n",
      "       Average edge count : 87.76\n",
      "           Max edge count : 1467.0\n",
      "     Min filling fraction : 0.16\n",
      " Average filling fraction : 0.58\n",
      "     Max filling fraction : 1.0\n",
      "          Label \"1\" count : 435\n",
      "          Label \"2\" count : 456\n",
      "          Label \"3\" count : 263\n",
      "----------------------------------------------------------------\n"
     ]
    },
    {
     "data": {
      "application/vnd.jupyter.widget-view+json": {
       "model_id": "c106ab4603454a52ae6022e6fb122bf5",
       "version_major": 2,
       "version_minor": 0
      },
      "text/plain": [
       "preparing dataset train for autoencoder:   0%|          | 0/5494 [00:00<?, ?it/s]"
      ]
     },
     "metadata": {},
     "output_type": "display_data"
    },
    {
     "data": {
      "application/vnd.jupyter.widget-view+json": {
       "model_id": "81b5b280744c477bac417f654b76e0fc",
       "version_major": 2,
       "version_minor": 0
      },
      "text/plain": [
       "preparing dataset val 0 for autoencoder:   0%|          | 0/1219 [00:00<?, ?it/s]"
      ]
     },
     "metadata": {},
     "output_type": "display_data"
    },
    {
     "data": {
      "application/vnd.jupyter.widget-view+json": {
       "model_id": "0c1e8cecadbd463da768db207cfbb188",
       "version_major": 2,
       "version_minor": 0
      },
      "text/plain": [
       "preparing dataset test 0 for autoencoder:   0%|          | 0/1154 [00:00<?, ?it/s]"
      ]
     },
     "metadata": {},
     "output_type": "display_data"
    },
    {
     "data": {
      "application/vnd.jupyter.widget-view+json": {
       "model_id": "a46728d2ef9542688ddf75392cf6c31c",
       "version_major": 2,
       "version_minor": 0
      },
      "text/plain": [
       "reading edges: 0it [00:00, ?it/s]"
      ]
     },
     "metadata": {},
     "output_type": "display_data"
    },
    {
     "name": "stdout",
     "output_type": "stream",
     "text": [
      "Statistic of set:  Full original dataset\n",
      "             Dataset size : 1500\n",
      "                   Labels : True\n",
      "           Min node count : 7\n",
      "       Average node count : 13.0\n",
      "           Max node count : 89\n",
      "           Min edge count : 12.0\n",
      "       Average edge count : 65.94\n",
      "           Max edge count : 1467.0\n",
      "     Min filling fraction : 0.13\n",
      " Average filling fraction : 0.77\n",
      "     Max filling fraction : 1.0\n",
      "          Label \"1\" count : 500\n",
      "          Label \"2\" count : 500\n",
      "          Label \"3\" count : 500\n",
      "----------------------------------------------------------------\n",
      "Dataset pickled successfully\n",
      "File path: /usr/local/datasets/IMDB-MULTI/3.pkl\n",
      "File size: 21.43 MB\n",
      "Statistic of set:  Train dataset\n",
      "             Dataset size : 5597\n",
      "                   Labels : True\n",
      "           Min node count : 7\n",
      "       Average node count : 16.13\n",
      "           Max node count : 78\n",
      "           Min edge count : 12.0\n",
      "       Average edge count : 75.41\n",
      "           Max edge count : 982.0\n",
      "     Min filling fraction : 0.13\n",
      " Average filling fraction : 0.56\n",
      "     Max filling fraction : 1.0\n",
      "          Label \"1\" count : 2200\n",
      "          Label \"2\" count : 1915\n",
      "          Label \"3\" count : 1482\n",
      "----------------------------------------------------------------\n",
      "Statistic of set:  Validation dataset 0\n",
      "             Dataset size : 1068\n",
      "                   Labels : True\n",
      "           Min node count : 7\n",
      "       Average node count : 16.26\n",
      "           Max node count : 89\n",
      "           Min edge count : 13.0\n",
      "       Average edge count : 85.65\n",
      "           Max edge count : 1467.0\n",
      "     Min filling fraction : 0.14\n",
      " Average filling fraction : 0.58\n",
      "     Max filling fraction : 1.0\n",
      "          Label \"1\" count : 337\n",
      "          Label \"2\" count : 378\n",
      "          Label \"3\" count : 353\n",
      "----------------------------------------------------------------\n",
      "Statistic of set:  Test dataset 0\n",
      "             Dataset size : 1209\n",
      "                   Labels : True\n",
      "           Min node count : 7\n",
      "       Average node count : 14.98\n",
      "           Max node count : 63\n",
      "           Min edge count : 12.0\n",
      "       Average edge count : 68.96\n",
      "           Max edge count : 902.0\n",
      "     Min filling fraction : 0.16\n",
      " Average filling fraction : 0.58\n",
      "     Max filling fraction : 1.0\n",
      "          Label \"1\" count : 471\n",
      "          Label \"2\" count : 353\n",
      "          Label \"3\" count : 385\n",
      "----------------------------------------------------------------\n"
     ]
    },
    {
     "data": {
      "application/vnd.jupyter.widget-view+json": {
       "model_id": "7ed1d19d8b964352a9c8e90777bdb59f",
       "version_major": 2,
       "version_minor": 0
      },
      "text/plain": [
       "preparing dataset train for autoencoder:   0%|          | 0/5597 [00:00<?, ?it/s]"
      ]
     },
     "metadata": {},
     "output_type": "display_data"
    },
    {
     "data": {
      "application/vnd.jupyter.widget-view+json": {
       "model_id": "199809d2a1684129ae8f54d8d1c656fc",
       "version_major": 2,
       "version_minor": 0
      },
      "text/plain": [
       "preparing dataset val 0 for autoencoder:   0%|          | 0/1068 [00:00<?, ?it/s]"
      ]
     },
     "metadata": {},
     "output_type": "display_data"
    },
    {
     "data": {
      "application/vnd.jupyter.widget-view+json": {
       "model_id": "feeafe83b3294d76b7c2f3fd7fd1fb70",
       "version_major": 2,
       "version_minor": 0
      },
      "text/plain": [
       "preparing dataset test 0 for autoencoder:   0%|          | 0/1209 [00:00<?, ?it/s]"
      ]
     },
     "metadata": {},
     "output_type": "display_data"
    },
    {
     "data": {
      "application/vnd.jupyter.widget-view+json": {
       "model_id": "31bffcd61a694cd3b9413df6c4ab321a",
       "version_major": 2,
       "version_minor": 0
      },
      "text/plain": [
       "reading edges: 0it [00:00, ?it/s]"
      ]
     },
     "metadata": {},
     "output_type": "display_data"
    },
    {
     "name": "stdout",
     "output_type": "stream",
     "text": [
      "Statistic of set:  Full original dataset\n",
      "             Dataset size : 1500\n",
      "                   Labels : True\n",
      "           Min node count : 7\n",
      "       Average node count : 13.0\n",
      "           Max node count : 89\n",
      "           Min edge count : 12.0\n",
      "       Average edge count : 65.94\n",
      "           Max edge count : 1467.0\n",
      "     Min filling fraction : 0.13\n",
      " Average filling fraction : 0.77\n",
      "     Max filling fraction : 1.0\n",
      "          Label \"1\" count : 500\n",
      "          Label \"2\" count : 500\n",
      "          Label \"3\" count : 500\n",
      "----------------------------------------------------------------\n",
      "Dataset pickled successfully\n",
      "File path: /usr/local/datasets/IMDB-MULTI/4.pkl\n",
      "File size: 21.42 MB\n",
      "Statistic of set:  Train dataset\n",
      "             Dataset size : 5515\n",
      "                   Labels : True\n",
      "           Min node count : 7\n",
      "       Average node count : 16.07\n",
      "           Max node count : 89\n",
      "           Min edge count : 12.0\n",
      "       Average edge count : 79.82\n",
      "           Max edge count : 1467.0\n",
      "     Min filling fraction : 0.13\n",
      " Average filling fraction : 0.57\n",
      "     Max filling fraction : 1.0\n",
      "          Label \"1\" count : 1970\n",
      "          Label \"2\" count : 1921\n",
      "          Label \"3\" count : 1624\n",
      "----------------------------------------------------------------\n",
      "Statistic of set:  Validation dataset 0\n",
      "             Dataset size : 1103\n",
      "                   Labels : True\n",
      "           Min node count : 7\n",
      "       Average node count : 16.32\n",
      "           Max node count : 54\n",
      "           Min edge count : 12.0\n",
      "       Average edge count : 74.53\n",
      "           Max edge count : 719.0\n",
      "     Min filling fraction : 0.13\n",
      " Average filling fraction : 0.55\n",
      "     Max filling fraction : 1.0\n",
      "          Label \"1\" count : 424\n",
      "          Label \"2\" count : 383\n",
      "          Label \"3\" count : 296\n",
      "----------------------------------------------------------------\n",
      "Statistic of set:  Test dataset 0\n",
      "             Dataset size : 1245\n",
      "                   Labels : True\n",
      "           Min node count : 7\n",
      "       Average node count : 15.28\n",
      "           Max node count : 52\n",
      "           Min edge count : 12.0\n",
      "       Average edge count : 59.59\n",
      "           Max edge count : 731.0\n",
      "     Min filling fraction : 0.14\n",
      " Average filling fraction : 0.56\n",
      "     Max filling fraction : 1.0\n",
      "          Label \"1\" count : 610\n",
      "          Label \"2\" count : 337\n",
      "          Label \"3\" count : 298\n",
      "----------------------------------------------------------------\n"
     ]
    },
    {
     "data": {
      "application/vnd.jupyter.widget-view+json": {
       "model_id": "7144b8cf29934b0fbf4179ccb79194cb",
       "version_major": 2,
       "version_minor": 0
      },
      "text/plain": [
       "preparing dataset train for autoencoder:   0%|          | 0/5515 [00:00<?, ?it/s]"
      ]
     },
     "metadata": {},
     "output_type": "display_data"
    },
    {
     "data": {
      "application/vnd.jupyter.widget-view+json": {
       "model_id": "c4f702796185461f8969fc370e58d4cb",
       "version_major": 2,
       "version_minor": 0
      },
      "text/plain": [
       "preparing dataset val 0 for autoencoder:   0%|          | 0/1103 [00:00<?, ?it/s]"
      ]
     },
     "metadata": {},
     "output_type": "display_data"
    },
    {
     "data": {
      "application/vnd.jupyter.widget-view+json": {
       "model_id": "a6ace86f8e6c4d08b9f3ed1fb0b1d4fa",
       "version_major": 2,
       "version_minor": 0
      },
      "text/plain": [
       "preparing dataset test 0 for autoencoder:   0%|          | 0/1245 [00:00<?, ?it/s]"
      ]
     },
     "metadata": {},
     "output_type": "display_data"
    }
   ],
   "source": [
    "save_datasets('IMDB-MULTI')"
   ]
  },
  {
   "cell_type": "code",
   "execution_count": 13,
   "id": "cc1e5f1d",
   "metadata": {
    "scrolled": true
   },
   "outputs": [
    {
     "data": {
      "application/vnd.jupyter.widget-view+json": {
       "model_id": "b28598ad87d648fc9b02a08d275442ae",
       "version_major": 2,
       "version_minor": 0
      },
      "text/plain": [
       "COLLAB:   0%|          | 0/5 [00:00<?, ?it/s]"
      ]
     },
     "metadata": {},
     "output_type": "display_data"
    },
    {
     "data": {
      "application/vnd.jupyter.widget-view+json": {
       "model_id": "4ae1a4f593554901b6df6a44c78ef36a",
       "version_major": 2,
       "version_minor": 0
      },
      "text/plain": [
       "reading edges: 0it [00:00, ?it/s]"
      ]
     },
     "metadata": {},
     "output_type": "display_data"
    },
    {
     "name": "stdout",
     "output_type": "stream",
     "text": [
      "Statistic of set:  Full original dataset\n",
      "             Dataset size : 5000\n",
      "                   Labels : True\n",
      "           Min node count : 32\n",
      "       Average node count : 74.49\n",
      "           Max node count : 492\n",
      "           Min edge count : 60.0\n",
      "       Average edge count : 2457.5\n",
      "           Max edge count : 40119.5\n",
      "     Min filling fraction : 0.03\n",
      " Average filling fraction : 0.51\n",
      "     Max filling fraction : 1.0\n",
      "          Label \"1\" count : 2600\n",
      "          Label \"2\" count : 775\n",
      "          Label \"3\" count : 1625\n",
      "----------------------------------------------------------------\n",
      "Dataset pickled successfully\n",
      "File path: /usr/local/datasets/COLLAB/0.pkl\n",
      "File size: 3.4 GB\n",
      "Statistic of set:  Train dataset\n",
      "             Dataset size : 31785\n",
      "                   Labels : True\n",
      "           Min node count : 32\n",
      "       Average node count : 76.55\n",
      "           Max node count : 487\n",
      "           Min edge count : 61.0\n",
      "       Average edge count : 2525.05\n",
      "           Max edge count : 40119.5\n",
      "     Min filling fraction : 0.03\n",
      " Average filling fraction : 0.46\n",
      "     Max filling fraction : 1.0\n",
      "          Label \"1\" count : 17642\n",
      "          Label \"2\" count : 5260\n",
      "          Label \"3\" count : 8883\n",
      "----------------------------------------------------------------\n",
      "Statistic of set:  Validation dataset 0\n",
      "             Dataset size : 6828\n",
      "                   Labels : True\n",
      "           Min node count : 32\n",
      "       Average node count : 78.35\n",
      "           Max node count : 444\n",
      "           Min edge count : 63.0\n",
      "       Average edge count : 2835.73\n",
      "           Max edge count : 39225.5\n",
      "     Min filling fraction : 0.07\n",
      " Average filling fraction : 0.45\n",
      "     Max filling fraction : 1.0\n",
      "          Label \"1\" count : 3681\n",
      "          Label \"2\" count : 1280\n",
      "          Label \"3\" count : 1867\n",
      "----------------------------------------------------------------\n",
      "Statistic of set:  Test dataset 0\n",
      "             Dataset size : 6632\n",
      "                   Labels : True\n",
      "           Min node count : 32\n",
      "       Average node count : 77.13\n",
      "           Max node count : 492\n",
      "           Min edge count : 60.0\n",
      "       Average edge count : 2408.8\n",
      "           Max edge count : 37674.0\n",
      "     Min filling fraction : 0.06\n",
      " Average filling fraction : 0.46\n",
      "     Max filling fraction : 1.0\n",
      "          Label \"1\" count : 3559\n",
      "          Label \"2\" count : 1210\n",
      "          Label \"3\" count : 1863\n",
      "----------------------------------------------------------------\n"
     ]
    },
    {
     "data": {
      "application/vnd.jupyter.widget-view+json": {
       "model_id": "0e5fffd23ea94355bd6155686f392349",
       "version_major": 2,
       "version_minor": 0
      },
      "text/plain": [
       "preparing dataset train for autoencoder:   0%|          | 0/31785 [00:00<?, ?it/s]"
      ]
     },
     "metadata": {},
     "output_type": "display_data"
    },
    {
     "data": {
      "application/vnd.jupyter.widget-view+json": {
       "model_id": "d17f8aa1771f4ceeb2688f1a06d37127",
       "version_major": 2,
       "version_minor": 0
      },
      "text/plain": [
       "preparing dataset val 0 for autoencoder:   0%|          | 0/6828 [00:00<?, ?it/s]"
      ]
     },
     "metadata": {},
     "output_type": "display_data"
    },
    {
     "data": {
      "application/vnd.jupyter.widget-view+json": {
       "model_id": "4b4cf477f81146f6a74f1a1eec8ff2bd",
       "version_major": 2,
       "version_minor": 0
      },
      "text/plain": [
       "preparing dataset test 0 for autoencoder:   0%|          | 0/6632 [00:00<?, ?it/s]"
      ]
     },
     "metadata": {},
     "output_type": "display_data"
    },
    {
     "data": {
      "application/vnd.jupyter.widget-view+json": {
       "model_id": "c9575f84b45241cfbc38ddedde847b86",
       "version_major": 2,
       "version_minor": 0
      },
      "text/plain": [
       "reading edges: 0it [00:00, ?it/s]"
      ]
     },
     "metadata": {},
     "output_type": "display_data"
    },
    {
     "name": "stdout",
     "output_type": "stream",
     "text": [
      "Statistic of set:  Full original dataset\n",
      "             Dataset size : 5000\n",
      "                   Labels : True\n",
      "           Min node count : 32\n",
      "       Average node count : 74.49\n",
      "           Max node count : 492\n",
      "           Min edge count : 60.0\n",
      "       Average edge count : 2457.5\n",
      "           Max edge count : 40119.5\n",
      "     Min filling fraction : 0.03\n",
      " Average filling fraction : 0.51\n",
      "     Max filling fraction : 1.0\n",
      "          Label \"1\" count : 2600\n",
      "          Label \"2\" count : 775\n",
      "          Label \"3\" count : 1625\n",
      "----------------------------------------------------------------\n",
      "Dataset pickled successfully\n",
      "File path: /usr/local/datasets/COLLAB/1.pkl\n",
      "File size: 3.4 GB\n",
      "Statistic of set:  Train dataset\n",
      "             Dataset size : 31734\n",
      "                   Labels : True\n",
      "           Min node count : 32\n",
      "       Average node count : 77.14\n",
      "           Max node count : 492\n",
      "           Min edge count : 60.0\n",
      "       Average edge count : 2569.83\n",
      "           Max edge count : 40119.5\n",
      "     Min filling fraction : 0.05\n",
      " Average filling fraction : 0.46\n",
      "     Max filling fraction : 1.0\n",
      "          Label \"1\" count : 17596\n",
      "          Label \"2\" count : 5530\n",
      "          Label \"3\" count : 8608\n",
      "----------------------------------------------------------------\n",
      "Statistic of set:  Validation dataset 0\n",
      "             Dataset size : 6771\n",
      "                   Labels : True\n",
      "           Min node count : 32\n",
      "       Average node count : 72.55\n",
      "           Max node count : 483\n",
      "           Min edge count : 75.0\n",
      "       Average edge count : 2312.55\n",
      "           Max edge count : 40008.0\n",
      "     Min filling fraction : 0.05\n",
      " Average filling fraction : 0.46\n",
      "     Max filling fraction : 1.0\n",
      "          Label \"1\" count : 3797\n",
      "          Label \"2\" count : 1040\n",
      "          Label \"3\" count : 1934\n",
      "----------------------------------------------------------------\n",
      "Statistic of set:  Test dataset 0\n",
      "             Dataset size : 6739\n",
      "                   Labels : True\n",
      "           Min node count : 32\n",
      "       Average node count : 80.11\n",
      "           Max node count : 441\n",
      "           Min edge count : 63.0\n",
      "       Average edge count : 2726.01\n",
      "           Max edge count : 37762.5\n",
      "     Min filling fraction : 0.03\n",
      " Average filling fraction : 0.46\n",
      "     Max filling fraction : 1.0\n",
      "          Label \"1\" count : 3484\n",
      "          Label \"2\" count : 1180\n",
      "          Label \"3\" count : 2075\n",
      "----------------------------------------------------------------\n"
     ]
    },
    {
     "data": {
      "application/vnd.jupyter.widget-view+json": {
       "model_id": "0a104010919349e48b6b970cd2ef7837",
       "version_major": 2,
       "version_minor": 0
      },
      "text/plain": [
       "preparing dataset train for autoencoder:   0%|          | 0/31734 [00:00<?, ?it/s]"
      ]
     },
     "metadata": {},
     "output_type": "display_data"
    },
    {
     "data": {
      "application/vnd.jupyter.widget-view+json": {
       "model_id": "4a8fc1ff80104099a1da862141387baf",
       "version_major": 2,
       "version_minor": 0
      },
      "text/plain": [
       "preparing dataset val 0 for autoencoder:   0%|          | 0/6771 [00:00<?, ?it/s]"
      ]
     },
     "metadata": {},
     "output_type": "display_data"
    },
    {
     "data": {
      "application/vnd.jupyter.widget-view+json": {
       "model_id": "34912f4d20f2459facf5e3f94eb22204",
       "version_major": 2,
       "version_minor": 0
      },
      "text/plain": [
       "preparing dataset test 0 for autoencoder:   0%|          | 0/6739 [00:00<?, ?it/s]"
      ]
     },
     "metadata": {},
     "output_type": "display_data"
    },
    {
     "data": {
      "application/vnd.jupyter.widget-view+json": {
       "model_id": "5abac8e52b334f979e5260a9f9223c70",
       "version_major": 2,
       "version_minor": 0
      },
      "text/plain": [
       "reading edges: 0it [00:00, ?it/s]"
      ]
     },
     "metadata": {},
     "output_type": "display_data"
    },
    {
     "name": "stdout",
     "output_type": "stream",
     "text": [
      "Statistic of set:  Full original dataset\n",
      "             Dataset size : 5000\n",
      "                   Labels : True\n",
      "           Min node count : 32\n",
      "       Average node count : 74.49\n",
      "           Max node count : 492\n",
      "           Min edge count : 60.0\n",
      "       Average edge count : 2457.5\n",
      "           Max edge count : 40119.5\n",
      "     Min filling fraction : 0.03\n",
      " Average filling fraction : 0.51\n",
      "     Max filling fraction : 1.0\n",
      "          Label \"1\" count : 2600\n",
      "          Label \"2\" count : 775\n",
      "          Label \"3\" count : 1625\n",
      "----------------------------------------------------------------\n",
      "Dataset pickled successfully\n",
      "File path: /usr/local/datasets/COLLAB/2.pkl\n",
      "File size: 3.4 GB\n",
      "Statistic of set:  Train dataset\n",
      "             Dataset size : 31648\n",
      "                   Labels : True\n",
      "           Min node count : 32\n",
      "       Average node count : 77.05\n",
      "           Max node count : 487\n",
      "           Min edge count : 60.0\n",
      "       Average edge count : 2549.15\n",
      "           Max edge count : 40119.5\n",
      "     Min filling fraction : 0.03\n",
      " Average filling fraction : 0.46\n",
      "     Max filling fraction : 1.0\n",
      "          Label \"1\" count : 17187\n",
      "          Label \"2\" count : 5430\n",
      "          Label \"3\" count : 9031\n",
      "----------------------------------------------------------------\n",
      "Statistic of set:  Validation dataset 0\n",
      "             Dataset size : 6780\n",
      "                   Labels : True\n",
      "           Min node count : 32\n",
      "       Average node count : 76.03\n",
      "           Max node count : 492\n",
      "           Min edge count : 67.0\n",
      "       Average edge count : 2669.26\n",
      "           Max edge count : 39225.5\n",
      "     Min filling fraction : 0.07\n",
      " Average filling fraction : 0.45\n",
      "     Max filling fraction : 1.0\n",
      "          Label \"1\" count : 3803\n",
      "          Label \"2\" count : 1240\n",
      "          Label \"3\" count : 1737\n",
      "----------------------------------------------------------------\n",
      "Statistic of set:  Test dataset 0\n",
      "             Dataset size : 6796\n",
      "                   Labels : True\n",
      "           Min node count : 32\n",
      "       Average node count : 76.98\n",
      "           Max node count : 424\n",
      "           Min edge count : 72.0\n",
      "       Average edge count : 2447.61\n",
      "           Max edge count : 35893.5\n",
      "     Min filling fraction : 0.05\n",
      " Average filling fraction : 0.45\n",
      "     Max filling fraction : 1.0\n",
      "          Label \"1\" count : 3881\n",
      "          Label \"2\" count : 1080\n",
      "          Label \"3\" count : 1835\n",
      "----------------------------------------------------------------\n"
     ]
    },
    {
     "data": {
      "application/vnd.jupyter.widget-view+json": {
       "model_id": "ef340d37a47a495a9c6eabf5c89ae882",
       "version_major": 2,
       "version_minor": 0
      },
      "text/plain": [
       "preparing dataset train for autoencoder:   0%|          | 0/31648 [00:00<?, ?it/s]"
      ]
     },
     "metadata": {},
     "output_type": "display_data"
    },
    {
     "data": {
      "application/vnd.jupyter.widget-view+json": {
       "model_id": "f2e0e85288994a1e8b26f547e7a1b6c2",
       "version_major": 2,
       "version_minor": 0
      },
      "text/plain": [
       "preparing dataset val 0 for autoencoder:   0%|          | 0/6780 [00:00<?, ?it/s]"
      ]
     },
     "metadata": {},
     "output_type": "display_data"
    },
    {
     "data": {
      "application/vnd.jupyter.widget-view+json": {
       "model_id": "af33d358067942a5ae6ba2a351f6b62b",
       "version_major": 2,
       "version_minor": 0
      },
      "text/plain": [
       "preparing dataset test 0 for autoencoder:   0%|          | 0/6796 [00:00<?, ?it/s]"
      ]
     },
     "metadata": {},
     "output_type": "display_data"
    },
    {
     "data": {
      "application/vnd.jupyter.widget-view+json": {
       "model_id": "2d8e4bbf1081405dba506a8790105d24",
       "version_major": 2,
       "version_minor": 0
      },
      "text/plain": [
       "reading edges: 0it [00:00, ?it/s]"
      ]
     },
     "metadata": {},
     "output_type": "display_data"
    },
    {
     "name": "stdout",
     "output_type": "stream",
     "text": [
      "Statistic of set:  Full original dataset\n",
      "             Dataset size : 5000\n",
      "                   Labels : True\n",
      "           Min node count : 32\n",
      "       Average node count : 74.49\n",
      "           Max node count : 492\n",
      "           Min edge count : 60.0\n",
      "       Average edge count : 2457.5\n",
      "           Max edge count : 40119.5\n",
      "     Min filling fraction : 0.03\n",
      " Average filling fraction : 0.51\n",
      "     Max filling fraction : 1.0\n",
      "          Label \"1\" count : 2600\n",
      "          Label \"2\" count : 775\n",
      "          Label \"3\" count : 1625\n",
      "----------------------------------------------------------------\n",
      "Dataset pickled successfully\n",
      "File path: /usr/local/datasets/COLLAB/3.pkl\n",
      "File size: 3.4 GB\n",
      "Statistic of set:  Train dataset\n",
      "             Dataset size : 31659\n",
      "                   Labels : True\n",
      "           Min node count : 32\n",
      "       Average node count : 77.01\n",
      "           Max node count : 483\n",
      "           Min edge count : 60.0\n",
      "       Average edge count : 2632.52\n",
      "           Max edge count : 40008.0\n",
      "     Min filling fraction : 0.03\n",
      " Average filling fraction : 0.46\n",
      "     Max filling fraction : 1.0\n",
      "          Label \"1\" count : 17412\n",
      "          Label \"2\" count : 5340\n",
      "          Label \"3\" count : 8907\n",
      "----------------------------------------------------------------\n",
      "Statistic of set:  Validation dataset 0\n",
      "             Dataset size : 6792\n",
      "                   Labels : True\n",
      "           Min node count : 32\n",
      "       Average node count : 75.99\n",
      "           Max node count : 492\n",
      "           Min edge count : 71.0\n",
      "       Average edge count : 2287.44\n",
      "           Max edge count : 37674.0\n",
      "     Min filling fraction : 0.05\n",
      " Average filling fraction : 0.44\n",
      "     Max filling fraction : 1.0\n",
      "          Label \"1\" count : 3720\n",
      "          Label \"2\" count : 1260\n",
      "          Label \"3\" count : 1812\n",
      "----------------------------------------------------------------\n",
      "Statistic of set:  Test dataset 0\n",
      "             Dataset size : 6777\n",
      "                   Labels : True\n",
      "           Min node count : 32\n",
      "       Average node count : 77.18\n",
      "           Max node count : 487\n",
      "           Min edge count : 69.0\n",
      "       Average edge count : 2436.0\n",
      "           Max edge count : 40119.5\n",
      "     Min filling fraction : 0.06\n",
      " Average filling fraction : 0.46\n",
      "     Max filling fraction : 1.0\n",
      "          Label \"1\" count : 3727\n",
      "          Label \"2\" count : 1150\n",
      "          Label \"3\" count : 1900\n",
      "----------------------------------------------------------------\n"
     ]
    },
    {
     "data": {
      "application/vnd.jupyter.widget-view+json": {
       "model_id": "baae2dc8d2e44ec08ac2e5d220df93ec",
       "version_major": 2,
       "version_minor": 0
      },
      "text/plain": [
       "preparing dataset train for autoencoder:   0%|          | 0/31659 [00:00<?, ?it/s]"
      ]
     },
     "metadata": {},
     "output_type": "display_data"
    },
    {
     "data": {
      "application/vnd.jupyter.widget-view+json": {
       "model_id": "45e2006c97504cf5b2b07f1a94934405",
       "version_major": 2,
       "version_minor": 0
      },
      "text/plain": [
       "preparing dataset val 0 for autoencoder:   0%|          | 0/6792 [00:00<?, ?it/s]"
      ]
     },
     "metadata": {},
     "output_type": "display_data"
    },
    {
     "data": {
      "application/vnd.jupyter.widget-view+json": {
       "model_id": "44b2cf6309af4d57a8c256bd2cea5de5",
       "version_major": 2,
       "version_minor": 0
      },
      "text/plain": [
       "preparing dataset test 0 for autoencoder:   0%|          | 0/6777 [00:00<?, ?it/s]"
      ]
     },
     "metadata": {},
     "output_type": "display_data"
    },
    {
     "data": {
      "application/vnd.jupyter.widget-view+json": {
       "model_id": "e33e559621e94ecf8873dfe90167fb2c",
       "version_major": 2,
       "version_minor": 0
      },
      "text/plain": [
       "reading edges: 0it [00:00, ?it/s]"
      ]
     },
     "metadata": {},
     "output_type": "display_data"
    },
    {
     "name": "stdout",
     "output_type": "stream",
     "text": [
      "Statistic of set:  Full original dataset\n",
      "             Dataset size : 5000\n",
      "                   Labels : True\n",
      "           Min node count : 32\n",
      "       Average node count : 74.49\n",
      "           Max node count : 492\n",
      "           Min edge count : 60.0\n",
      "       Average edge count : 2457.5\n",
      "           Max edge count : 40119.5\n",
      "     Min filling fraction : 0.03\n",
      " Average filling fraction : 0.51\n",
      "     Max filling fraction : 1.0\n",
      "          Label \"1\" count : 2600\n",
      "          Label \"2\" count : 775\n",
      "          Label \"3\" count : 1625\n",
      "----------------------------------------------------------------\n",
      "Dataset pickled successfully\n",
      "File path: /usr/local/datasets/COLLAB/4.pkl\n",
      "File size: 3.4 GB\n",
      "Statistic of set:  Train dataset\n",
      "             Dataset size : 31729\n",
      "                   Labels : True\n",
      "           Min node count : 32\n",
      "       Average node count : 77.21\n",
      "           Max node count : 492\n",
      "           Min edge count : 60.0\n",
      "       Average edge count : 2598.58\n",
      "           Max edge count : 40119.5\n",
      "     Min filling fraction : 0.05\n",
      " Average filling fraction : 0.46\n",
      "     Max filling fraction : 1.0\n",
      "          Label \"1\" count : 17414\n",
      "          Label \"2\" count : 5500\n",
      "          Label \"3\" count : 8815\n",
      "----------------------------------------------------------------\n",
      "Statistic of set:  Validation dataset 0\n",
      "             Dataset size : 6600\n",
      "                   Labels : True\n",
      "           Min node count : 32\n",
      "       Average node count : 77.44\n",
      "           Max node count : 428\n",
      "           Min edge count : 75.0\n",
      "       Average edge count : 2550.27\n",
      "           Max edge count : 35893.5\n",
      "     Min filling fraction : 0.03\n",
      " Average filling fraction : 0.45\n",
      "     Max filling fraction : 1.0\n",
      "          Label \"1\" count : 3413\n",
      "          Label \"2\" count : 1230\n",
      "          Label \"3\" count : 1957\n",
      "----------------------------------------------------------------\n",
      "Statistic of set:  Test dataset 0\n",
      "             Dataset size : 6908\n",
      "                   Labels : True\n",
      "           Min node count : 32\n",
      "       Average node count : 74.88\n",
      "           Max node count : 483\n",
      "           Min edge count : 72.0\n",
      "       Average edge count : 2347.01\n",
      "           Max edge count : 40008.0\n",
      "     Min filling fraction : 0.05\n",
      " Average filling fraction : 0.47\n",
      "     Max filling fraction : 1.0\n",
      "          Label \"1\" count : 4055\n",
      "          Label \"2\" count : 1020\n",
      "          Label \"3\" count : 1833\n",
      "----------------------------------------------------------------\n"
     ]
    },
    {
     "data": {
      "application/vnd.jupyter.widget-view+json": {
       "model_id": "c80eff47def043189728b7bc32032b88",
       "version_major": 2,
       "version_minor": 0
      },
      "text/plain": [
       "preparing dataset train for autoencoder:   0%|          | 0/31729 [00:00<?, ?it/s]"
      ]
     },
     "metadata": {},
     "output_type": "display_data"
    },
    {
     "data": {
      "application/vnd.jupyter.widget-view+json": {
       "model_id": "2bf974ad6bcf442ca912d4222679f0b1",
       "version_major": 2,
       "version_minor": 0
      },
      "text/plain": [
       "preparing dataset val 0 for autoencoder:   0%|          | 0/6600 [00:00<?, ?it/s]"
      ]
     },
     "metadata": {},
     "output_type": "display_data"
    },
    {
     "data": {
      "application/vnd.jupyter.widget-view+json": {
       "model_id": "62df251d544b47ab81c477063a4f49c7",
       "version_major": 2,
       "version_minor": 0
      },
      "text/plain": [
       "preparing dataset test 0 for autoencoder:   0%|          | 0/6908 [00:00<?, ?it/s]"
      ]
     },
     "metadata": {},
     "output_type": "display_data"
    }
   ],
   "source": [
    "save_datasets('COLLAB')"
   ]
  },
  {
   "cell_type": "code",
   "execution_count": 14,
   "id": "82503874",
   "metadata": {},
   "outputs": [],
   "source": [
    "train_val_test_permutation_split = [1, 0, 0.0]\n",
    "num_dataset_graph_permutations = 1"
   ]
  },
  {
   "cell_type": "code",
   "execution_count": 15,
   "id": "5a7ae33f",
   "metadata": {
    "scrolled": true
   },
   "outputs": [
    {
     "data": {
      "application/vnd.jupyter.widget-view+json": {
       "model_id": "6fb19b3ec244411b884bc20558368c50",
       "version_major": 2,
       "version_minor": 0
      },
      "text/plain": [
       "REDDIT-BINARY:   0%|          | 0/5 [00:00<?, ?it/s]"
      ]
     },
     "metadata": {},
     "output_type": "display_data"
    },
    {
     "data": {
      "application/vnd.jupyter.widget-view+json": {
       "model_id": "54c7ca4fcf784e71aebc3f4dd86a7f3d",
       "version_major": 2,
       "version_minor": 0
      },
      "text/plain": [
       "reading edges: 0it [00:00, ?it/s]"
      ]
     },
     "metadata": {},
     "output_type": "display_data"
    },
    {
     "name": "stdout",
     "output_type": "stream",
     "text": [
      "Statistic of set:  Full original dataset\n",
      "             Dataset size : 2000\n",
      "                   Labels : True\n",
      "           Min node count : 6\n",
      "       Average node count : 429.63\n",
      "           Max node count : 3782\n",
      "           Min edge count : 4.0\n",
      "       Average edge count : 497.75\n",
      "           Max edge count : 4071.0\n",
      "     Min filling fraction : 0.0\n",
      " Average filling fraction : 0.02\n",
      "     Max filling fraction : 0.29\n",
      "         Label \"-1\" count : 1000\n",
      "          Label \"1\" count : 1000\n",
      "----------------------------------------------------------------\n",
      "Dataset pickled successfully\n",
      "File path: /usr/local/datasets/REDDIT-BINARY/0.pkl\n",
      "File size: 7.32 GB\n",
      "Statistic of set:  Train dataset\n",
      "             Dataset size : 1400\n",
      "                   Labels : True\n",
      "           Min node count : 6\n",
      "       Average node count : 429.6\n",
      "           Max node count : 3782\n",
      "           Min edge count : 4.0\n",
      "       Average edge count : 497.08\n",
      "           Max edge count : 4071.0\n",
      "     Min filling fraction : 0.0\n",
      " Average filling fraction : 0.02\n",
      "     Max filling fraction : 0.29\n",
      "         Label \"-1\" count : 700\n",
      "          Label \"1\" count : 700\n",
      "----------------------------------------------------------------\n",
      "Statistic of set:  Validation dataset 0\n",
      "             Dataset size : 300\n",
      "                   Labels : True\n",
      "           Min node count : 12\n",
      "       Average node count : 405.73\n",
      "           Max node count : 3232\n",
      "           Min edge count : 11.0\n",
      "       Average edge count : 477.01\n",
      "           Max edge count : 3630.0\n",
      "     Min filling fraction : 0.0\n",
      " Average filling fraction : 0.02\n",
      "     Max filling fraction : 0.18\n",
      "         Label \"-1\" count : 141\n",
      "          Label \"1\" count : 159\n",
      "----------------------------------------------------------------\n",
      "Statistic of set:  Test dataset 0\n",
      "             Dataset size : 300\n",
      "                   Labels : True\n",
      "           Min node count : 9\n",
      "       Average node count : 453.65\n",
      "           Max node count : 3648\n",
      "           Min edge count : 8.0\n",
      "       Average edge count : 521.64\n",
      "           Max edge count : 4006.0\n",
      "     Min filling fraction : 0.0\n",
      " Average filling fraction : 0.02\n",
      "     Max filling fraction : 0.22\n",
      "         Label \"-1\" count : 159\n",
      "          Label \"1\" count : 141\n",
      "----------------------------------------------------------------\n"
     ]
    },
    {
     "data": {
      "application/vnd.jupyter.widget-view+json": {
       "model_id": "3ece9e97e0194b6c8a69304df34be35d",
       "version_major": 2,
       "version_minor": 0
      },
      "text/plain": [
       "preparing dataset train for autoencoder:   0%|          | 0/1400 [00:00<?, ?it/s]"
      ]
     },
     "metadata": {},
     "output_type": "display_data"
    },
    {
     "data": {
      "application/vnd.jupyter.widget-view+json": {
       "model_id": "16f06c03784a4b0e8c965330b786bd7e",
       "version_major": 2,
       "version_minor": 0
      },
      "text/plain": [
       "preparing dataset val 0 for autoencoder:   0%|          | 0/300 [00:00<?, ?it/s]"
      ]
     },
     "metadata": {},
     "output_type": "display_data"
    },
    {
     "data": {
      "application/vnd.jupyter.widget-view+json": {
       "model_id": "e0409aa9c69946688bc8b797b1cec71f",
       "version_major": 2,
       "version_minor": 0
      },
      "text/plain": [
       "preparing dataset test 0 for autoencoder:   0%|          | 0/300 [00:00<?, ?it/s]"
      ]
     },
     "metadata": {},
     "output_type": "display_data"
    },
    {
     "data": {
      "application/vnd.jupyter.widget-view+json": {
       "model_id": "f31029527298409dbd8c0662adaedfd4",
       "version_major": 2,
       "version_minor": 0
      },
      "text/plain": [
       "reading edges: 0it [00:00, ?it/s]"
      ]
     },
     "metadata": {},
     "output_type": "display_data"
    },
    {
     "name": "stdout",
     "output_type": "stream",
     "text": [
      "Statistic of set:  Full original dataset\n",
      "             Dataset size : 2000\n",
      "                   Labels : True\n",
      "           Min node count : 6\n",
      "       Average node count : 429.63\n",
      "           Max node count : 3782\n",
      "           Min edge count : 4.0\n",
      "       Average edge count : 497.75\n",
      "           Max edge count : 4071.0\n",
      "     Min filling fraction : 0.0\n",
      " Average filling fraction : 0.02\n",
      "     Max filling fraction : 0.29\n",
      "         Label \"-1\" count : 1000\n",
      "          Label \"1\" count : 1000\n",
      "----------------------------------------------------------------\n",
      "Dataset pickled successfully\n",
      "File path: /usr/local/datasets/REDDIT-BINARY/1.pkl\n",
      "File size: 7.32 GB\n",
      "Statistic of set:  Train dataset\n",
      "             Dataset size : 1400\n",
      "                   Labels : True\n",
      "           Min node count : 6\n",
      "       Average node count : 410.23\n",
      "           Max node count : 3782\n",
      "           Min edge count : 4.0\n",
      "       Average edge count : 476.39\n",
      "           Max edge count : 4071.0\n",
      "     Min filling fraction : 0.0\n",
      " Average filling fraction : 0.02\n",
      "     Max filling fraction : 0.29\n",
      "         Label \"-1\" count : 689\n",
      "          Label \"1\" count : 711\n",
      "----------------------------------------------------------------\n",
      "Statistic of set:  Validation dataset 0\n",
      "             Dataset size : 300\n",
      "                   Labels : True\n",
      "           Min node count : 13\n",
      "       Average node count : 465.83\n",
      "           Max node count : 3284\n",
      "           Min edge count : 12.0\n",
      "       Average edge count : 536.19\n",
      "           Max edge count : 3582.0\n",
      "     Min filling fraction : 0.0\n",
      " Average filling fraction : 0.02\n",
      "     Max filling fraction : 0.17\n",
      "         Label \"-1\" count : 156\n",
      "          Label \"1\" count : 144\n",
      "----------------------------------------------------------------\n",
      "Statistic of set:  Test dataset 0\n",
      "             Dataset size : 300\n",
      "                   Labels : True\n",
      "           Min node count : 16\n",
      "       Average node count : 483.95\n",
      "           Max node count : 3648\n",
      "           Min edge count : 16.0\n",
      "       Average edge count : 559.03\n",
      "           Max edge count : 4006.0\n",
      "     Min filling fraction : 0.0\n",
      " Average filling fraction : 0.02\n",
      "     Max filling fraction : 0.15\n",
      "         Label \"-1\" count : 155\n",
      "          Label \"1\" count : 145\n",
      "----------------------------------------------------------------\n"
     ]
    },
    {
     "data": {
      "application/vnd.jupyter.widget-view+json": {
       "model_id": "32c86afe8c0d482e9c2b07731812bede",
       "version_major": 2,
       "version_minor": 0
      },
      "text/plain": [
       "preparing dataset train for autoencoder:   0%|          | 0/1400 [00:00<?, ?it/s]"
      ]
     },
     "metadata": {},
     "output_type": "display_data"
    },
    {
     "data": {
      "application/vnd.jupyter.widget-view+json": {
       "model_id": "e221efb25df04289bad586aaedcfd457",
       "version_major": 2,
       "version_minor": 0
      },
      "text/plain": [
       "preparing dataset val 0 for autoencoder:   0%|          | 0/300 [00:00<?, ?it/s]"
      ]
     },
     "metadata": {},
     "output_type": "display_data"
    },
    {
     "data": {
      "application/vnd.jupyter.widget-view+json": {
       "model_id": "a444091462b44535a048c736fcd943c3",
       "version_major": 2,
       "version_minor": 0
      },
      "text/plain": [
       "preparing dataset test 0 for autoencoder:   0%|          | 0/300 [00:00<?, ?it/s]"
      ]
     },
     "metadata": {},
     "output_type": "display_data"
    },
    {
     "data": {
      "application/vnd.jupyter.widget-view+json": {
       "model_id": "844ebf4cea3c483b8b0252aefaeb0adc",
       "version_major": 2,
       "version_minor": 0
      },
      "text/plain": [
       "reading edges: 0it [00:00, ?it/s]"
      ]
     },
     "metadata": {},
     "output_type": "display_data"
    },
    {
     "name": "stdout",
     "output_type": "stream",
     "text": [
      "Statistic of set:  Full original dataset\n",
      "             Dataset size : 2000\n",
      "                   Labels : True\n",
      "           Min node count : 6\n",
      "       Average node count : 429.63\n",
      "           Max node count : 3782\n",
      "           Min edge count : 4.0\n",
      "       Average edge count : 497.75\n",
      "           Max edge count : 4071.0\n",
      "     Min filling fraction : 0.0\n",
      " Average filling fraction : 0.02\n",
      "     Max filling fraction : 0.29\n",
      "         Label \"-1\" count : 1000\n",
      "          Label \"1\" count : 1000\n",
      "----------------------------------------------------------------\n",
      "Dataset pickled successfully\n",
      "File path: /usr/local/datasets/REDDIT-BINARY/2.pkl\n",
      "File size: 7.32 GB\n",
      "Statistic of set:  Train dataset\n",
      "             Dataset size : 1400\n",
      "                   Labels : True\n",
      "           Min node count : 9\n",
      "       Average node count : 441.78\n",
      "           Max node count : 3782\n",
      "           Min edge count : 8.0\n",
      "       Average edge count : 512.24\n",
      "           Max edge count : 4071.0\n",
      "     Min filling fraction : 0.0\n",
      " Average filling fraction : 0.02\n",
      "     Max filling fraction : 0.22\n",
      "         Label \"-1\" count : 707\n",
      "          Label \"1\" count : 693\n",
      "----------------------------------------------------------------\n",
      "Statistic of set:  Validation dataset 0\n",
      "             Dataset size : 300\n",
      "                   Labels : True\n",
      "           Min node count : 6\n",
      "       Average node count : 417.77\n",
      "           Max node count : 3428\n",
      "           Min edge count : 4.0\n",
      "       Average edge count : 479.58\n",
      "           Max edge count : 3660.0\n",
      "     Min filling fraction : 0.0\n",
      " Average filling fraction : 0.02\n",
      "     Max filling fraction : 0.27\n",
      "         Label \"-1\" count : 148\n",
      "          Label \"1\" count : 152\n",
      "----------------------------------------------------------------\n",
      "Statistic of set:  Test dataset 0\n",
      "             Dataset size : 300\n",
      "                   Labels : True\n",
      "           Min node count : 7\n",
      "       Average node count : 384.75\n",
      "           Max node count : 2436\n",
      "           Min edge count : 6.0\n",
      "       Average edge count : 448.31\n",
      "           Max edge count : 2734.0\n",
      "     Min filling fraction : 0.0\n",
      " Average filling fraction : 0.02\n",
      "     Max filling fraction : 0.29\n",
      "         Label \"-1\" count : 145\n",
      "          Label \"1\" count : 155\n",
      "----------------------------------------------------------------\n"
     ]
    },
    {
     "data": {
      "application/vnd.jupyter.widget-view+json": {
       "model_id": "6bd8c760def5484e9ed833ecfa69f6cf",
       "version_major": 2,
       "version_minor": 0
      },
      "text/plain": [
       "preparing dataset train for autoencoder:   0%|          | 0/1400 [00:00<?, ?it/s]"
      ]
     },
     "metadata": {},
     "output_type": "display_data"
    },
    {
     "data": {
      "application/vnd.jupyter.widget-view+json": {
       "model_id": "c4a7d76f9c4e4e5c9a07ddd84e55fbe8",
       "version_major": 2,
       "version_minor": 0
      },
      "text/plain": [
       "preparing dataset val 0 for autoencoder:   0%|          | 0/300 [00:00<?, ?it/s]"
      ]
     },
     "metadata": {},
     "output_type": "display_data"
    },
    {
     "data": {
      "application/vnd.jupyter.widget-view+json": {
       "model_id": "6c7f694d5b9340dc822243a8b41a3208",
       "version_major": 2,
       "version_minor": 0
      },
      "text/plain": [
       "preparing dataset test 0 for autoencoder:   0%|          | 0/300 [00:00<?, ?it/s]"
      ]
     },
     "metadata": {},
     "output_type": "display_data"
    },
    {
     "data": {
      "application/vnd.jupyter.widget-view+json": {
       "model_id": "b153b055a0ad4d3181e8bf6157b31b51",
       "version_major": 2,
       "version_minor": 0
      },
      "text/plain": [
       "reading edges: 0it [00:00, ?it/s]"
      ]
     },
     "metadata": {},
     "output_type": "display_data"
    },
    {
     "name": "stdout",
     "output_type": "stream",
     "text": [
      "Statistic of set:  Full original dataset\n",
      "             Dataset size : 2000\n",
      "                   Labels : True\n",
      "           Min node count : 6\n",
      "       Average node count : 429.63\n",
      "           Max node count : 3782\n",
      "           Min edge count : 4.0\n",
      "       Average edge count : 497.75\n",
      "           Max edge count : 4071.0\n",
      "     Min filling fraction : 0.0\n",
      " Average filling fraction : 0.02\n",
      "     Max filling fraction : 0.29\n",
      "         Label \"-1\" count : 1000\n",
      "          Label \"1\" count : 1000\n",
      "----------------------------------------------------------------\n",
      "Dataset pickled successfully\n",
      "File path: /usr/local/datasets/REDDIT-BINARY/3.pkl\n",
      "File size: 7.32 GB\n",
      "Statistic of set:  Train dataset\n",
      "             Dataset size : 1400\n",
      "                   Labels : True\n",
      "           Min node count : 7\n",
      "       Average node count : 432.7\n",
      "           Max node count : 3782\n",
      "           Min edge count : 6.0\n",
      "       Average edge count : 500.22\n",
      "           Max edge count : 4071.0\n",
      "     Min filling fraction : 0.0\n",
      " Average filling fraction : 0.02\n",
      "     Max filling fraction : 0.29\n",
      "         Label \"-1\" count : 704\n",
      "          Label \"1\" count : 696\n",
      "----------------------------------------------------------------\n",
      "Statistic of set:  Validation dataset 0\n",
      "             Dataset size : 300\n",
      "                   Labels : True\n",
      "           Min node count : 6\n",
      "       Average node count : 444.4\n",
      "           Max node count : 3087\n",
      "           Min edge count : 4.0\n",
      "       Average edge count : 512.81\n",
      "           Max edge count : 3412.0\n",
      "     Min filling fraction : 0.0\n",
      " Average filling fraction : 0.03\n",
      "     Max filling fraction : 0.27\n",
      "         Label \"-1\" count : 143\n",
      "          Label \"1\" count : 157\n",
      "----------------------------------------------------------------\n",
      "Statistic of set:  Test dataset 0\n",
      "             Dataset size : 300\n",
      "                   Labels : True\n",
      "           Min node count : 14\n",
      "       Average node count : 400.53\n",
      "           Max node count : 3259\n",
      "           Min edge count : 13.0\n",
      "       Average edge count : 471.19\n",
      "           Max edge count : 3692.0\n",
      "     Min filling fraction : 0.0\n",
      " Average filling fraction : 0.02\n",
      "     Max filling fraction : 0.16\n",
      "         Label \"-1\" count : 153\n",
      "          Label \"1\" count : 147\n",
      "----------------------------------------------------------------\n"
     ]
    },
    {
     "data": {
      "application/vnd.jupyter.widget-view+json": {
       "model_id": "2b43e8ff68144f11a2f13b602887c7b5",
       "version_major": 2,
       "version_minor": 0
      },
      "text/plain": [
       "preparing dataset train for autoencoder:   0%|          | 0/1400 [00:00<?, ?it/s]"
      ]
     },
     "metadata": {},
     "output_type": "display_data"
    },
    {
     "data": {
      "application/vnd.jupyter.widget-view+json": {
       "model_id": "e417ee7ce24e48e480a37f3303e85516",
       "version_major": 2,
       "version_minor": 0
      },
      "text/plain": [
       "preparing dataset val 0 for autoencoder:   0%|          | 0/300 [00:00<?, ?it/s]"
      ]
     },
     "metadata": {},
     "output_type": "display_data"
    },
    {
     "data": {
      "application/vnd.jupyter.widget-view+json": {
       "model_id": "5cd36a5962a94d3aa97db3f19eef548f",
       "version_major": 2,
       "version_minor": 0
      },
      "text/plain": [
       "preparing dataset test 0 for autoencoder:   0%|          | 0/300 [00:00<?, ?it/s]"
      ]
     },
     "metadata": {},
     "output_type": "display_data"
    },
    {
     "data": {
      "application/vnd.jupyter.widget-view+json": {
       "model_id": "be926f7760614c1dbfd99a8717aea851",
       "version_major": 2,
       "version_minor": 0
      },
      "text/plain": [
       "reading edges: 0it [00:00, ?it/s]"
      ]
     },
     "metadata": {},
     "output_type": "display_data"
    },
    {
     "name": "stdout",
     "output_type": "stream",
     "text": [
      "Statistic of set:  Full original dataset\n",
      "             Dataset size : 2000\n",
      "                   Labels : True\n",
      "           Min node count : 6\n",
      "       Average node count : 429.63\n",
      "           Max node count : 3782\n",
      "           Min edge count : 4.0\n",
      "       Average edge count : 497.75\n",
      "           Max edge count : 4071.0\n",
      "     Min filling fraction : 0.0\n",
      " Average filling fraction : 0.02\n",
      "     Max filling fraction : 0.29\n",
      "         Label \"-1\" count : 1000\n",
      "          Label \"1\" count : 1000\n",
      "----------------------------------------------------------------\n",
      "Dataset pickled successfully\n",
      "File path: /usr/local/datasets/REDDIT-BINARY/4.pkl\n",
      "File size: 7.32 GB\n",
      "Statistic of set:  Train dataset\n",
      "             Dataset size : 1400\n",
      "                   Labels : True\n",
      "           Min node count : 6\n",
      "       Average node count : 437.41\n",
      "           Max node count : 3648\n",
      "           Min edge count : 4.0\n",
      "       Average edge count : 506.97\n",
      "           Max edge count : 4006.0\n",
      "     Min filling fraction : 0.0\n",
      " Average filling fraction : 0.02\n",
      "     Max filling fraction : 0.29\n",
      "         Label \"-1\" count : 716\n",
      "          Label \"1\" count : 684\n",
      "----------------------------------------------------------------\n",
      "Statistic of set:  Validation dataset 0\n",
      "             Dataset size : 300\n",
      "                   Labels : True\n",
      "           Min node count : 10\n",
      "       Average node count : 398.78\n",
      "           Max node count : 3361\n",
      "           Min edge count : 9.0\n",
      "       Average edge count : 464.98\n",
      "           Max edge count : 3718.0\n",
      "     Min filling fraction : 0.0\n",
      " Average filling fraction : 0.02\n",
      "     Max filling fraction : 0.2\n",
      "         Label \"-1\" count : 136\n",
      "          Label \"1\" count : 164\n",
      "----------------------------------------------------------------\n",
      "Statistic of set:  Test dataset 0\n",
      "             Dataset size : 300\n",
      "                   Labels : True\n",
      "           Min node count : 10\n",
      "       Average node count : 424.17\n",
      "           Max node count : 3782\n",
      "           Min edge count : 8.0\n",
      "       Average edge count : 487.53\n",
      "           Max edge count : 4071.0\n",
      "     Min filling fraction : 0.0\n",
      " Average filling fraction : 0.02\n",
      "     Max filling fraction : 0.18\n",
      "         Label \"-1\" count : 148\n",
      "          Label \"1\" count : 152\n",
      "----------------------------------------------------------------\n"
     ]
    },
    {
     "data": {
      "application/vnd.jupyter.widget-view+json": {
       "model_id": "f4d73a7ac9a3474f9b6cb4118060716a",
       "version_major": 2,
       "version_minor": 0
      },
      "text/plain": [
       "preparing dataset train for autoencoder:   0%|          | 0/1400 [00:00<?, ?it/s]"
      ]
     },
     "metadata": {},
     "output_type": "display_data"
    },
    {
     "data": {
      "application/vnd.jupyter.widget-view+json": {
       "model_id": "f5245b359e5b4e73859a0e8a09cbfc48",
       "version_major": 2,
       "version_minor": 0
      },
      "text/plain": [
       "preparing dataset val 0 for autoencoder:   0%|          | 0/300 [00:00<?, ?it/s]"
      ]
     },
     "metadata": {},
     "output_type": "display_data"
    },
    {
     "data": {
      "application/vnd.jupyter.widget-view+json": {
       "model_id": "9abc86103a0c4483a0dd86b391413a43",
       "version_major": 2,
       "version_minor": 0
      },
      "text/plain": [
       "preparing dataset test 0 for autoencoder:   0%|          | 0/300 [00:00<?, ?it/s]"
      ]
     },
     "metadata": {},
     "output_type": "display_data"
    }
   ],
   "source": [
    "save_datasets('REDDIT-BINARY')"
   ]
  },
  {
   "cell_type": "code",
   "execution_count": 16,
   "id": "5e3c4077",
   "metadata": {},
   "outputs": [
    {
     "data": {
      "application/vnd.jupyter.widget-view+json": {
       "model_id": "17f31ec1ce004afbb604fe45fa6f1bcf",
       "version_major": 2,
       "version_minor": 0
      },
      "text/plain": [
       "REDDIT-MULTI-5K:   0%|          | 0/5 [00:00<?, ?it/s]"
      ]
     },
     "metadata": {},
     "output_type": "display_data"
    },
    {
     "data": {
      "application/vnd.jupyter.widget-view+json": {
       "model_id": "7f2ac39b69854232acb783add69850f6",
       "version_major": 2,
       "version_minor": 0
      },
      "text/plain": [
       "reading edges: 0it [00:00, ?it/s]"
      ]
     },
     "metadata": {},
     "output_type": "display_data"
    },
    {
     "name": "stdout",
     "output_type": "stream",
     "text": [
      "Statistic of set:  Full original dataset\n",
      "             Dataset size : 4999\n",
      "                   Labels : True\n",
      "           Min node count : 22\n",
      "       Average node count : 508.52\n",
      "           Max node count : 3648\n",
      "           Min edge count : 21.0\n",
      "       Average edge count : 594.87\n",
      "           Max edge count : 4783.0\n",
      "     Min filling fraction : 0.0\n",
      " Average filling fraction : 0.01\n",
      "     Max filling fraction : 0.09\n",
      "          Label \"1\" count : 1000\n",
      "          Label \"2\" count : 1000\n",
      "          Label \"3\" count : 1000\n",
      "          Label \"4\" count : 1000\n",
      "          Label \"5\" count : 999\n",
      "----------------------------------------------------------------\n",
      "Dataset pickled successfully\n",
      "File path: /usr/local/datasets/REDDIT-MULTI-5K/0.pkl\n",
      "File size: 17.26 GB\n",
      "Statistic of set:  Train dataset\n",
      "             Dataset size : 3501\n",
      "                   Labels : True\n",
      "           Min node count : 22\n",
      "       Average node count : 510.55\n",
      "           Max node count : 3648\n",
      "           Min edge count : 21.0\n",
      "       Average edge count : 598.12\n",
      "           Max edge count : 4783.0\n",
      "     Min filling fraction : 0.0\n",
      " Average filling fraction : 0.01\n",
      "     Max filling fraction : 0.09\n",
      "          Label \"1\" count : 708\n",
      "          Label \"2\" count : 705\n",
      "          Label \"3\" count : 695\n",
      "          Label \"4\" count : 710\n",
      "          Label \"5\" count : 683\n",
      "----------------------------------------------------------------\n",
      "Statistic of set:  Validation dataset 0\n",
      "             Dataset size : 749\n",
      "                   Labels : True\n",
      "           Min node count : 36\n",
      "       Average node count : 493.4\n",
      "           Max node count : 3117\n",
      "           Min edge count : 34.0\n",
      "       Average edge count : 573.55\n",
      "           Max edge count : 4110.0\n",
      "     Min filling fraction : 0.0\n",
      " Average filling fraction : 0.01\n",
      "     Max filling fraction : 0.05\n",
      "          Label \"1\" count : 144\n",
      "          Label \"2\" count : 143\n",
      "          Label \"3\" count : 159\n",
      "          Label \"4\" count : 155\n",
      "          Label \"5\" count : 148\n",
      "----------------------------------------------------------------\n",
      "Statistic of set:  Test dataset 0\n",
      "             Dataset size : 749\n",
      "                   Labels : True\n",
      "           Min node count : 33\n",
      "       Average node count : 514.11\n",
      "           Max node count : 2900\n",
      "           Min edge count : 32.0\n",
      "       Average edge count : 601.02\n",
      "           Max edge count : 3757.0\n",
      "     Min filling fraction : 0.0\n",
      " Average filling fraction : 0.01\n",
      "     Max filling fraction : 0.06\n",
      "          Label \"1\" count : 148\n",
      "          Label \"2\" count : 152\n",
      "          Label \"3\" count : 146\n",
      "          Label \"4\" count : 135\n",
      "          Label \"5\" count : 168\n",
      "----------------------------------------------------------------\n"
     ]
    },
    {
     "data": {
      "application/vnd.jupyter.widget-view+json": {
       "model_id": "1c0f8845fe3c40f79f1364bb998d9f79",
       "version_major": 2,
       "version_minor": 0
      },
      "text/plain": [
       "preparing dataset train for autoencoder:   0%|          | 0/3501 [00:00<?, ?it/s]"
      ]
     },
     "metadata": {},
     "output_type": "display_data"
    },
    {
     "data": {
      "application/vnd.jupyter.widget-view+json": {
       "model_id": "b598efaa78f240b5a47b886990f57214",
       "version_major": 2,
       "version_minor": 0
      },
      "text/plain": [
       "preparing dataset val 0 for autoencoder:   0%|          | 0/749 [00:00<?, ?it/s]"
      ]
     },
     "metadata": {},
     "output_type": "display_data"
    },
    {
     "data": {
      "application/vnd.jupyter.widget-view+json": {
       "model_id": "96851f07ab584d8c8ee48c37d3f291ca",
       "version_major": 2,
       "version_minor": 0
      },
      "text/plain": [
       "preparing dataset test 0 for autoencoder:   0%|          | 0/749 [00:00<?, ?it/s]"
      ]
     },
     "metadata": {},
     "output_type": "display_data"
    },
    {
     "data": {
      "application/vnd.jupyter.widget-view+json": {
       "model_id": "aba9af6802584a2080bae1a632f56aff",
       "version_major": 2,
       "version_minor": 0
      },
      "text/plain": [
       "reading edges: 0it [00:00, ?it/s]"
      ]
     },
     "metadata": {},
     "output_type": "display_data"
    },
    {
     "name": "stdout",
     "output_type": "stream",
     "text": [
      "Statistic of set:  Full original dataset\n",
      "             Dataset size : 4999\n",
      "                   Labels : True\n",
      "           Min node count : 22\n",
      "       Average node count : 508.52\n",
      "           Max node count : 3648\n",
      "           Min edge count : 21.0\n",
      "       Average edge count : 594.87\n",
      "           Max edge count : 4783.0\n",
      "     Min filling fraction : 0.0\n",
      " Average filling fraction : 0.01\n",
      "     Max filling fraction : 0.09\n",
      "          Label \"1\" count : 1000\n",
      "          Label \"2\" count : 1000\n",
      "          Label \"3\" count : 1000\n",
      "          Label \"4\" count : 1000\n",
      "          Label \"5\" count : 999\n",
      "----------------------------------------------------------------\n",
      "Dataset pickled successfully\n",
      "File path: /usr/local/datasets/REDDIT-MULTI-5K/1.pkl\n",
      "File size: 17.26 GB\n",
      "Statistic of set:  Train dataset\n",
      "             Dataset size : 3501\n",
      "                   Labels : True\n",
      "           Min node count : 22\n",
      "       Average node count : 514.5\n",
      "           Max node count : 3648\n",
      "           Min edge count : 21.0\n",
      "       Average edge count : 602.21\n",
      "           Max edge count : 4360.0\n",
      "     Min filling fraction : 0.0\n",
      " Average filling fraction : 0.01\n",
      "     Max filling fraction : 0.09\n",
      "          Label \"1\" count : 702\n",
      "          Label \"2\" count : 716\n",
      "          Label \"3\" count : 708\n",
      "          Label \"4\" count : 699\n",
      "          Label \"5\" count : 676\n",
      "----------------------------------------------------------------\n",
      "Statistic of set:  Validation dataset 0\n",
      "             Dataset size : 749\n",
      "                   Labels : True\n",
      "           Min node count : 34\n",
      "       Average node count : 487.48\n",
      "           Max node count : 3039\n",
      "           Min edge count : 33.0\n",
      "       Average edge count : 567.32\n",
      "           Max edge count : 4783.0\n",
      "     Min filling fraction : 0.0\n",
      " Average filling fraction : 0.01\n",
      "     Max filling fraction : 0.06\n",
      "          Label \"1\" count : 154\n",
      "          Label \"2\" count : 136\n",
      "          Label \"3\" count : 149\n",
      "          Label \"4\" count : 154\n",
      "          Label \"5\" count : 156\n",
      "----------------------------------------------------------------\n",
      "Statistic of set:  Test dataset 0\n",
      "             Dataset size : 749\n",
      "                   Labels : True\n",
      "           Min node count : 33\n",
      "       Average node count : 501.59\n",
      "           Max node count : 3311\n",
      "           Min edge count : 32.0\n",
      "       Average edge count : 588.14\n",
      "           Max edge count : 4365.0\n",
      "     Min filling fraction : 0.0\n",
      " Average filling fraction : 0.01\n",
      "     Max filling fraction : 0.06\n",
      "          Label \"1\" count : 144\n",
      "          Label \"2\" count : 148\n",
      "          Label \"3\" count : 143\n",
      "          Label \"4\" count : 147\n",
      "          Label \"5\" count : 167\n",
      "----------------------------------------------------------------\n"
     ]
    },
    {
     "data": {
      "application/vnd.jupyter.widget-view+json": {
       "model_id": "cac5e2aaec394c0f8b498969ee840ca8",
       "version_major": 2,
       "version_minor": 0
      },
      "text/plain": [
       "preparing dataset train for autoencoder:   0%|          | 0/3501 [00:00<?, ?it/s]"
      ]
     },
     "metadata": {},
     "output_type": "display_data"
    },
    {
     "data": {
      "application/vnd.jupyter.widget-view+json": {
       "model_id": "4c34229bef424288841da4815a75ccf0",
       "version_major": 2,
       "version_minor": 0
      },
      "text/plain": [
       "preparing dataset val 0 for autoencoder:   0%|          | 0/749 [00:00<?, ?it/s]"
      ]
     },
     "metadata": {},
     "output_type": "display_data"
    },
    {
     "data": {
      "application/vnd.jupyter.widget-view+json": {
       "model_id": "c4cd1554c98e4f0286200b8b26358e8d",
       "version_major": 2,
       "version_minor": 0
      },
      "text/plain": [
       "preparing dataset test 0 for autoencoder:   0%|          | 0/749 [00:00<?, ?it/s]"
      ]
     },
     "metadata": {},
     "output_type": "display_data"
    },
    {
     "data": {
      "application/vnd.jupyter.widget-view+json": {
       "model_id": "25c999255f6447f3a0197c1cef85502f",
       "version_major": 2,
       "version_minor": 0
      },
      "text/plain": [
       "reading edges: 0it [00:00, ?it/s]"
      ]
     },
     "metadata": {},
     "output_type": "display_data"
    },
    {
     "name": "stdout",
     "output_type": "stream",
     "text": [
      "Statistic of set:  Full original dataset\n",
      "             Dataset size : 4999\n",
      "                   Labels : True\n",
      "           Min node count : 22\n",
      "       Average node count : 508.52\n",
      "           Max node count : 3648\n",
      "           Min edge count : 21.0\n",
      "       Average edge count : 594.87\n",
      "           Max edge count : 4783.0\n",
      "     Min filling fraction : 0.0\n",
      " Average filling fraction : 0.01\n",
      "     Max filling fraction : 0.09\n",
      "          Label \"1\" count : 1000\n",
      "          Label \"2\" count : 1000\n",
      "          Label \"3\" count : 1000\n",
      "          Label \"4\" count : 1000\n",
      "          Label \"5\" count : 999\n",
      "----------------------------------------------------------------\n",
      "Dataset pickled successfully\n",
      "File path: /usr/local/datasets/REDDIT-MULTI-5K/2.pkl\n",
      "File size: 17.26 GB\n",
      "Statistic of set:  Train dataset\n",
      "             Dataset size : 3501\n",
      "                   Labels : True\n",
      "           Min node count : 33\n",
      "       Average node count : 513.99\n",
      "           Max node count : 3648\n",
      "           Min edge count : 31.0\n",
      "       Average edge count : 600.61\n",
      "           Max edge count : 4783.0\n",
      "     Min filling fraction : 0.0\n",
      " Average filling fraction : 0.01\n",
      "     Max filling fraction : 0.06\n",
      "          Label \"1\" count : 693\n",
      "          Label \"2\" count : 709\n",
      "          Label \"3\" count : 706\n",
      "          Label \"4\" count : 690\n",
      "          Label \"5\" count : 703\n",
      "----------------------------------------------------------------\n",
      "Statistic of set:  Validation dataset 0\n",
      "             Dataset size : 749\n",
      "                   Labels : True\n",
      "           Min node count : 22\n",
      "       Average node count : 518.93\n",
      "           Max node count : 3107\n",
      "           Min edge count : 21.0\n",
      "       Average edge count : 609.73\n",
      "           Max edge count : 4114.0\n",
      "     Min filling fraction : 0.0\n",
      " Average filling fraction : 0.01\n",
      "     Max filling fraction : 0.09\n",
      "          Label \"1\" count : 167\n",
      "          Label \"2\" count : 157\n",
      "          Label \"3\" count : 138\n",
      "          Label \"4\" count : 149\n",
      "          Label \"5\" count : 138\n",
      "----------------------------------------------------------------\n",
      "Statistic of set:  Test dataset 0\n",
      "             Dataset size : 749\n",
      "                   Labels : True\n",
      "           Min node count : 26\n",
      "       Average node count : 472.5\n",
      "           Max node count : 3159\n",
      "           Min edge count : 26.0\n",
      "       Average edge count : 553.19\n",
      "           Max edge count : 4103.0\n",
      "     Min filling fraction : 0.0\n",
      " Average filling fraction : 0.01\n",
      "     Max filling fraction : 0.08\n",
      "          Label \"1\" count : 140\n",
      "          Label \"2\" count : 134\n",
      "          Label \"3\" count : 156\n",
      "          Label \"4\" count : 161\n",
      "          Label \"5\" count : 158\n",
      "----------------------------------------------------------------\n"
     ]
    },
    {
     "data": {
      "application/vnd.jupyter.widget-view+json": {
       "model_id": "689dcd0009a34aeaabb46c78c9a758c9",
       "version_major": 2,
       "version_minor": 0
      },
      "text/plain": [
       "preparing dataset train for autoencoder:   0%|          | 0/3501 [00:00<?, ?it/s]"
      ]
     },
     "metadata": {},
     "output_type": "display_data"
    },
    {
     "data": {
      "application/vnd.jupyter.widget-view+json": {
       "model_id": "043f8f792d7b4fa6b008eb4a5cff411b",
       "version_major": 2,
       "version_minor": 0
      },
      "text/plain": [
       "preparing dataset val 0 for autoencoder:   0%|          | 0/749 [00:00<?, ?it/s]"
      ]
     },
     "metadata": {},
     "output_type": "display_data"
    },
    {
     "data": {
      "application/vnd.jupyter.widget-view+json": {
       "model_id": "6233958e044a451ca4551a4aa2eae0a0",
       "version_major": 2,
       "version_minor": 0
      },
      "text/plain": [
       "preparing dataset test 0 for autoencoder:   0%|          | 0/749 [00:00<?, ?it/s]"
      ]
     },
     "metadata": {},
     "output_type": "display_data"
    },
    {
     "data": {
      "application/vnd.jupyter.widget-view+json": {
       "model_id": "dec5cb8c30b647198dffe79c9fce43df",
       "version_major": 2,
       "version_minor": 0
      },
      "text/plain": [
       "reading edges: 0it [00:00, ?it/s]"
      ]
     },
     "metadata": {},
     "output_type": "display_data"
    },
    {
     "name": "stdout",
     "output_type": "stream",
     "text": [
      "Statistic of set:  Full original dataset\n",
      "             Dataset size : 4999\n",
      "                   Labels : True\n",
      "           Min node count : 22\n",
      "       Average node count : 508.52\n",
      "           Max node count : 3648\n",
      "           Min edge count : 21.0\n",
      "       Average edge count : 594.87\n",
      "           Max edge count : 4783.0\n",
      "     Min filling fraction : 0.0\n",
      " Average filling fraction : 0.01\n",
      "     Max filling fraction : 0.09\n",
      "          Label \"1\" count : 1000\n",
      "          Label \"2\" count : 1000\n",
      "          Label \"3\" count : 1000\n",
      "          Label \"4\" count : 1000\n",
      "          Label \"5\" count : 999\n",
      "----------------------------------------------------------------\n",
      "Dataset pickled successfully\n",
      "File path: /usr/local/datasets/REDDIT-MULTI-5K/3.pkl\n",
      "File size: 17.26 GB\n",
      "Statistic of set:  Train dataset\n",
      "             Dataset size : 3501\n",
      "                   Labels : True\n",
      "           Min node count : 22\n",
      "       Average node count : 508.18\n",
      "           Max node count : 3648\n",
      "           Min edge count : 21.0\n",
      "       Average edge count : 593.66\n",
      "           Max edge count : 4783.0\n",
      "     Min filling fraction : 0.0\n",
      " Average filling fraction : 0.01\n",
      "     Max filling fraction : 0.09\n",
      "          Label \"1\" count : 702\n",
      "          Label \"2\" count : 709\n",
      "          Label \"3\" count : 679\n",
      "          Label \"4\" count : 701\n",
      "          Label \"5\" count : 710\n",
      "----------------------------------------------------------------\n",
      "Statistic of set:  Validation dataset 0\n",
      "             Dataset size : 749\n",
      "                   Labels : True\n",
      "           Min node count : 33\n",
      "       Average node count : 531.9\n",
      "           Max node count : 3107\n",
      "           Min edge count : 33.0\n",
      "       Average edge count : 627.97\n",
      "           Max edge count : 4114.0\n",
      "     Min filling fraction : 0.0\n",
      " Average filling fraction : 0.01\n",
      "     Max filling fraction : 0.06\n",
      "          Label \"1\" count : 160\n",
      "          Label \"2\" count : 142\n",
      "          Label \"3\" count : 166\n",
      "          Label \"4\" count : 140\n",
      "          Label \"5\" count : 141\n",
      "----------------------------------------------------------------\n",
      "Statistic of set:  Test dataset 0\n",
      "             Dataset size : 749\n",
      "                   Labels : True\n",
      "           Min node count : 33\n",
      "       Average node count : 486.7\n",
      "           Max node count : 3311\n",
      "           Min edge count : 32.0\n",
      "       Average edge count : 567.47\n",
      "           Max edge count : 4365.0\n",
      "     Min filling fraction : 0.0\n",
      " Average filling fraction : 0.01\n",
      "     Max filling fraction : 0.06\n",
      "          Label \"1\" count : 138\n",
      "          Label \"2\" count : 149\n",
      "          Label \"3\" count : 155\n",
      "          Label \"4\" count : 159\n",
      "          Label \"5\" count : 148\n",
      "----------------------------------------------------------------\n"
     ]
    },
    {
     "data": {
      "application/vnd.jupyter.widget-view+json": {
       "model_id": "57680f734f0d4976b1e48ce685ed2b95",
       "version_major": 2,
       "version_minor": 0
      },
      "text/plain": [
       "preparing dataset train for autoencoder:   0%|          | 0/3501 [00:00<?, ?it/s]"
      ]
     },
     "metadata": {},
     "output_type": "display_data"
    },
    {
     "data": {
      "application/vnd.jupyter.widget-view+json": {
       "model_id": "dcc6870acca64cfaad62e763b503b700",
       "version_major": 2,
       "version_minor": 0
      },
      "text/plain": [
       "preparing dataset val 0 for autoencoder:   0%|          | 0/749 [00:00<?, ?it/s]"
      ]
     },
     "metadata": {},
     "output_type": "display_data"
    },
    {
     "data": {
      "application/vnd.jupyter.widget-view+json": {
       "model_id": "98b8501484b74d088eb4c66851110858",
       "version_major": 2,
       "version_minor": 0
      },
      "text/plain": [
       "preparing dataset test 0 for autoencoder:   0%|          | 0/749 [00:00<?, ?it/s]"
      ]
     },
     "metadata": {},
     "output_type": "display_data"
    },
    {
     "data": {
      "application/vnd.jupyter.widget-view+json": {
       "model_id": "c72cc17410874bc4a3b58d98d62ba5f2",
       "version_major": 2,
       "version_minor": 0
      },
      "text/plain": [
       "reading edges: 0it [00:00, ?it/s]"
      ]
     },
     "metadata": {},
     "output_type": "display_data"
    },
    {
     "name": "stdout",
     "output_type": "stream",
     "text": [
      "Statistic of set:  Full original dataset\n",
      "             Dataset size : 4999\n",
      "                   Labels : True\n",
      "           Min node count : 22\n",
      "       Average node count : 508.52\n",
      "           Max node count : 3648\n",
      "           Min edge count : 21.0\n",
      "       Average edge count : 594.87\n",
      "           Max edge count : 4783.0\n",
      "     Min filling fraction : 0.0\n",
      " Average filling fraction : 0.01\n",
      "     Max filling fraction : 0.09\n",
      "          Label \"1\" count : 1000\n",
      "          Label \"2\" count : 1000\n",
      "          Label \"3\" count : 1000\n",
      "          Label \"4\" count : 1000\n",
      "          Label \"5\" count : 999\n",
      "----------------------------------------------------------------\n",
      "Dataset pickled successfully\n",
      "File path: /usr/local/datasets/REDDIT-MULTI-5K/4.pkl\n",
      "File size: 17.26 GB\n",
      "Statistic of set:  Train dataset\n",
      "             Dataset size : 3501\n",
      "                   Labels : True\n",
      "           Min node count : 22\n",
      "       Average node count : 508.65\n",
      "           Max node count : 3648\n",
      "           Min edge count : 21.0\n",
      "       Average edge count : 595.96\n",
      "           Max edge count : 4783.0\n",
      "     Min filling fraction : 0.0\n",
      " Average filling fraction : 0.01\n",
      "     Max filling fraction : 0.09\n",
      "          Label \"1\" count : 707\n",
      "          Label \"2\" count : 699\n",
      "          Label \"3\" count : 698\n",
      "          Label \"4\" count : 693\n",
      "          Label \"5\" count : 704\n",
      "----------------------------------------------------------------\n",
      "Statistic of set:  Validation dataset 0\n",
      "             Dataset size : 749\n",
      "                   Labels : True\n",
      "           Min node count : 41\n",
      "       Average node count : 502.36\n",
      "           Max node count : 3159\n",
      "           Min edge count : 41.0\n",
      "       Average edge count : 587.7\n",
      "           Max edge count : 4110.0\n",
      "     Min filling fraction : 0.0\n",
      " Average filling fraction : 0.01\n",
      "     Max filling fraction : 0.05\n",
      "          Label \"1\" count : 139\n",
      "          Label \"2\" count : 146\n",
      "          Label \"3\" count : 157\n",
      "          Label \"4\" count : 161\n",
      "          Label \"5\" count : 146\n",
      "----------------------------------------------------------------\n",
      "Statistic of set:  Test dataset 0\n",
      "             Dataset size : 749\n",
      "                   Labels : True\n",
      "           Min node count : 39\n",
      "       Average node count : 514.06\n",
      "           Max node count : 3107\n",
      "           Min edge count : 39.0\n",
      "       Average edge count : 596.97\n",
      "           Max edge count : 4114.0\n",
      "     Min filling fraction : 0.0\n",
      " Average filling fraction : 0.01\n",
      "     Max filling fraction : 0.05\n",
      "          Label \"1\" count : 154\n",
      "          Label \"2\" count : 155\n",
      "          Label \"3\" count : 145\n",
      "          Label \"4\" count : 146\n",
      "          Label \"5\" count : 149\n",
      "----------------------------------------------------------------\n"
     ]
    },
    {
     "data": {
      "application/vnd.jupyter.widget-view+json": {
       "model_id": "89a0ab5768644902b3222561437b7f99",
       "version_major": 2,
       "version_minor": 0
      },
      "text/plain": [
       "preparing dataset train for autoencoder:   0%|          | 0/3501 [00:00<?, ?it/s]"
      ]
     },
     "metadata": {},
     "output_type": "display_data"
    },
    {
     "data": {
      "application/vnd.jupyter.widget-view+json": {
       "model_id": "2b529c2b12e2409aaac44aba63e07f67",
       "version_major": 2,
       "version_minor": 0
      },
      "text/plain": [
       "preparing dataset val 0 for autoencoder:   0%|          | 0/749 [00:00<?, ?it/s]"
      ]
     },
     "metadata": {},
     "output_type": "display_data"
    },
    {
     "data": {
      "application/vnd.jupyter.widget-view+json": {
       "model_id": "81a0ea7f352b4b0b9702f489e06faba5",
       "version_major": 2,
       "version_minor": 0
      },
      "text/plain": [
       "preparing dataset test 0 for autoencoder:   0%|          | 0/749 [00:00<?, ?it/s]"
      ]
     },
     "metadata": {},
     "output_type": "display_data"
    }
   ],
   "source": [
    "save_datasets('REDDIT-MULTI-5K')"
   ]
  },
  {
   "cell_type": "code",
   "execution_count": 17,
   "id": "216a3de5",
   "metadata": {
    "scrolled": false
   },
   "outputs": [
    {
     "data": {
      "application/vnd.jupyter.widget-view+json": {
       "model_id": "8aa02eb60bbf46a1bec2c350980f0eff",
       "version_major": 2,
       "version_minor": 0
      },
      "text/plain": [
       "REDDIT-MULTI-12K:   0%|          | 0/5 [00:00<?, ?it/s]"
      ]
     },
     "metadata": {},
     "output_type": "display_data"
    },
    {
     "data": {
      "application/vnd.jupyter.widget-view+json": {
       "model_id": "e383116fdd974562a4109a1859956fcb",
       "version_major": 2,
       "version_minor": 0
      },
      "text/plain": [
       "reading edges: 0it [00:00, ?it/s]"
      ]
     },
     "metadata": {},
     "output_type": "display_data"
    },
    {
     "name": "stdout",
     "output_type": "stream",
     "text": [
      "Statistic of set:  Full original dataset\n",
      "             Dataset size : 11929\n",
      "                   Labels : True\n",
      "           Min node count : 2\n",
      "       Average node count : 391.41\n",
      "           Max node count : 3782\n",
      "           Min edge count : 1.0\n",
      "       Average edge count : 456.89\n",
      "           Max edge count : 5171.0\n",
      "     Min filling fraction : 0.0\n",
      " Average filling fraction : 0.02\n",
      "     Max filling fraction : 1.0\n",
      "          Label \"1\" count : 767\n",
      "          Label \"2\" count : 1094\n",
      "          Label \"3\" count : 902\n",
      "          Label \"4\" count : 1205\n",
      "          Label \"5\" count : 513\n",
      "          Label \"6\" count : 999\n",
      "          Label \"7\" count : 1243\n",
      "          Label \"8\" count : 1092\n",
      "          Label \"9\" count : 522\n",
      "         Label \"10\" count : 2592\n",
      "         Label \"11\" count : 1000\n",
      "----------------------------------------------------------------\n",
      "Dataset pickled successfully\n",
      "File path: /usr/local/datasets/REDDIT-MULTI-12K/0.pkl\n",
      "File size: 29.95 GB\n",
      "Statistic of set:  Train dataset\n",
      "             Dataset size : 8351\n",
      "                   Labels : True\n",
      "           Min node count : 2\n",
      "       Average node count : 392.09\n",
      "           Max node count : 3630\n",
      "           Min edge count : 1.0\n",
      "       Average edge count : 458.16\n",
      "           Max edge count : 5171.0\n",
      "     Min filling fraction : 0.0\n",
      " Average filling fraction : 0.02\n",
      "     Max filling fraction : 1.0\n",
      "          Label \"1\" count : 528\n",
      "          Label \"2\" count : 760\n",
      "          Label \"3\" count : 657\n",
      "          Label \"4\" count : 823\n",
      "          Label \"5\" count : 360\n",
      "          Label \"6\" count : 717\n",
      "          Label \"7\" count : 871\n",
      "          Label \"8\" count : 756\n",
      "          Label \"9\" count : 374\n",
      "         Label \"10\" count : 1806\n",
      "         Label \"11\" count : 699\n",
      "----------------------------------------------------------------\n",
      "Statistic of set:  Validation dataset 0\n",
      "             Dataset size : 1789\n",
      "                   Labels : True\n",
      "           Min node count : 6\n",
      "       Average node count : 375.31\n",
      "           Max node count : 3648\n",
      "           Min edge count : 5.0\n",
      "       Average edge count : 435.89\n",
      "           Max edge count : 4360.0\n",
      "     Min filling fraction : 0.0\n",
      " Average filling fraction : 0.02\n",
      "     Max filling fraction : 0.33\n",
      "          Label \"1\" count : 111\n",
      "          Label \"2\" count : 186\n",
      "          Label \"3\" count : 122\n",
      "          Label \"4\" count : 190\n",
      "          Label \"5\" count : 75\n",
      "          Label \"6\" count : 135\n",
      "          Label \"7\" count : 180\n",
      "          Label \"8\" count : 157\n",
      "          Label \"9\" count : 71\n",
      "         Label \"10\" count : 412\n",
      "         Label \"11\" count : 150\n",
      "----------------------------------------------------------------\n",
      "Statistic of set:  Test dataset 0\n",
      "             Dataset size : 1789\n",
      "                   Labels : True\n",
      "           Min node count : 6\n",
      "       Average node count : 404.32\n",
      "           Max node count : 3782\n",
      "           Min edge count : 4.0\n",
      "       Average edge count : 471.98\n",
      "           Max edge count : 4110.0\n",
      "     Min filling fraction : 0.0\n",
      " Average filling fraction : 0.02\n",
      "     Max filling fraction : 0.33\n",
      "          Label \"1\" count : 128\n",
      "          Label \"2\" count : 148\n",
      "          Label \"3\" count : 123\n",
      "          Label \"4\" count : 192\n",
      "          Label \"5\" count : 78\n",
      "          Label \"6\" count : 147\n",
      "          Label \"7\" count : 192\n",
      "          Label \"8\" count : 179\n",
      "          Label \"9\" count : 77\n",
      "         Label \"10\" count : 374\n",
      "         Label \"11\" count : 151\n",
      "----------------------------------------------------------------\n"
     ]
    },
    {
     "data": {
      "application/vnd.jupyter.widget-view+json": {
       "model_id": "b619c7192fea4faab70dadf1380132ed",
       "version_major": 2,
       "version_minor": 0
      },
      "text/plain": [
       "preparing dataset train for autoencoder:   0%|          | 0/8351 [00:00<?, ?it/s]"
      ]
     },
     "metadata": {},
     "output_type": "display_data"
    },
    {
     "data": {
      "application/vnd.jupyter.widget-view+json": {
       "model_id": "3a1846b029054b77b174dfa57bdf6201",
       "version_major": 2,
       "version_minor": 0
      },
      "text/plain": [
       "preparing dataset val 0 for autoencoder:   0%|          | 0/1789 [00:00<?, ?it/s]"
      ]
     },
     "metadata": {},
     "output_type": "display_data"
    },
    {
     "data": {
      "application/vnd.jupyter.widget-view+json": {
       "model_id": "f5088e2fb34f473cbcd59c121c2eff44",
       "version_major": 2,
       "version_minor": 0
      },
      "text/plain": [
       "preparing dataset test 0 for autoencoder:   0%|          | 0/1789 [00:00<?, ?it/s]"
      ]
     },
     "metadata": {},
     "output_type": "display_data"
    },
    {
     "data": {
      "application/vnd.jupyter.widget-view+json": {
       "model_id": "8b6b77cbc96b40f5b861097828c273f3",
       "version_major": 2,
       "version_minor": 0
      },
      "text/plain": [
       "reading edges: 0it [00:00, ?it/s]"
      ]
     },
     "metadata": {},
     "output_type": "display_data"
    },
    {
     "name": "stdout",
     "output_type": "stream",
     "text": [
      "Statistic of set:  Full original dataset\n",
      "             Dataset size : 11929\n",
      "                   Labels : True\n",
      "           Min node count : 2\n",
      "       Average node count : 391.41\n",
      "           Max node count : 3782\n",
      "           Min edge count : 1.0\n",
      "       Average edge count : 456.89\n",
      "           Max edge count : 5171.0\n",
      "     Min filling fraction : 0.0\n",
      " Average filling fraction : 0.02\n",
      "     Max filling fraction : 1.0\n",
      "          Label \"1\" count : 767\n",
      "          Label \"2\" count : 1094\n",
      "          Label \"3\" count : 902\n",
      "          Label \"4\" count : 1205\n",
      "          Label \"5\" count : 513\n",
      "          Label \"6\" count : 999\n",
      "          Label \"7\" count : 1243\n",
      "          Label \"8\" count : 1092\n",
      "          Label \"9\" count : 522\n",
      "         Label \"10\" count : 2592\n",
      "         Label \"11\" count : 1000\n",
      "----------------------------------------------------------------\n",
      "Dataset pickled successfully\n",
      "File path: /usr/local/datasets/REDDIT-MULTI-12K/1.pkl\n",
      "File size: 29.95 GB\n",
      "Statistic of set:  Train dataset\n",
      "             Dataset size : 8351\n",
      "                   Labels : True\n",
      "           Min node count : 2\n",
      "       Average node count : 392.57\n",
      "           Max node count : 3648\n",
      "           Min edge count : 1.0\n",
      "       Average edge count : 458.64\n",
      "           Max edge count : 5171.0\n",
      "     Min filling fraction : 0.0\n",
      " Average filling fraction : 0.02\n",
      "     Max filling fraction : 1.0\n",
      "          Label \"1\" count : 540\n",
      "          Label \"2\" count : 782\n",
      "          Label \"3\" count : 638\n",
      "          Label \"4\" count : 849\n",
      "          Label \"5\" count : 367\n",
      "          Label \"6\" count : 690\n",
      "          Label \"7\" count : 862\n",
      "          Label \"8\" count : 761\n",
      "          Label \"9\" count : 343\n",
      "         Label \"10\" count : 1834\n",
      "         Label \"11\" count : 685\n",
      "----------------------------------------------------------------\n",
      "Statistic of set:  Validation dataset 0\n",
      "             Dataset size : 1789\n",
      "                   Labels : True\n",
      "           Min node count : 4\n",
      "       Average node count : 392.73\n",
      "           Max node count : 3630\n",
      "           Min edge count : 3.0\n",
      "       Average edge count : 458.6\n",
      "           Max edge count : 4110.0\n",
      "     Min filling fraction : 0.0\n",
      " Average filling fraction : 0.02\n",
      "     Max filling fraction : 0.5\n",
      "          Label \"1\" count : 102\n",
      "          Label \"2\" count : 142\n",
      "          Label \"3\" count : 140\n",
      "          Label \"4\" count : 185\n",
      "          Label \"5\" count : 76\n",
      "          Label \"6\" count : 153\n",
      "          Label \"7\" count : 193\n",
      "          Label \"8\" count : 163\n",
      "          Label \"9\" count : 97\n",
      "         Label \"10\" count : 393\n",
      "         Label \"11\" count : 145\n",
      "----------------------------------------------------------------\n",
      "Statistic of set:  Test dataset 0\n",
      "             Dataset size : 1789\n",
      "                   Labels : True\n",
      "           Min node count : 5\n",
      "       Average node count : 384.68\n",
      "           Max node count : 3782\n",
      "           Min edge count : 4.0\n",
      "       Average edge count : 447.01\n",
      "           Max edge count : 4071.0\n",
      "     Min filling fraction : 0.0\n",
      " Average filling fraction : 0.02\n",
      "     Max filling fraction : 0.4\n",
      "          Label \"1\" count : 125\n",
      "          Label \"2\" count : 170\n",
      "          Label \"3\" count : 124\n",
      "          Label \"4\" count : 171\n",
      "          Label \"5\" count : 70\n",
      "          Label \"6\" count : 156\n",
      "          Label \"7\" count : 188\n",
      "          Label \"8\" count : 168\n",
      "          Label \"9\" count : 82\n",
      "         Label \"10\" count : 365\n",
      "         Label \"11\" count : 170\n",
      "----------------------------------------------------------------\n"
     ]
    },
    {
     "data": {
      "application/vnd.jupyter.widget-view+json": {
       "model_id": "977606119c134bc2a300f20e2da6ba11",
       "version_major": 2,
       "version_minor": 0
      },
      "text/plain": [
       "preparing dataset train for autoencoder:   0%|          | 0/8351 [00:00<?, ?it/s]"
      ]
     },
     "metadata": {},
     "output_type": "display_data"
    },
    {
     "data": {
      "application/vnd.jupyter.widget-view+json": {
       "model_id": "53488715395a4f34924983e74a708d4d",
       "version_major": 2,
       "version_minor": 0
      },
      "text/plain": [
       "preparing dataset val 0 for autoencoder:   0%|          | 0/1789 [00:00<?, ?it/s]"
      ]
     },
     "metadata": {},
     "output_type": "display_data"
    },
    {
     "data": {
      "application/vnd.jupyter.widget-view+json": {
       "model_id": "9ba8df66302c4c168d35d048cc85f5a6",
       "version_major": 2,
       "version_minor": 0
      },
      "text/plain": [
       "preparing dataset test 0 for autoencoder:   0%|          | 0/1789 [00:00<?, ?it/s]"
      ]
     },
     "metadata": {},
     "output_type": "display_data"
    },
    {
     "data": {
      "application/vnd.jupyter.widget-view+json": {
       "model_id": "63dd865826a54be189b31d6948ee0a7c",
       "version_major": 2,
       "version_minor": 0
      },
      "text/plain": [
       "reading edges: 0it [00:00, ?it/s]"
      ]
     },
     "metadata": {},
     "output_type": "display_data"
    },
    {
     "name": "stdout",
     "output_type": "stream",
     "text": [
      "Statistic of set:  Full original dataset\n",
      "             Dataset size : 11929\n",
      "                   Labels : True\n",
      "           Min node count : 2\n",
      "       Average node count : 391.41\n",
      "           Max node count : 3782\n",
      "           Min edge count : 1.0\n",
      "       Average edge count : 456.89\n",
      "           Max edge count : 5171.0\n",
      "     Min filling fraction : 0.0\n",
      " Average filling fraction : 0.02\n",
      "     Max filling fraction : 1.0\n",
      "          Label \"1\" count : 767\n",
      "          Label \"2\" count : 1094\n",
      "          Label \"3\" count : 902\n",
      "          Label \"4\" count : 1205\n",
      "          Label \"5\" count : 513\n",
      "          Label \"6\" count : 999\n",
      "          Label \"7\" count : 1243\n",
      "          Label \"8\" count : 1092\n",
      "          Label \"9\" count : 522\n",
      "         Label \"10\" count : 2592\n",
      "         Label \"11\" count : 1000\n",
      "----------------------------------------------------------------\n",
      "Dataset pickled successfully\n",
      "File path: /usr/local/datasets/REDDIT-MULTI-12K/2.pkl\n",
      "File size: 29.95 GB\n",
      "Statistic of set:  Train dataset\n",
      "             Dataset size : 8351\n",
      "                   Labels : True\n",
      "           Min node count : 3\n",
      "       Average node count : 388.92\n",
      "           Max node count : 3782\n",
      "           Min edge count : 2.0\n",
      "       Average edge count : 453.24\n",
      "           Max edge count : 5171.0\n",
      "     Min filling fraction : 0.0\n",
      " Average filling fraction : 0.02\n",
      "     Max filling fraction : 0.67\n",
      "          Label \"1\" count : 537\n",
      "          Label \"2\" count : 786\n",
      "          Label \"3\" count : 625\n",
      "          Label \"4\" count : 838\n",
      "          Label \"5\" count : 351\n",
      "          Label \"6\" count : 690\n",
      "          Label \"7\" count : 881\n",
      "          Label \"8\" count : 759\n",
      "          Label \"9\" count : 381\n",
      "         Label \"10\" count : 1802\n",
      "         Label \"11\" count : 701\n",
      "----------------------------------------------------------------\n",
      "Statistic of set:  Validation dataset 0\n",
      "             Dataset size : 1789\n",
      "                   Labels : True\n",
      "           Min node count : 4\n",
      "       Average node count : 387.21\n",
      "           Max node count : 3236\n",
      "           Min edge count : 3.0\n",
      "       Average edge count : 452.42\n",
      "           Max edge count : 4110.0\n",
      "     Min filling fraction : 0.0\n",
      " Average filling fraction : 0.02\n",
      "     Max filling fraction : 0.5\n",
      "          Label \"1\" count : 119\n",
      "          Label \"2\" count : 151\n",
      "          Label \"3\" count : 142\n",
      "          Label \"4\" count : 168\n",
      "          Label \"5\" count : 83\n",
      "          Label \"6\" count : 163\n",
      "          Label \"7\" count : 189\n",
      "          Label \"8\" count : 171\n",
      "          Label \"9\" count : 73\n",
      "         Label \"10\" count : 371\n",
      "         Label \"11\" count : 159\n",
      "----------------------------------------------------------------\n",
      "Statistic of set:  Test dataset 0\n",
      "             Dataset size : 1789\n",
      "                   Labels : True\n",
      "           Min node count : 2\n",
      "       Average node count : 407.21\n",
      "           Max node count : 3648\n",
      "           Min edge count : 1.0\n",
      "       Average edge count : 478.38\n",
      "           Max edge count : 4360.0\n",
      "     Min filling fraction : 0.0\n",
      " Average filling fraction : 0.02\n",
      "     Max filling fraction : 1.0\n",
      "          Label \"1\" count : 111\n",
      "          Label \"2\" count : 157\n",
      "          Label \"3\" count : 135\n",
      "          Label \"4\" count : 199\n",
      "          Label \"5\" count : 79\n",
      "          Label \"6\" count : 146\n",
      "          Label \"7\" count : 173\n",
      "          Label \"8\" count : 162\n",
      "          Label \"9\" count : 68\n",
      "         Label \"10\" count : 419\n",
      "         Label \"11\" count : 140\n",
      "----------------------------------------------------------------\n"
     ]
    },
    {
     "data": {
      "application/vnd.jupyter.widget-view+json": {
       "model_id": "5a9462d93292498fa95e9c10099db71f",
       "version_major": 2,
       "version_minor": 0
      },
      "text/plain": [
       "preparing dataset train for autoencoder:   0%|          | 0/8351 [00:00<?, ?it/s]"
      ]
     },
     "metadata": {},
     "output_type": "display_data"
    },
    {
     "data": {
      "application/vnd.jupyter.widget-view+json": {
       "model_id": "36e0d9b3db424f099320ad04df6c43ea",
       "version_major": 2,
       "version_minor": 0
      },
      "text/plain": [
       "preparing dataset val 0 for autoencoder:   0%|          | 0/1789 [00:00<?, ?it/s]"
      ]
     },
     "metadata": {},
     "output_type": "display_data"
    },
    {
     "data": {
      "application/vnd.jupyter.widget-view+json": {
       "model_id": "8e31f4ffdbf649239a60f8badec16eac",
       "version_major": 2,
       "version_minor": 0
      },
      "text/plain": [
       "preparing dataset test 0 for autoencoder:   0%|          | 0/1789 [00:00<?, ?it/s]"
      ]
     },
     "metadata": {},
     "output_type": "display_data"
    },
    {
     "data": {
      "application/vnd.jupyter.widget-view+json": {
       "model_id": "1db5244b696040859d4f1ae19797591a",
       "version_major": 2,
       "version_minor": 0
      },
      "text/plain": [
       "reading edges: 0it [00:00, ?it/s]"
      ]
     },
     "metadata": {},
     "output_type": "display_data"
    },
    {
     "name": "stdout",
     "output_type": "stream",
     "text": [
      "Statistic of set:  Full original dataset\n",
      "             Dataset size : 11929\n",
      "                   Labels : True\n",
      "           Min node count : 2\n",
      "       Average node count : 391.41\n",
      "           Max node count : 3782\n",
      "           Min edge count : 1.0\n",
      "       Average edge count : 456.89\n",
      "           Max edge count : 5171.0\n",
      "     Min filling fraction : 0.0\n",
      " Average filling fraction : 0.02\n",
      "     Max filling fraction : 1.0\n",
      "          Label \"1\" count : 767\n",
      "          Label \"2\" count : 1094\n",
      "          Label \"3\" count : 902\n",
      "          Label \"4\" count : 1205\n",
      "          Label \"5\" count : 513\n",
      "          Label \"6\" count : 999\n",
      "          Label \"7\" count : 1243\n",
      "          Label \"8\" count : 1092\n",
      "          Label \"9\" count : 522\n",
      "         Label \"10\" count : 2592\n",
      "         Label \"11\" count : 1000\n",
      "----------------------------------------------------------------\n",
      "Dataset pickled successfully\n",
      "File path: /usr/local/datasets/REDDIT-MULTI-12K/3.pkl\n",
      "File size: 29.95 GB\n",
      "Statistic of set:  Train dataset\n",
      "             Dataset size : 8351\n",
      "                   Labels : True\n",
      "           Min node count : 3\n",
      "       Average node count : 389.25\n",
      "           Max node count : 3782\n",
      "           Min edge count : 2.0\n",
      "       Average edge count : 454.06\n",
      "           Max edge count : 4783.0\n",
      "     Min filling fraction : 0.0\n",
      " Average filling fraction : 0.02\n",
      "     Max filling fraction : 0.67\n",
      "          Label \"1\" count : 531\n",
      "          Label \"2\" count : 742\n",
      "          Label \"3\" count : 642\n",
      "          Label \"4\" count : 867\n",
      "          Label \"5\" count : 365\n",
      "          Label \"6\" count : 714\n",
      "          Label \"7\" count : 867\n",
      "          Label \"8\" count : 762\n",
      "          Label \"9\" count : 355\n",
      "         Label \"10\" count : 1798\n",
      "         Label \"11\" count : 708\n",
      "----------------------------------------------------------------\n",
      "Statistic of set:  Validation dataset 0\n",
      "             Dataset size : 1789\n",
      "                   Labels : True\n",
      "           Min node count : 9\n",
      "       Average node count : 406.31\n",
      "           Max node count : 3259\n",
      "           Min edge count : 8.0\n",
      "       Average edge count : 475.19\n",
      "           Max edge count : 4026.0\n",
      "     Min filling fraction : 0.0\n",
      " Average filling fraction : 0.02\n",
      "     Max filling fraction : 0.24\n",
      "          Label \"1\" count : 118\n",
      "          Label \"2\" count : 161\n",
      "          Label \"3\" count : 124\n",
      "          Label \"4\" count : 173\n",
      "          Label \"5\" count : 71\n",
      "          Label \"6\" count : 143\n",
      "          Label \"7\" count : 198\n",
      "          Label \"8\" count : 167\n",
      "          Label \"9\" count : 82\n",
      "         Label \"10\" count : 406\n",
      "         Label \"11\" count : 146\n",
      "----------------------------------------------------------------\n",
      "Statistic of set:  Test dataset 0\n",
      "             Dataset size : 1789\n",
      "                   Labels : True\n",
      "           Min node count : 2\n",
      "       Average node count : 386.6\n",
      "           Max node count : 3542\n",
      "           Min edge count : 1.0\n",
      "       Average edge count : 451.81\n",
      "           Max edge count : 5171.0\n",
      "     Min filling fraction : 0.0\n",
      " Average filling fraction : 0.02\n",
      "     Max filling fraction : 1.0\n",
      "          Label \"1\" count : 118\n",
      "          Label \"2\" count : 191\n",
      "          Label \"3\" count : 136\n",
      "          Label \"4\" count : 165\n",
      "          Label \"5\" count : 77\n",
      "          Label \"6\" count : 142\n",
      "          Label \"7\" count : 178\n",
      "          Label \"8\" count : 163\n",
      "          Label \"9\" count : 85\n",
      "         Label \"10\" count : 388\n",
      "         Label \"11\" count : 146\n",
      "----------------------------------------------------------------\n"
     ]
    },
    {
     "data": {
      "application/vnd.jupyter.widget-view+json": {
       "model_id": "ac42dae6bc6f48d28f9393b1a1524c20",
       "version_major": 2,
       "version_minor": 0
      },
      "text/plain": [
       "preparing dataset train for autoencoder:   0%|          | 0/8351 [00:00<?, ?it/s]"
      ]
     },
     "metadata": {},
     "output_type": "display_data"
    },
    {
     "data": {
      "application/vnd.jupyter.widget-view+json": {
       "model_id": "15945dcc28f045f593666aef3ee64fdc",
       "version_major": 2,
       "version_minor": 0
      },
      "text/plain": [
       "preparing dataset val 0 for autoencoder:   0%|          | 0/1789 [00:00<?, ?it/s]"
      ]
     },
     "metadata": {},
     "output_type": "display_data"
    },
    {
     "data": {
      "application/vnd.jupyter.widget-view+json": {
       "model_id": "90ee5c1692674116aed6e611e455ee65",
       "version_major": 2,
       "version_minor": 0
      },
      "text/plain": [
       "preparing dataset test 0 for autoencoder:   0%|          | 0/1789 [00:00<?, ?it/s]"
      ]
     },
     "metadata": {},
     "output_type": "display_data"
    },
    {
     "data": {
      "application/vnd.jupyter.widget-view+json": {
       "model_id": "728638226590410380a626ea6ef8206c",
       "version_major": 2,
       "version_minor": 0
      },
      "text/plain": [
       "reading edges: 0it [00:00, ?it/s]"
      ]
     },
     "metadata": {},
     "output_type": "display_data"
    },
    {
     "name": "stdout",
     "output_type": "stream",
     "text": [
      "Statistic of set:  Full original dataset\n",
      "             Dataset size : 11929\n",
      "                   Labels : True\n",
      "           Min node count : 2\n",
      "       Average node count : 391.41\n",
      "           Max node count : 3782\n",
      "           Min edge count : 1.0\n",
      "       Average edge count : 456.89\n",
      "           Max edge count : 5171.0\n",
      "     Min filling fraction : 0.0\n",
      " Average filling fraction : 0.02\n",
      "     Max filling fraction : 1.0\n",
      "          Label \"1\" count : 767\n",
      "          Label \"2\" count : 1094\n",
      "          Label \"3\" count : 902\n",
      "          Label \"4\" count : 1205\n",
      "          Label \"5\" count : 513\n",
      "          Label \"6\" count : 999\n",
      "          Label \"7\" count : 1243\n",
      "          Label \"8\" count : 1092\n",
      "          Label \"9\" count : 522\n",
      "         Label \"10\" count : 2592\n",
      "         Label \"11\" count : 1000\n",
      "----------------------------------------------------------------\n",
      "Dataset pickled successfully\n",
      "File path: /usr/local/datasets/REDDIT-MULTI-12K/4.pkl\n",
      "File size: 29.95 GB\n",
      "Statistic of set:  Train dataset\n",
      "             Dataset size : 8351\n",
      "                   Labels : True\n",
      "           Min node count : 4\n",
      "       Average node count : 388.65\n",
      "           Max node count : 3782\n",
      "           Min edge count : 3.0\n",
      "       Average edge count : 453.69\n",
      "           Max edge count : 5171.0\n",
      "     Min filling fraction : 0.0\n",
      " Average filling fraction : 0.02\n",
      "     Max filling fraction : 0.5\n",
      "          Label \"1\" count : 556\n",
      "          Label \"2\" count : 764\n",
      "          Label \"3\" count : 638\n",
      "          Label \"4\" count : 815\n",
      "          Label \"5\" count : 338\n",
      "          Label \"6\" count : 701\n",
      "          Label \"7\" count : 860\n",
      "          Label \"8\" count : 762\n",
      "          Label \"9\" count : 373\n",
      "         Label \"10\" count : 1848\n",
      "         Label \"11\" count : 696\n",
      "----------------------------------------------------------------\n",
      "Statistic of set:  Validation dataset 0\n",
      "             Dataset size : 1789\n",
      "                   Labels : True\n",
      "           Min node count : 2\n",
      "       Average node count : 390.69\n",
      "           Max node count : 3236\n",
      "           Min edge count : 1.0\n",
      "       Average edge count : 456.03\n",
      "           Max edge count : 3743.0\n",
      "     Min filling fraction : 0.0\n",
      " Average filling fraction : 0.02\n",
      "     Max filling fraction : 1.0\n",
      "          Label \"1\" count : 93\n",
      "          Label \"2\" count : 162\n",
      "          Label \"3\" count : 125\n",
      "          Label \"4\" count : 208\n",
      "          Label \"5\" count : 88\n",
      "          Label \"6\" count : 146\n",
      "          Label \"7\" count : 194\n",
      "          Label \"8\" count : 159\n",
      "          Label \"9\" count : 71\n",
      "         Label \"10\" count : 381\n",
      "         Label \"11\" count : 162\n",
      "----------------------------------------------------------------\n",
      "Statistic of set:  Test dataset 0\n",
      "             Dataset size : 1789\n",
      "                   Labels : True\n",
      "           Min node count : 3\n",
      "       Average node count : 405.02\n",
      "           Max node count : 3648\n",
      "           Min edge count : 2.0\n",
      "       Average edge count : 472.69\n",
      "           Max edge count : 4360.0\n",
      "     Min filling fraction : 0.0\n",
      " Average filling fraction : 0.02\n",
      "     Max filling fraction : 0.67\n",
      "          Label \"1\" count : 118\n",
      "          Label \"2\" count : 168\n",
      "          Label \"3\" count : 139\n",
      "          Label \"4\" count : 182\n",
      "          Label \"5\" count : 87\n",
      "          Label \"6\" count : 152\n",
      "          Label \"7\" count : 189\n",
      "          Label \"8\" count : 171\n",
      "          Label \"9\" count : 78\n",
      "         Label \"10\" count : 363\n",
      "         Label \"11\" count : 142\n",
      "----------------------------------------------------------------\n"
     ]
    },
    {
     "data": {
      "application/vnd.jupyter.widget-view+json": {
       "model_id": "96b786399c6c4d818935d7500bbc51ef",
       "version_major": 2,
       "version_minor": 0
      },
      "text/plain": [
       "preparing dataset train for autoencoder:   0%|          | 0/8351 [00:00<?, ?it/s]"
      ]
     },
     "metadata": {},
     "output_type": "display_data"
    },
    {
     "data": {
      "application/vnd.jupyter.widget-view+json": {
       "model_id": "f7b2e53e87ef4ecd862eded6fce1b427",
       "version_major": 2,
       "version_minor": 0
      },
      "text/plain": [
       "preparing dataset val 0 for autoencoder:   0%|          | 0/1789 [00:00<?, ?it/s]"
      ]
     },
     "metadata": {},
     "output_type": "display_data"
    },
    {
     "data": {
      "application/vnd.jupyter.widget-view+json": {
       "model_id": "2b5c1ccc3abb4ee4936146ce770ca108",
       "version_major": 2,
       "version_minor": 0
      },
      "text/plain": [
       "preparing dataset test 0 for autoencoder:   0%|          | 0/1789 [00:00<?, ?it/s]"
      ]
     },
     "metadata": {},
     "output_type": "display_data"
    }
   ],
   "source": [
    "save_datasets('REDDIT-MULTI-12K')"
   ]
  },
  {
   "cell_type": "code",
   "execution_count": null,
   "id": "075476e1",
   "metadata": {},
   "outputs": [],
   "source": []
  }
 ],
 "metadata": {
  "interpreter": {
   "hash": "c37224fb4409952eb251e31ba483053a30ac3ecaa917b50e887cf90f0c69f7d5"
  },
  "kernelspec": {
   "display_name": "Python 3 (ipykernel)",
   "language": "python",
   "name": "python3"
  },
  "language_info": {
   "codemirror_mode": {
    "name": "ipython",
    "version": 3
   },
   "file_extension": ".py",
   "mimetype": "text/x-python",
   "name": "python",
   "nbconvert_exporter": "python",
   "pygments_lexer": "ipython3",
   "version": "3.9.7"
  }
 },
 "nbformat": 4,
 "nbformat_minor": 5
}
