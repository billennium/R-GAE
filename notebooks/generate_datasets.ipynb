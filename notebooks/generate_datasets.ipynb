{
 "cells": [
  {
   "cell_type": "code",
   "execution_count": null,
   "id": "89471fec",
   "metadata": {},
   "outputs": [],
   "source": [
    "cd .."
   ]
  },
  {
   "cell_type": "code",
   "execution_count": null,
   "id": "bbb519c3",
   "metadata": {},
   "outputs": [],
   "source": [
    "import gc\n",
    "import torch\n",
    "import random\n",
    "import numpy as np\n",
    "from tqdm.auto import tqdm\n",
    "\n",
    "from rga.data.adj_matrix_data_module import AdjMatrixDataModule\n",
    "from rga.data.graph_loaders import RealGraphLoader, SyntheticGraphLoader\n",
    "from rga.experiments.decorators import add_graphloader_args"
   ]
  },
  {
   "cell_type": "code",
   "execution_count": null,
   "id": "77f784b8",
   "metadata": {},
   "outputs": [],
   "source": [
    "torch.manual_seed(0)\n",
    "random.seed(0)\n",
    "np.random.seed(0)"
   ]
  },
  {
   "cell_type": "code",
   "execution_count": null,
   "id": "e1822467",
   "metadata": {},
   "outputs": [],
   "source": [
    "train_val_test_split = [0.7, 0.15, 0.15]\n",
    "train_val_test_permutation_split = [1, 0, 0.0]\n",
    "num_dataset_graph_permutations = 10"
   ]
  },
  {
   "cell_type": "code",
   "execution_count": null,
   "id": "c86f78cc",
   "metadata": {},
   "outputs": [],
   "source": [
    "N = 5"
   ]
  },
  {
   "cell_type": "code",
   "execution_count": null,
   "id": "c8e56c1b",
   "metadata": {},
   "outputs": [],
   "source": [
    "datasets_path = './datasets'"
   ]
  },
  {
   "cell_type": "code",
   "execution_count": null,
   "id": "a4bf7f51",
   "metadata": {},
   "outputs": [],
   "source": [
    "to_save_path = '/usr/local/datasets'\n",
    "!mkdir $to_save_path/GRID-MEDIUM\n",
    "!mkdir $to_save_path/IMDB-BINARY\n",
    "!mkdir $to_save_path/IMDB-MULTI\n",
    "!mkdir $to_save_path/COLLAB\n",
    "!mkdir $to_save_path/REDDIT-BINARY\n",
    "!mkdir $to_save_path/REDDIT-MULTI-5K\n",
    "!mkdir $to_save_path/REDDIT-MULTI-12K"
   ]
  },
  {
   "cell_type": "code",
   "execution_count": null,
   "id": "4b72482a",
   "metadata": {},
   "outputs": [],
   "source": [
    "@add_graphloader_args\n",
    "class SyntheticSaver(AdjMatrixDataModule):\n",
    "    graphloader_class = SyntheticGraphLoader"
   ]
  },
  {
   "cell_type": "code",
   "execution_count": null,
   "id": "0d465e8e",
   "metadata": {
    "scrolled": false
   },
   "outputs": [],
   "source": [
    "for i in range(N):\n",
    "    SyntheticSaver(\n",
    "        graph_type='grid_medium',\n",
    "        num_dataset_graph_permutations=100, \n",
    "        train_val_test_split=train_val_test_split, \n",
    "        train_val_test_permutation_split=train_val_test_permutation_split,\n",
    "        use_labels=False,\n",
    "        save_dataset_to_pickle=to_save_path+'/GRID-MEDIUM/'+str(i)+'.pkl',\n",
    "        bfs=False,\n",
    "        deduplicate_train = False,\n",
    "        deduplicate_val_test = False,\n",
    "        batch_size=1,\n",
    "        batch_size_val=0,\n",
    "        batch_size_test=0,\n",
    "        workers=0\n",
    "    )"
   ]
  },
  {
   "cell_type": "code",
   "execution_count": null,
   "id": "c111509b",
   "metadata": {},
   "outputs": [],
   "source": [
    "@add_graphloader_args\n",
    "class RealSaver(AdjMatrixDataModule):\n",
    "    graphloader_class = RealGraphLoader"
   ]
  },
  {
   "cell_type": "code",
   "execution_count": null,
   "id": "f2f00cdd",
   "metadata": {},
   "outputs": [],
   "source": [
    "def save_datasets(dataset_name):\n",
    "    for i in tqdm(range(N), desc=dataset_name):\n",
    "        RealSaver(\n",
    "            datasets_dir=datasets_path,\n",
    "            dataset_name=dataset_name,\n",
    "            use_labels=True,\n",
    "            max_graph_size=None,\n",
    "            num_dataset_graph_permutations=num_dataset_graph_permutations, \n",
    "            train_val_test_split=train_val_test_split, \n",
    "            train_val_test_permutation_split=train_val_test_permutation_split,\n",
    "            save_dataset_to_pickle=to_save_path+'/'+dataset_name+'/'+str(i)+'.pkl',\n",
    "            bfs=False,\n",
    "            deduplicate_train = False,\n",
    "            deduplicate_val_test = False,\n",
    "            batch_size=1,\n",
    "            batch_size_val=0,\n",
    "            batch_size_test=0,\n",
    "            workers=0\n",
    "        )\n",
    "        gc.collect()"
   ]
  },
  {
   "cell_type": "code",
   "execution_count": null,
   "id": "3b2b8974",
   "metadata": {
    "scrolled": true
   },
   "outputs": [],
   "source": [
    "save_datasets('IMDB-BINARY')"
   ]
  },
  {
   "cell_type": "code",
   "execution_count": null,
   "id": "c50db477",
   "metadata": {
    "scrolled": false
   },
   "outputs": [],
   "source": [
    "save_datasets('IMDB-MULTI')"
   ]
  },
  {
   "cell_type": "code",
   "execution_count": null,
   "id": "cc1e5f1d",
   "metadata": {
    "scrolled": true
   },
   "outputs": [],
   "source": [
    "save_datasets('COLLAB')"
   ]
  },
  {
   "cell_type": "code",
   "execution_count": null,
   "id": "82503874",
   "metadata": {},
   "outputs": [],
   "source": [
    "num_dataset_graph_permutations = 1"
   ]
  },
  {
   "cell_type": "code",
   "execution_count": null,
   "id": "5a7ae33f",
   "metadata": {
    "scrolled": true
   },
   "outputs": [],
   "source": [
    "save_datasets('REDDIT-BINARY')"
   ]
  },
  {
   "cell_type": "code",
   "execution_count": null,
   "id": "5e3c4077",
   "metadata": {
    "scrolled": true
   },
   "outputs": [],
   "source": [
    "save_datasets('REDDIT-MULTI-5K')"
   ]
  },
  {
   "cell_type": "code",
   "execution_count": null,
   "id": "216a3de5",
   "metadata": {
    "scrolled": true
   },
   "outputs": [],
   "source": [
    "save_datasets('REDDIT-MULTI-12K')"
   ]
  },
  {
   "cell_type": "code",
   "execution_count": null,
   "id": "075476e1",
   "metadata": {},
   "outputs": [],
   "source": []
  }
 ],
 "metadata": {
  "interpreter": {
   "hash": "c37224fb4409952eb251e31ba483053a30ac3ecaa917b50e887cf90f0c69f7d5"
  },
  "kernelspec": {
   "display_name": "Python 3 (ipykernel)",
   "language": "python",
   "name": "python3"
  },
  "language_info": {
   "codemirror_mode": {
    "name": "ipython",
    "version": 3
   },
   "file_extension": ".py",
   "mimetype": "text/x-python",
   "name": "python",
   "nbconvert_exporter": "python",
   "pygments_lexer": "ipython3",
   "version": "3.9.7"
  }
 },
 "nbformat": 4,
 "nbformat_minor": 5
}
