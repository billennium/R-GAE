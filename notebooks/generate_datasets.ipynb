{
 "cells": [
  {
   "cell_type": "code",
   "execution_count": null,
   "id": "767c1d3b",
   "metadata": {},
   "outputs": [],
   "source": [
    "cd .."
   ]
  },
  {
   "cell_type": "code",
   "execution_count": 2,
   "id": "bbb519c3",
   "metadata": {},
   "outputs": [],
   "source": [
    "import gc\n",
    "import torch\n",
    "import random\n",
    "import numpy as np\n",
    "from tqdm.auto import tqdm\n",
    "\n",
    "from rga.data.adj_matrix_data_module import AdjMatrixDataModule\n",
    "from rga.data.graph_loaders import RealGraphLoader, SyntheticGraphLoader\n",
    "from rga.experiments.decorators import add_graphloader_args"
   ]
  },
  {
   "cell_type": "code",
   "execution_count": 3,
   "id": "77f784b8",
   "metadata": {},
   "outputs": [],
   "source": [
    "torch.manual_seed(0)\n",
    "random.seed(0)\n",
    "np.random.seed(0)"
   ]
  },
  {
   "cell_type": "code",
   "execution_count": 4,
   "id": "e1822467",
   "metadata": {},
   "outputs": [],
   "source": [
    "train_val_test_split = [0.7, 0.15, 0.15]\n",
    "train_val_test_permutation_split = [1, 0, 0.0]\n",
    "num_dataset_graph_permutations = 10"
   ]
  },
  {
   "cell_type": "code",
   "execution_count": 5,
   "id": "c86f78cc",
   "metadata": {},
   "outputs": [],
   "source": [
    "N = 5"
   ]
  },
  {
   "cell_type": "code",
   "execution_count": 6,
   "id": "c8e56c1b",
   "metadata": {},
   "outputs": [],
   "source": [
    "datasets_path = './datasets'"
   ]
  },
  {
   "cell_type": "code",
   "execution_count": 7,
   "id": "a4bf7f51",
   "metadata": {},
   "outputs": [
    {
     "name": "stdout",
     "output_type": "stream",
     "text": [
      "mkdir: cannot create directory ‘/usr/local/datasets/GRID-MEDIUM’: File exists\n",
      "mkdir: cannot create directory ‘/usr/local/datasets/IMDB-BINARY’: File exists\n",
      "mkdir: cannot create directory ‘/usr/local/datasets/IMDB-MULTI’: File exists\n",
      "mkdir: cannot create directory ‘/usr/local/datasets/COLLAB’: File exists\n",
      "mkdir: cannot create directory ‘/usr/local/datasets/REDDIT-BINARY’: File exists\n",
      "mkdir: cannot create directory ‘/usr/local/datasets/REDDIT-MULTI-5K’: File exists\n",
      "mkdir: cannot create directory ‘/usr/local/datasets/REDDIT-MULTI-12K’: File exists\n"
     ]
    }
   ],
   "source": [
    "to_save_path = '/usr/local/datasets'\n",
    "!mkdir $to_save_path/GRID-MEDIUM\n",
    "!mkdir $to_save_path/IMDB-BINARY\n",
    "!mkdir $to_save_path/IMDB-MULTI\n",
    "!mkdir $to_save_path/COLLAB\n",
    "!mkdir $to_save_path/REDDIT-BINARY\n",
    "!mkdir $to_save_path/REDDIT-MULTI-5K\n",
    "!mkdir $to_save_path/REDDIT-MULTI-12K"
   ]
  },
  {
   "cell_type": "code",
   "execution_count": 8,
   "id": "4b72482a",
   "metadata": {},
   "outputs": [],
   "source": [
    "@add_graphloader_args\n",
    "class SyntheticSaver(AdjMatrixDataModule):\n",
    "    graphloader_class = SyntheticGraphLoader"
   ]
  },
  {
   "cell_type": "code",
   "execution_count": 9,
   "id": "0d465e8e",
   "metadata": {
    "scrolled": false
   },
   "outputs": [
    {
     "name": "stdout",
     "output_type": "stream",
     "text": [
      "Statistic of set:  Full original dataset\n",
      "             Dataset size : 49\n",
      "                   Labels : False\n",
      "           Min node count : 4\n",
      "       Average node count : 25.0\n",
      "           Max node count : 64\n",
      "           Min edge count : 4.0\n",
      "       Average edge count : 40.0\n",
      "           Max edge count : 112.0\n",
      "     Min filling fraction : 0.06\n",
      " Average filling fraction : 0.18\n",
      "     Max filling fraction : 0.67\n",
      "----------------------------------------------------------------\n",
      "Dataset pickled successfully\n",
      "File path: /usr/local/datasets/GRID-MEDIUM/0.pkl\n",
      "File size: 15.87 MB\n",
      "Statistic of set:  Train dataset\n",
      "             Dataset size : 3387\n",
      "                   Labels : False\n",
      "           Min node count : 4\n",
      "       Average node count : 26.02\n",
      "           Max node count : 64\n",
      "           Min edge count : 4.0\n",
      "       Average edge count : 41.81\n",
      "           Max edge count : 112.0\n",
      "     Min filling fraction : 0.06\n",
      " Average filling fraction : 0.17\n",
      "     Max filling fraction : 0.67\n",
      "----------------------------------------------------------------\n",
      "Statistic of set:  Validation dataset 0\n",
      "             Dataset size : 700\n",
      "                   Labels : False\n",
      "           Min node count : 12\n",
      "       Average node count : 32.43\n",
      "           Max node count : 48\n",
      "           Min edge count : 17.0\n",
      "       Average edge count : 53.43\n",
      "           Max edge count : 82.0\n",
      "     Min filling fraction : 0.07\n",
      " Average filling fraction : 0.12\n",
      "     Max filling fraction : 0.26\n",
      "----------------------------------------------------------------\n",
      "Statistic of set:  Test dataset 0\n",
      "             Dataset size : 679\n",
      "                   Labels : False\n",
      "           Min node count : 6\n",
      "       Average node count : 16.31\n",
      "           Max node count : 36\n",
      "           Min edge count : 7.0\n",
      "       Average edge count : 24.08\n",
      "           Max edge count : 60.0\n",
      "     Min filling fraction : 0.1\n",
      " Average filling fraction : 0.24\n",
      "     Max filling fraction : 0.47\n",
      "----------------------------------------------------------------\n"
     ]
    },
    {
     "data": {
      "application/vnd.jupyter.widget-view+json": {
       "model_id": "e629a424275e4c8da6042b44738ef12a",
       "version_major": 2,
       "version_minor": 0
      },
      "text/plain": [
       "preparing dataset train for autoencoder:   0%|          | 0/3387 [00:00<?, ?it/s]"
      ]
     },
     "metadata": {},
     "output_type": "display_data"
    },
    {
     "data": {
      "application/vnd.jupyter.widget-view+json": {
       "model_id": "1c13b91cd37e4c4d8366c2643c927c4c",
       "version_major": 2,
       "version_minor": 0
      },
      "text/plain": [
       "preparing dataset val 0 for autoencoder:   0%|          | 0/700 [00:00<?, ?it/s]"
      ]
     },
     "metadata": {},
     "output_type": "display_data"
    },
    {
     "data": {
      "application/vnd.jupyter.widget-view+json": {
       "model_id": "e975cae61dc24519ba3d9ceea7ad9878",
       "version_major": 2,
       "version_minor": 0
      },
      "text/plain": [
       "preparing dataset test 0 for autoencoder:   0%|          | 0/679 [00:00<?, ?it/s]"
      ]
     },
     "metadata": {},
     "output_type": "display_data"
    },
    {
     "name": "stdout",
     "output_type": "stream",
     "text": [
      "Statistic of set:  Full original dataset\n",
      "             Dataset size : 49\n",
      "                   Labels : False\n",
      "           Min node count : 4\n",
      "       Average node count : 25.0\n",
      "           Max node count : 64\n",
      "           Min edge count : 4.0\n",
      "       Average edge count : 40.0\n",
      "           Max edge count : 112.0\n",
      "     Min filling fraction : 0.06\n",
      " Average filling fraction : 0.18\n",
      "     Max filling fraction : 0.67\n",
      "----------------------------------------------------------------\n",
      "Dataset pickled successfully\n",
      "File path: /usr/local/datasets/GRID-MEDIUM/1.pkl\n",
      "File size: 15.87 MB\n",
      "Statistic of set:  Train dataset\n",
      "             Dataset size : 3353\n",
      "                   Labels : False\n",
      "           Min node count : 4\n",
      "       Average node count : 25.18\n",
      "           Max node count : 64\n",
      "           Min edge count : 4.0\n",
      "       Average edge count : 40.31\n",
      "           Max edge count : 112.0\n",
      "     Min filling fraction : 0.06\n",
      " Average filling fraction : 0.18\n",
      "     Max filling fraction : 0.67\n",
      "----------------------------------------------------------------\n",
      "Statistic of set:  Validation dataset 0\n",
      "             Dataset size : 700\n",
      "                   Labels : False\n",
      "           Min node count : 15\n",
      "       Average node count : 25.71\n",
      "           Max node count : 56\n",
      "           Min edge count : 22.0\n",
      "       Average edge count : 40.86\n",
      "           Max edge count : 97.0\n",
      "     Min filling fraction : 0.06\n",
      " Average filling fraction : 0.15\n",
      "     Max filling fraction : 0.21\n",
      "----------------------------------------------------------------\n",
      "Statistic of set:  Test dataset 0\n",
      "             Dataset size : 700\n",
      "                   Labels : False\n",
      "           Min node count : 9\n",
      "       Average node count : 27.71\n",
      "           Max node count : 49\n",
      "           Min edge count : 12.0\n",
      "       Average edge count : 45.0\n",
      "           Max edge count : 84.0\n",
      "     Min filling fraction : 0.07\n",
      " Average filling fraction : 0.17\n",
      "     Max filling fraction : 0.33\n",
      "----------------------------------------------------------------\n"
     ]
    },
    {
     "data": {
      "application/vnd.jupyter.widget-view+json": {
       "model_id": "b1118a752d8d414daab675b15c76159a",
       "version_major": 2,
       "version_minor": 0
      },
      "text/plain": [
       "preparing dataset train for autoencoder:   0%|          | 0/3353 [00:00<?, ?it/s]"
      ]
     },
     "metadata": {},
     "output_type": "display_data"
    },
    {
     "data": {
      "application/vnd.jupyter.widget-view+json": {
       "model_id": "178875f464994568be1649300a0bbb23",
       "version_major": 2,
       "version_minor": 0
      },
      "text/plain": [
       "preparing dataset val 0 for autoencoder:   0%|          | 0/700 [00:00<?, ?it/s]"
      ]
     },
     "metadata": {},
     "output_type": "display_data"
    },
    {
     "data": {
      "application/vnd.jupyter.widget-view+json": {
       "model_id": "4c845c5292ba49028de32884720c86e0",
       "version_major": 2,
       "version_minor": 0
      },
      "text/plain": [
       "preparing dataset test 0 for autoencoder:   0%|          | 0/700 [00:00<?, ?it/s]"
      ]
     },
     "metadata": {},
     "output_type": "display_data"
    },
    {
     "name": "stdout",
     "output_type": "stream",
     "text": [
      "Statistic of set:  Full original dataset\n",
      "             Dataset size : 49\n",
      "                   Labels : False\n",
      "           Min node count : 4\n",
      "       Average node count : 25.0\n",
      "           Max node count : 64\n",
      "           Min edge count : 4.0\n",
      "       Average edge count : 40.0\n",
      "           Max edge count : 112.0\n",
      "     Min filling fraction : 0.06\n",
      " Average filling fraction : 0.18\n",
      "     Max filling fraction : 0.67\n",
      "----------------------------------------------------------------\n",
      "Dataset pickled successfully\n",
      "File path: /usr/local/datasets/GRID-MEDIUM/2.pkl\n",
      "File size: 15.87 MB\n",
      "Statistic of set:  Train dataset\n",
      "             Dataset size : 3348\n",
      "                   Labels : False\n",
      "           Min node count : 4\n",
      "       Average node count : 26.1\n",
      "           Max node count : 56\n",
      "           Min edge count : 4.0\n",
      "       Average edge count : 42.0\n",
      "           Max edge count : 97.0\n",
      "     Min filling fraction : 0.06\n",
      " Average filling fraction : 0.17\n",
      "     Max filling fraction : 0.67\n",
      "----------------------------------------------------------------\n",
      "Statistic of set:  Validation dataset 0\n",
      "             Dataset size : 700\n",
      "                   Labels : False\n",
      "           Min node count : 10\n",
      "       Average node count : 25.0\n",
      "           Max node count : 49\n",
      "           Min edge count : 13.0\n",
      "       Average edge count : 39.71\n",
      "           Max edge count : 84.0\n",
      "     Min filling fraction : 0.07\n",
      " Average filling fraction : 0.16\n",
      "     Max filling fraction : 0.29\n",
      "----------------------------------------------------------------\n",
      "Statistic of set:  Test dataset 0\n",
      "             Dataset size : 700\n",
      "                   Labels : False\n",
      "           Min node count : 12\n",
      "       Average node count : 24.14\n",
      "           Max node count : 64\n",
      "           Min edge count : 16.0\n",
      "       Average edge count : 38.29\n",
      "           Max edge count : 112.0\n",
      "     Min filling fraction : 0.06\n",
      " Average filling fraction : 0.18\n",
      "     Max filling fraction : 0.26\n",
      "----------------------------------------------------------------\n"
     ]
    },
    {
     "data": {
      "application/vnd.jupyter.widget-view+json": {
       "model_id": "41d029a9a0c84623b2be6bd1c8dcb230",
       "version_major": 2,
       "version_minor": 0
      },
      "text/plain": [
       "preparing dataset train for autoencoder:   0%|          | 0/3348 [00:00<?, ?it/s]"
      ]
     },
     "metadata": {},
     "output_type": "display_data"
    },
    {
     "data": {
      "application/vnd.jupyter.widget-view+json": {
       "model_id": "d01bc82836714a51a4e1caf90c2f3abe",
       "version_major": 2,
       "version_minor": 0
      },
      "text/plain": [
       "preparing dataset val 0 for autoencoder:   0%|          | 0/700 [00:00<?, ?it/s]"
      ]
     },
     "metadata": {},
     "output_type": "display_data"
    },
    {
     "data": {
      "application/vnd.jupyter.widget-view+json": {
       "model_id": "dc66d10f78f74401868def50289755af",
       "version_major": 2,
       "version_minor": 0
      },
      "text/plain": [
       "preparing dataset test 0 for autoencoder:   0%|          | 0/700 [00:00<?, ?it/s]"
      ]
     },
     "metadata": {},
     "output_type": "display_data"
    },
    {
     "name": "stdout",
     "output_type": "stream",
     "text": [
      "Statistic of set:  Full original dataset\n",
      "             Dataset size : 49\n",
      "                   Labels : False\n",
      "           Min node count : 4\n",
      "       Average node count : 25.0\n",
      "           Max node count : 64\n",
      "           Min edge count : 4.0\n",
      "       Average edge count : 40.0\n",
      "           Max edge count : 112.0\n",
      "     Min filling fraction : 0.06\n",
      " Average filling fraction : 0.18\n",
      "     Max filling fraction : 0.67\n",
      "----------------------------------------------------------------\n",
      "Dataset pickled successfully\n",
      "File path: /usr/local/datasets/GRID-MEDIUM/3.pkl\n",
      "File size: 15.87 MB\n",
      "Statistic of set:  Train dataset\n",
      "             Dataset size : 3475\n",
      "                   Labels : False\n",
      "           Min node count : 6\n",
      "       Average node count : 27.18\n",
      "           Max node count : 64\n",
      "           Min edge count : 7.0\n",
      "       Average edge count : 43.95\n",
      "           Max edge count : 112.0\n",
      "     Min filling fraction : 0.06\n",
      " Average filling fraction : 0.16\n",
      "     Max filling fraction : 0.47\n",
      "----------------------------------------------------------------\n",
      "Statistic of set:  Validation dataset 0\n",
      "             Dataset size : 682\n",
      "                   Labels : False\n",
      "           Min node count : 6\n",
      "       Average node count : 24.04\n",
      "           Max node count : 56\n",
      "           Min edge count : 7.0\n",
      "       Average edge count : 38.23\n",
      "           Max edge count : 97.0\n",
      "     Min filling fraction : 0.06\n",
      " Average filling fraction : 0.18\n",
      "     Max filling fraction : 0.47\n",
      "----------------------------------------------------------------\n",
      "Statistic of set:  Test dataset 0\n",
      "             Dataset size : 603\n",
      "                   Labels : False\n",
      "           Min node count : 4\n",
      "       Average node count : 18.26\n",
      "           Max node count : 40\n",
      "           Min edge count : 4.0\n",
      "       Average edge count : 27.38\n",
      "           Max edge count : 67.0\n",
      "     Min filling fraction : 0.09\n",
      " Average filling fraction : 0.2\n",
      "     Max filling fraction : 0.67\n",
      "----------------------------------------------------------------\n"
     ]
    },
    {
     "data": {
      "application/vnd.jupyter.widget-view+json": {
       "model_id": "b1392ab5d5ca43caaf083ecfa37cddfa",
       "version_major": 2,
       "version_minor": 0
      },
      "text/plain": [
       "preparing dataset train for autoencoder:   0%|          | 0/3475 [00:00<?, ?it/s]"
      ]
     },
     "metadata": {},
     "output_type": "display_data"
    },
    {
     "data": {
      "application/vnd.jupyter.widget-view+json": {
       "model_id": "21c7991b3c1f438a834b9fc591533940",
       "version_major": 2,
       "version_minor": 0
      },
      "text/plain": [
       "preparing dataset val 0 for autoencoder:   0%|          | 0/682 [00:00<?, ?it/s]"
      ]
     },
     "metadata": {},
     "output_type": "display_data"
    },
    {
     "data": {
      "application/vnd.jupyter.widget-view+json": {
       "model_id": "7a5c2c07a0754b9c97de2d41a15ae75c",
       "version_major": 2,
       "version_minor": 0
      },
      "text/plain": [
       "preparing dataset test 0 for autoencoder:   0%|          | 0/603 [00:00<?, ?it/s]"
      ]
     },
     "metadata": {},
     "output_type": "display_data"
    },
    {
     "name": "stdout",
     "output_type": "stream",
     "text": [
      "Statistic of set:  Full original dataset\n",
      "             Dataset size : 49\n",
      "                   Labels : False\n",
      "           Min node count : 4\n",
      "       Average node count : 25.0\n",
      "           Max node count : 64\n",
      "           Min edge count : 4.0\n",
      "       Average edge count : 40.0\n",
      "           Max edge count : 112.0\n",
      "     Min filling fraction : 0.06\n",
      " Average filling fraction : 0.18\n",
      "     Max filling fraction : 0.67\n",
      "----------------------------------------------------------------\n",
      "Dataset pickled successfully\n",
      "File path: /usr/local/datasets/GRID-MEDIUM/4.pkl\n",
      "File size: 15.87 MB\n",
      "Statistic of set:  Train dataset\n",
      "             Dataset size : 3358\n",
      "                   Labels : False\n",
      "           Min node count : 4\n",
      "       Average node count : 24.61\n",
      "           Max node count : 64\n",
      "           Min edge count : 4.0\n",
      "       Average edge count : 39.31\n",
      "           Max edge count : 112.0\n",
      "     Min filling fraction : 0.06\n",
      " Average filling fraction : 0.18\n",
      "     Max filling fraction : 0.67\n",
      "----------------------------------------------------------------\n",
      "Statistic of set:  Validation dataset 0\n",
      "             Dataset size : 700\n",
      "                   Labels : False\n",
      "           Min node count : 9\n",
      "       Average node count : 19.0\n",
      "           Max node count : 36\n",
      "           Min edge count : 12.0\n",
      "       Average edge count : 28.57\n",
      "           Max edge count : 60.0\n",
      "     Min filling fraction : 0.1\n",
      " Average filling fraction : 0.2\n",
      "     Max filling fraction : 0.33\n",
      "----------------------------------------------------------------\n",
      "Statistic of set:  Test dataset 0\n",
      "             Dataset size : 700\n",
      "                   Labels : False\n",
      "           Min node count : 15\n",
      "       Average node count : 37.0\n",
      "           Max node count : 56\n",
      "           Min edge count : 22.0\n",
      "       Average edge count : 61.86\n",
      "           Max edge count : 97.0\n",
      "     Min filling fraction : 0.06\n",
      " Average filling fraction : 0.11\n",
      "     Max filling fraction : 0.21\n",
      "----------------------------------------------------------------\n"
     ]
    },
    {
     "data": {
      "application/vnd.jupyter.widget-view+json": {
       "model_id": "aa127f3b07a24062bde3f64c3d3940cd",
       "version_major": 2,
       "version_minor": 0
      },
      "text/plain": [
       "preparing dataset train for autoencoder:   0%|          | 0/3358 [00:00<?, ?it/s]"
      ]
     },
     "metadata": {},
     "output_type": "display_data"
    },
    {
     "data": {
      "application/vnd.jupyter.widget-view+json": {
       "model_id": "d9ac4ce219df478e975215a6d5bf5e3a",
       "version_major": 2,
       "version_minor": 0
      },
      "text/plain": [
       "preparing dataset val 0 for autoencoder:   0%|          | 0/700 [00:00<?, ?it/s]"
      ]
     },
     "metadata": {},
     "output_type": "display_data"
    },
    {
     "data": {
      "application/vnd.jupyter.widget-view+json": {
       "model_id": "0b37af9516734a3f9cca4dc81a516aa0",
       "version_major": 2,
       "version_minor": 0
      },
      "text/plain": [
       "preparing dataset test 0 for autoencoder:   0%|          | 0/700 [00:00<?, ?it/s]"
      ]
     },
     "metadata": {},
     "output_type": "display_data"
    }
   ],
   "source": [
    "for i in range(N):\n",
    "    SyntheticSaver(\n",
    "        graph_type='grid_medium',\n",
    "        num_dataset_graph_permutations=100, \n",
    "        train_val_test_split=train_val_test_split, \n",
    "        train_val_test_permutation_split=train_val_test_permutation_split,\n",
    "        use_labels=False,\n",
    "        save_dataset_to_pickle=to_save_path+'/GRID-MEDIUM/'+str(i)+'.pkl',\n",
    "        bfs=False,\n",
    "        deduplicate_train = False,\n",
    "        deduplicate_val_test = False,\n",
    "        batch_size=1,\n",
    "        batch_size_val=0,\n",
    "        batch_size_test=0,\n",
    "        workers=0\n",
    "    )"
   ]
  },
  {
   "cell_type": "code",
   "execution_count": 10,
   "id": "c111509b",
   "metadata": {},
   "outputs": [],
   "source": [
    "@add_graphloader_args\n",
    "class RealSaver(AdjMatrixDataModule):\n",
    "    graphloader_class = RealGraphLoader"
   ]
  },
  {
   "cell_type": "code",
   "execution_count": 11,
   "id": "f2f00cdd",
   "metadata": {},
   "outputs": [],
   "source": [
    "def save_datasets(dataset_name):\n",
    "    for i in tqdm(range(N), desc=dataset_name):\n",
    "        RealSaver(\n",
    "            datasets_dir=datasets_path,\n",
    "            dataset_name=dataset_name,\n",
    "            use_labels=True,\n",
    "            max_graph_size=None,\n",
    "            num_dataset_graph_permutations=num_dataset_graph_permutations, \n",
    "            train_val_test_split=train_val_test_split, \n",
    "            train_val_test_permutation_split=train_val_test_permutation_split,\n",
    "            save_dataset_to_pickle=to_save_path+'/'+dataset_name+'/'+str(i)+'.pkl',\n",
    "            bfs=False,\n",
    "            deduplicate_train = False,\n",
    "            deduplicate_val_test = False,\n",
    "            batch_size=1,\n",
    "            batch_size_val=0,\n",
    "            batch_size_test=0,\n",
    "            workers=0\n",
    "        )\n",
    "        gc.collect()"
   ]
  },
  {
   "cell_type": "code",
   "execution_count": 12,
   "id": "3b2b8974",
   "metadata": {
    "scrolled": true
   },
   "outputs": [
    {
     "data": {
      "application/vnd.jupyter.widget-view+json": {
       "model_id": "e5cb06c69fc64b39849badf44c86c1f7",
       "version_major": 2,
       "version_minor": 0
      },
      "text/plain": [
       "IMDB-BINARY:   0%|          | 0/5 [00:00<?, ?it/s]"
      ]
     },
     "metadata": {},
     "output_type": "display_data"
    },
    {
     "data": {
      "application/vnd.jupyter.widget-view+json": {
       "model_id": "c85db12e9c944c78bb1fcb8647c2b6f8",
       "version_major": 2,
       "version_minor": 0
      },
      "text/plain": [
       "reading edges: 0it [00:00, ?it/s]"
      ]
     },
     "metadata": {},
     "output_type": "display_data"
    },
    {
     "name": "stdout",
     "output_type": "stream",
     "text": [
      "Statistic of set:  Full original dataset\n",
      "             Dataset size : 1000\n",
      "                   Labels : True\n",
      "           Min node count : 12\n",
      "       Average node count : 19.77\n",
      "           Max node count : 136\n",
      "           Min edge count : 26.0\n",
      "       Average edge count : 96.53\n",
      "           Max edge count : 1249.0\n",
      "     Min filling fraction : 0.1\n",
      " Average filling fraction : 0.52\n",
      "     Max filling fraction : 1.0\n",
      "          Label \"0\" count : 500\n",
      "          Label \"1\" count : 500\n",
      "----------------------------------------------------------------\n",
      "Dataset pickled successfully\n",
      "File path: /usr/local/datasets/IMDB-BINARY/0.pkl\n",
      "File size: 34.54 MB\n",
      "Statistic of set:  Train dataset\n",
      "             Dataset size : 6135\n",
      "                   Labels : True\n",
      "           Min node count : 12\n",
      "       Average node count : 19.87\n",
      "           Max node count : 136\n",
      "           Min edge count : 26.0\n",
      "       Average edge count : 86.56\n",
      "           Max edge count : 1249.0\n",
      "     Min filling fraction : 0.1\n",
      " Average filling fraction : 0.45\n",
      "     Max filling fraction : 1.0\n",
      "          Label \"0\" count : 3073\n",
      "          Label \"1\" count : 3062\n",
      "----------------------------------------------------------------\n",
      "Statistic of set:  Validation dataset 0\n",
      "             Dataset size : 1266\n",
      "                   Labels : True\n",
      "           Min node count : 12\n",
      "       Average node count : 20.12\n",
      "           Max node count : 69\n",
      "           Min edge count : 26.0\n",
      "       Average edge count : 82.92\n",
      "           Max edge count : 542.0\n",
      "     Min filling fraction : 0.1\n",
      " Average filling fraction : 0.45\n",
      "     Max filling fraction : 1.0\n",
      "          Label \"0\" count : 606\n",
      "          Label \"1\" count : 660\n",
      "----------------------------------------------------------------\n",
      "Statistic of set:  Test dataset 0\n",
      "             Dataset size : 1347\n",
      "                   Labels : True\n",
      "           Min node count : 12\n",
      "       Average node count : 21.09\n",
      "           Max node count : 72\n",
      "           Min edge count : 27.0\n",
      "       Average edge count : 91.19\n",
      "           Max edge count : 476.0\n",
      "     Min filling fraction : 0.1\n",
      " Average filling fraction : 0.44\n",
      "     Max filling fraction : 1.0\n",
      "          Label \"0\" count : 592\n",
      "          Label \"1\" count : 755\n",
      "----------------------------------------------------------------\n"
     ]
    },
    {
     "data": {
      "application/vnd.jupyter.widget-view+json": {
       "model_id": "46749771bbd34c7e87f1157c124cff49",
       "version_major": 2,
       "version_minor": 0
      },
      "text/plain": [
       "preparing dataset train for autoencoder:   0%|          | 0/6135 [00:00<?, ?it/s]"
      ]
     },
     "metadata": {},
     "output_type": "display_data"
    },
    {
     "data": {
      "application/vnd.jupyter.widget-view+json": {
       "model_id": "9aa2e381ee3c4059a8c62862c74bae6c",
       "version_major": 2,
       "version_minor": 0
      },
      "text/plain": [
       "preparing dataset val 0 for autoencoder:   0%|          | 0/1266 [00:00<?, ?it/s]"
      ]
     },
     "metadata": {},
     "output_type": "display_data"
    },
    {
     "data": {
      "application/vnd.jupyter.widget-view+json": {
       "model_id": "de76ea182c8b493e9ea061262d25fd32",
       "version_major": 2,
       "version_minor": 0
      },
      "text/plain": [
       "preparing dataset test 0 for autoencoder:   0%|          | 0/1347 [00:00<?, ?it/s]"
      ]
     },
     "metadata": {},
     "output_type": "display_data"
    },
    {
     "data": {
      "application/vnd.jupyter.widget-view+json": {
       "model_id": "4c2ba7d1c2e94670863da5195a4c9f76",
       "version_major": 2,
       "version_minor": 0
      },
      "text/plain": [
       "reading edges: 0it [00:00, ?it/s]"
      ]
     },
     "metadata": {},
     "output_type": "display_data"
    },
    {
     "name": "stdout",
     "output_type": "stream",
     "text": [
      "Statistic of set:  Full original dataset\n",
      "             Dataset size : 1000\n",
      "                   Labels : True\n",
      "           Min node count : 12\n",
      "       Average node count : 19.77\n",
      "           Max node count : 136\n",
      "           Min edge count : 26.0\n",
      "       Average edge count : 96.53\n",
      "           Max edge count : 1249.0\n",
      "     Min filling fraction : 0.1\n",
      " Average filling fraction : 0.52\n",
      "     Max filling fraction : 1.0\n",
      "          Label \"0\" count : 500\n",
      "          Label \"1\" count : 500\n",
      "----------------------------------------------------------------\n",
      "Dataset pickled successfully\n",
      "File path: /usr/local/datasets/IMDB-BINARY/1.pkl\n",
      "File size: 34.54 MB\n",
      "Statistic of set:  Train dataset\n",
      "             Dataset size : 6134\n",
      "                   Labels : True\n",
      "           Min node count : 12\n",
      "       Average node count : 19.91\n",
      "           Max node count : 84\n",
      "           Min edge count : 26.0\n",
      "       Average edge count : 83.12\n",
      "           Max edge count : 785.0\n",
      "     Min filling fraction : 0.1\n",
      " Average filling fraction : 0.45\n",
      "     Max filling fraction : 1.0\n",
      "          Label \"0\" count : 2971\n",
      "          Label \"1\" count : 3163\n",
      "----------------------------------------------------------------\n",
      "Statistic of set:  Validation dataset 0\n",
      "             Dataset size : 1266\n",
      "                   Labels : True\n",
      "           Min node count : 12\n",
      "       Average node count : 21.57\n",
      "           Max node count : 136\n",
      "           Min edge count : 27.0\n",
      "       Average edge count : 100.15\n",
      "           Max edge count : 1249.0\n",
      "     Min filling fraction : 0.14\n",
      " Average filling fraction : 0.45\n",
      "     Max filling fraction : 1.0\n",
      "          Label \"0\" count : 588\n",
      "          Label \"1\" count : 678\n",
      "----------------------------------------------------------------\n",
      "Statistic of set:  Test dataset 0\n",
      "             Dataset size : 1347\n",
      "                   Labels : True\n",
      "           Min node count : 12\n",
      "       Average node count : 19.54\n",
      "           Max node count : 55\n",
      "           Min edge count : 28.0\n",
      "       Average edge count : 90.72\n",
      "           Max edge count : 785.0\n",
      "     Min filling fraction : 0.16\n",
      " Average filling fraction : 0.47\n",
      "     Max filling fraction : 1.0\n",
      "          Label \"0\" count : 711\n",
      "          Label \"1\" count : 636\n",
      "----------------------------------------------------------------\n"
     ]
    },
    {
     "data": {
      "application/vnd.jupyter.widget-view+json": {
       "model_id": "9b48508be8114e638c9524a197d1b222",
       "version_major": 2,
       "version_minor": 0
      },
      "text/plain": [
       "preparing dataset train for autoencoder:   0%|          | 0/6134 [00:00<?, ?it/s]"
      ]
     },
     "metadata": {},
     "output_type": "display_data"
    },
    {
     "data": {
      "application/vnd.jupyter.widget-view+json": {
       "model_id": "c5266080699b47d298678648b0911e55",
       "version_major": 2,
       "version_minor": 0
      },
      "text/plain": [
       "preparing dataset val 0 for autoencoder:   0%|          | 0/1266 [00:00<?, ?it/s]"
      ]
     },
     "metadata": {},
     "output_type": "display_data"
    },
    {
     "data": {
      "application/vnd.jupyter.widget-view+json": {
       "model_id": "e611fb30535a428e95fca03ece0a6ce8",
       "version_major": 2,
       "version_minor": 0
      },
      "text/plain": [
       "preparing dataset test 0 for autoencoder:   0%|          | 0/1347 [00:00<?, ?it/s]"
      ]
     },
     "metadata": {},
     "output_type": "display_data"
    },
    {
     "data": {
      "application/vnd.jupyter.widget-view+json": {
       "model_id": "54a610420aea446c9a89a5dc1e6e3781",
       "version_major": 2,
       "version_minor": 0
      },
      "text/plain": [
       "reading edges: 0it [00:00, ?it/s]"
      ]
     },
     "metadata": {},
     "output_type": "display_data"
    },
    {
     "name": "stdout",
     "output_type": "stream",
     "text": [
      "Statistic of set:  Full original dataset\n",
      "             Dataset size : 1000\n",
      "                   Labels : True\n",
      "           Min node count : 12\n",
      "       Average node count : 19.77\n",
      "           Max node count : 136\n",
      "           Min edge count : 26.0\n",
      "       Average edge count : 96.53\n",
      "           Max edge count : 1249.0\n",
      "     Min filling fraction : 0.1\n",
      " Average filling fraction : 0.52\n",
      "     Max filling fraction : 1.0\n",
      "          Label \"0\" count : 500\n",
      "          Label \"1\" count : 500\n",
      "----------------------------------------------------------------\n",
      "Dataset pickled successfully\n",
      "File path: /usr/local/datasets/IMDB-BINARY/2.pkl\n",
      "File size: 34.54 MB\n",
      "Statistic of set:  Train dataset\n",
      "             Dataset size : 6145\n",
      "                   Labels : True\n",
      "           Min node count : 12\n",
      "       Average node count : 20.35\n",
      "           Max node count : 136\n",
      "           Min edge count : 26.0\n",
      "       Average edge count : 88.67\n",
      "           Max edge count : 1249.0\n",
      "     Min filling fraction : 0.1\n",
      " Average filling fraction : 0.45\n",
      "     Max filling fraction : 1.0\n",
      "          Label \"0\" count : 2877\n",
      "          Label \"1\" count : 3268\n",
      "----------------------------------------------------------------\n",
      "Statistic of set:  Validation dataset 0\n",
      "             Dataset size : 1347\n",
      "                   Labels : True\n",
      "           Min node count : 12\n",
      "       Average node count : 19.82\n",
      "           Max node count : 69\n",
      "           Min edge count : 26.0\n",
      "       Average edge count : 84.18\n",
      "           Max edge count : 445.0\n",
      "     Min filling fraction : 0.1\n",
      " Average filling fraction : 0.47\n",
      "     Max filling fraction : 1.0\n",
      "          Label \"0\" count : 723\n",
      "          Label \"1\" count : 624\n",
      "----------------------------------------------------------------\n",
      "Statistic of set:  Test dataset 0\n",
      "             Dataset size : 1257\n",
      "                   Labels : True\n",
      "           Min node count : 12\n",
      "       Average node count : 19.11\n",
      "           Max node count : 56\n",
      "           Min edge count : 27.0\n",
      "       Average edge count : 80.06\n",
      "           Max edge count : 525.0\n",
      "     Min filling fraction : 0.12\n",
      " Average filling fraction : 0.46\n",
      "     Max filling fraction : 1.0\n",
      "          Label \"0\" count : 671\n",
      "          Label \"1\" count : 586\n",
      "----------------------------------------------------------------\n"
     ]
    },
    {
     "data": {
      "application/vnd.jupyter.widget-view+json": {
       "model_id": "6293f1ad667b4396a0599b9ab0699772",
       "version_major": 2,
       "version_minor": 0
      },
      "text/plain": [
       "preparing dataset train for autoencoder:   0%|          | 0/6145 [00:00<?, ?it/s]"
      ]
     },
     "metadata": {},
     "output_type": "display_data"
    },
    {
     "data": {
      "application/vnd.jupyter.widget-view+json": {
       "model_id": "006da78ba440403ba451364adab61bf1",
       "version_major": 2,
       "version_minor": 0
      },
      "text/plain": [
       "preparing dataset val 0 for autoencoder:   0%|          | 0/1347 [00:00<?, ?it/s]"
      ]
     },
     "metadata": {},
     "output_type": "display_data"
    },
    {
     "data": {
      "application/vnd.jupyter.widget-view+json": {
       "model_id": "2433c77c696b47e0972c292e12b0a973",
       "version_major": 2,
       "version_minor": 0
      },
      "text/plain": [
       "preparing dataset test 0 for autoencoder:   0%|          | 0/1257 [00:00<?, ?it/s]"
      ]
     },
     "metadata": {},
     "output_type": "display_data"
    },
    {
     "data": {
      "application/vnd.jupyter.widget-view+json": {
       "model_id": "6a15568bec24484b801299206e328da6",
       "version_major": 2,
       "version_minor": 0
      },
      "text/plain": [
       "reading edges: 0it [00:00, ?it/s]"
      ]
     },
     "metadata": {},
     "output_type": "display_data"
    },
    {
     "name": "stdout",
     "output_type": "stream",
     "text": [
      "Statistic of set:  Full original dataset\n",
      "             Dataset size : 1000\n",
      "                   Labels : True\n",
      "           Min node count : 12\n",
      "       Average node count : 19.77\n",
      "           Max node count : 136\n",
      "           Min edge count : 26.0\n",
      "       Average edge count : 96.53\n",
      "           Max edge count : 1249.0\n",
      "     Min filling fraction : 0.1\n",
      " Average filling fraction : 0.52\n",
      "     Max filling fraction : 1.0\n",
      "          Label \"0\" count : 500\n",
      "          Label \"1\" count : 500\n",
      "----------------------------------------------------------------\n",
      "Dataset pickled successfully\n",
      "File path: /usr/local/datasets/IMDB-BINARY/3.pkl\n",
      "File size: 34.54 MB\n",
      "Statistic of set:  Train dataset\n",
      "             Dataset size : 6072\n",
      "                   Labels : True\n",
      "           Min node count : 12\n",
      "       Average node count : 19.67\n",
      "           Max node count : 84\n",
      "           Min edge count : 26.0\n",
      "       Average edge count : 84.19\n",
      "           Max edge count : 785.0\n",
      "     Min filling fraction : 0.1\n",
      " Average filling fraction : 0.46\n",
      "     Max filling fraction : 1.0\n",
      "          Label \"0\" count : 2993\n",
      "          Label \"1\" count : 3079\n",
      "----------------------------------------------------------------\n",
      "Statistic of set:  Validation dataset 0\n",
      "             Dataset size : 1311\n",
      "                   Labels : True\n",
      "           Min node count : 12\n",
      "       Average node count : 21.64\n",
      "           Max node count : 136\n",
      "           Min edge count : 26.0\n",
      "       Average edge count : 95.6\n",
      "           Max edge count : 1249.0\n",
      "     Min filling fraction : 0.1\n",
      " Average filling fraction : 0.44\n",
      "     Max filling fraction : 1.0\n",
      "          Label \"0\" count : 577\n",
      "          Label \"1\" count : 734\n",
      "----------------------------------------------------------------\n",
      "Statistic of set:  Test dataset 0\n",
      "             Dataset size : 1365\n",
      "                   Labels : True\n",
      "           Min node count : 12\n",
      "       Average node count : 20.48\n",
      "           Max node count : 66\n",
      "           Min edge count : 26.0\n",
      "       Average edge count : 89.61\n",
      "           Max edge count : 686.0\n",
      "     Min filling fraction : 0.16\n",
      " Average filling fraction : 0.43\n",
      "     Max filling fraction : 1.0\n",
      "          Label \"0\" count : 700\n",
      "          Label \"1\" count : 665\n",
      "----------------------------------------------------------------\n"
     ]
    },
    {
     "data": {
      "application/vnd.jupyter.widget-view+json": {
       "model_id": "ee75e334e0d84f0a9717e0d44a2c0240",
       "version_major": 2,
       "version_minor": 0
      },
      "text/plain": [
       "preparing dataset train for autoencoder:   0%|          | 0/6072 [00:00<?, ?it/s]"
      ]
     },
     "metadata": {},
     "output_type": "display_data"
    },
    {
     "data": {
      "application/vnd.jupyter.widget-view+json": {
       "model_id": "4399b8024492468f892defd07f221e3b",
       "version_major": 2,
       "version_minor": 0
      },
      "text/plain": [
       "preparing dataset val 0 for autoencoder:   0%|          | 0/1311 [00:00<?, ?it/s]"
      ]
     },
     "metadata": {},
     "output_type": "display_data"
    },
    {
     "data": {
      "application/vnd.jupyter.widget-view+json": {
       "model_id": "af93e07471f74b929df9e6d8a8494ede",
       "version_major": 2,
       "version_minor": 0
      },
      "text/plain": [
       "preparing dataset test 0 for autoencoder:   0%|          | 0/1365 [00:00<?, ?it/s]"
      ]
     },
     "metadata": {},
     "output_type": "display_data"
    },
    {
     "data": {
      "application/vnd.jupyter.widget-view+json": {
       "model_id": "14befddf60c04c6485b35eca618f26d9",
       "version_major": 2,
       "version_minor": 0
      },
      "text/plain": [
       "reading edges: 0it [00:00, ?it/s]"
      ]
     },
     "metadata": {},
     "output_type": "display_data"
    },
    {
     "name": "stdout",
     "output_type": "stream",
     "text": [
      "Statistic of set:  Full original dataset\n",
      "             Dataset size : 1000\n",
      "                   Labels : True\n",
      "           Min node count : 12\n",
      "       Average node count : 19.77\n",
      "           Max node count : 136\n",
      "           Min edge count : 26.0\n",
      "       Average edge count : 96.53\n",
      "           Max edge count : 1249.0\n",
      "     Min filling fraction : 0.1\n",
      " Average filling fraction : 0.52\n",
      "     Max filling fraction : 1.0\n",
      "          Label \"0\" count : 500\n",
      "          Label \"1\" count : 500\n",
      "----------------------------------------------------------------\n",
      "Dataset pickled successfully\n",
      "File path: /usr/local/datasets/IMDB-BINARY/4.pkl\n",
      "File size: 34.54 MB\n",
      "Statistic of set:  Train dataset\n",
      "             Dataset size : 6216\n",
      "                   Labels : True\n",
      "           Min node count : 12\n",
      "       Average node count : 20.05\n",
      "           Max node count : 136\n",
      "           Min edge count : 26.0\n",
      "       Average edge count : 86.38\n",
      "           Max edge count : 1249.0\n",
      "     Min filling fraction : 0.1\n",
      " Average filling fraction : 0.45\n",
      "     Max filling fraction : 1.0\n",
      "          Label \"0\" count : 3012\n",
      "          Label \"1\" count : 3204\n",
      "----------------------------------------------------------------\n",
      "Statistic of set:  Validation dataset 0\n",
      "             Dataset size : 1266\n",
      "                   Labels : True\n",
      "           Min node count : 12\n",
      "       Average node count : 20.9\n",
      "           Max node count : 84\n",
      "           Min edge count : 26.0\n",
      "       Average edge count : 98.71\n",
      "           Max edge count : 785.0\n",
      "     Min filling fraction : 0.12\n",
      " Average filling fraction : 0.45\n",
      "     Max filling fraction : 1.0\n",
      "          Label \"0\" count : 670\n",
      "          Label \"1\" count : 596\n",
      "----------------------------------------------------------------\n",
      "Statistic of set:  Test dataset 0\n",
      "             Dataset size : 1266\n",
      "                   Labels : True\n",
      "           Min node count : 12\n",
      "       Average node count : 19.5\n",
      "           Max node count : 61\n",
      "           Min edge count : 26.0\n",
      "       Average edge count : 76.6\n",
      "           Max edge count : 525.0\n",
      "     Min filling fraction : 0.13\n",
      " Average filling fraction : 0.44\n",
      "     Max filling fraction : 1.0\n",
      "          Label \"0\" count : 588\n",
      "          Label \"1\" count : 678\n",
      "----------------------------------------------------------------\n"
     ]
    },
    {
     "data": {
      "application/vnd.jupyter.widget-view+json": {
       "model_id": "b00141dd4e6a4739ba6fd5fb58ac929d",
       "version_major": 2,
       "version_minor": 0
      },
      "text/plain": [
       "preparing dataset train for autoencoder:   0%|          | 0/6216 [00:00<?, ?it/s]"
      ]
     },
     "metadata": {},
     "output_type": "display_data"
    },
    {
     "data": {
      "application/vnd.jupyter.widget-view+json": {
       "model_id": "6d48b7f9d7dd4543834373bca3a826a4",
       "version_major": 2,
       "version_minor": 0
      },
      "text/plain": [
       "preparing dataset val 0 for autoencoder:   0%|          | 0/1266 [00:00<?, ?it/s]"
      ]
     },
     "metadata": {},
     "output_type": "display_data"
    },
    {
     "data": {
      "application/vnd.jupyter.widget-view+json": {
       "model_id": "bc9a62765ce943e19cfecc6d980654c2",
       "version_major": 2,
       "version_minor": 0
      },
      "text/plain": [
       "preparing dataset test 0 for autoencoder:   0%|          | 0/1266 [00:00<?, ?it/s]"
      ]
     },
     "metadata": {},
     "output_type": "display_data"
    }
   ],
   "source": [
    "save_datasets('IMDB-BINARY')"
   ]
  },
  {
   "cell_type": "code",
   "execution_count": 13,
   "id": "c50db477",
   "metadata": {
    "scrolled": false
   },
   "outputs": [
    {
     "data": {
      "application/vnd.jupyter.widget-view+json": {
       "model_id": "8b63f9f667bc4e5f9f0f8a31e288436a",
       "version_major": 2,
       "version_minor": 0
      },
      "text/plain": [
       "IMDB-MULTI:   0%|          | 0/5 [00:00<?, ?it/s]"
      ]
     },
     "metadata": {},
     "output_type": "display_data"
    },
    {
     "data": {
      "application/vnd.jupyter.widget-view+json": {
       "model_id": "19b3b3cef3474de893412645a4087061",
       "version_major": 2,
       "version_minor": 0
      },
      "text/plain": [
       "reading edges: 0it [00:00, ?it/s]"
      ]
     },
     "metadata": {},
     "output_type": "display_data"
    },
    {
     "name": "stdout",
     "output_type": "stream",
     "text": [
      "Statistic of set:  Full original dataset\n",
      "             Dataset size : 1500\n",
      "                   Labels : True\n",
      "           Min node count : 7\n",
      "       Average node count : 13.0\n",
      "           Max node count : 89\n",
      "           Min edge count : 12.0\n",
      "       Average edge count : 65.94\n",
      "           Max edge count : 1467.0\n",
      "     Min filling fraction : 0.13\n",
      " Average filling fraction : 0.77\n",
      "     Max filling fraction : 1.0\n",
      "          Label \"1\" count : 500\n",
      "          Label \"2\" count : 500\n",
      "          Label \"3\" count : 500\n",
      "----------------------------------------------------------------\n",
      "Dataset pickled successfully\n",
      "File path: /usr/local/datasets/IMDB-MULTI/0.pkl\n",
      "File size: 21.42 MB\n",
      "Statistic of set:  Train dataset\n",
      "             Dataset size : 5544\n",
      "                   Labels : True\n",
      "           Min node count : 7\n",
      "       Average node count : 15.87\n",
      "           Max node count : 89\n",
      "           Min edge count : 12.0\n",
      "       Average edge count : 75.92\n",
      "           Max edge count : 1467.0\n",
      "     Min filling fraction : 0.13\n",
      " Average filling fraction : 0.57\n",
      "     Max filling fraction : 1.0\n",
      "          Label \"1\" count : 2190\n",
      "          Label \"2\" count : 1791\n",
      "          Label \"3\" count : 1563\n",
      "----------------------------------------------------------------\n",
      "Statistic of set:  Validation dataset 0\n",
      "             Dataset size : 1148\n",
      "                   Labels : True\n",
      "           Min node count : 7\n",
      "       Average node count : 15.84\n",
      "           Max node count : 43\n",
      "           Min edge count : 12.0\n",
      "       Average edge count : 67.39\n",
      "           Max edge count : 435.0\n",
      "     Min filling fraction : 0.16\n",
      " Average filling fraction : 0.57\n",
      "     Max filling fraction : 1.0\n",
      "          Label \"1\" count : 445\n",
      "          Label \"2\" count : 337\n",
      "          Label \"3\" count : 366\n",
      "----------------------------------------------------------------\n",
      "Statistic of set:  Test dataset 0\n",
      "             Dataset size : 1174\n",
      "                   Labels : True\n",
      "           Min node count : 7\n",
      "       Average node count : 16.63\n",
      "           Max node count : 54\n",
      "           Min edge count : 12.0\n",
      "       Average edge count : 83.88\n",
      "           Max edge count : 858.0\n",
      "     Min filling fraction : 0.14\n",
      " Average filling fraction : 0.56\n",
      "     Max filling fraction : 1.0\n",
      "          Label \"1\" count : 373\n",
      "          Label \"2\" count : 510\n",
      "          Label \"3\" count : 291\n",
      "----------------------------------------------------------------\n"
     ]
    },
    {
     "data": {
      "application/vnd.jupyter.widget-view+json": {
       "model_id": "df36d652163e45b596a204cd6414e781",
       "version_major": 2,
       "version_minor": 0
      },
      "text/plain": [
       "preparing dataset train for autoencoder:   0%|          | 0/5544 [00:00<?, ?it/s]"
      ]
     },
     "metadata": {},
     "output_type": "display_data"
    },
    {
     "data": {
      "application/vnd.jupyter.widget-view+json": {
       "model_id": "94d5a979174c421d9a5702d14e0fb7e5",
       "version_major": 2,
       "version_minor": 0
      },
      "text/plain": [
       "preparing dataset val 0 for autoencoder:   0%|          | 0/1148 [00:00<?, ?it/s]"
      ]
     },
     "metadata": {},
     "output_type": "display_data"
    },
    {
     "data": {
      "application/vnd.jupyter.widget-view+json": {
       "model_id": "065c841a19da46eaafba5d19e82cd7a4",
       "version_major": 2,
       "version_minor": 0
      },
      "text/plain": [
       "preparing dataset test 0 for autoencoder:   0%|          | 0/1174 [00:00<?, ?it/s]"
      ]
     },
     "metadata": {},
     "output_type": "display_data"
    },
    {
     "data": {
      "application/vnd.jupyter.widget-view+json": {
       "model_id": "e7bf67f250594c118981700502846f47",
       "version_major": 2,
       "version_minor": 0
      },
      "text/plain": [
       "reading edges: 0it [00:00, ?it/s]"
      ]
     },
     "metadata": {},
     "output_type": "display_data"
    },
    {
     "name": "stdout",
     "output_type": "stream",
     "text": [
      "Statistic of set:  Full original dataset\n",
      "             Dataset size : 1500\n",
      "                   Labels : True\n",
      "           Min node count : 7\n",
      "       Average node count : 13.0\n",
      "           Max node count : 89\n",
      "           Min edge count : 12.0\n",
      "       Average edge count : 65.94\n",
      "           Max edge count : 1467.0\n",
      "     Min filling fraction : 0.13\n",
      " Average filling fraction : 0.77\n",
      "     Max filling fraction : 1.0\n",
      "          Label \"1\" count : 500\n",
      "          Label \"2\" count : 500\n",
      "          Label \"3\" count : 500\n",
      "----------------------------------------------------------------\n",
      "Dataset pickled successfully\n",
      "File path: /usr/local/datasets/IMDB-MULTI/1.pkl\n",
      "File size: 21.42 MB\n",
      "Statistic of set:  Train dataset\n",
      "             Dataset size : 5380\n",
      "                   Labels : True\n",
      "           Min node count : 7\n",
      "       Average node count : 15.78\n",
      "           Max node count : 60\n",
      "           Min edge count : 12.0\n",
      "       Average edge count : 74.85\n",
      "           Max edge count : 982.0\n",
      "     Min filling fraction : 0.13\n",
      " Average filling fraction : 0.57\n",
      "     Max filling fraction : 1.0\n",
      "          Label \"1\" count : 2013\n",
      "          Label \"2\" count : 1905\n",
      "          Label \"3\" count : 1462\n",
      "----------------------------------------------------------------\n",
      "Statistic of set:  Validation dataset 0\n",
      "             Dataset size : 1261\n",
      "                   Labels : True\n",
      "           Min node count : 7\n",
      "       Average node count : 16.59\n",
      "           Max node count : 89\n",
      "           Min edge count : 12.0\n",
      "       Average edge count : 84.62\n",
      "           Max edge count : 1467.0\n",
      "     Min filling fraction : 0.14\n",
      " Average filling fraction : 0.57\n",
      "     Max filling fraction : 1.0\n",
      "          Label \"1\" count : 516\n",
      "          Label \"2\" count : 367\n",
      "          Label \"3\" count : 378\n",
      "----------------------------------------------------------------\n",
      "Statistic of set:  Test dataset 0\n",
      "             Dataset size : 1231\n",
      "                   Labels : True\n",
      "           Min node count : 7\n",
      "       Average node count : 16.19\n",
      "           Max node count : 63\n",
      "           Min edge count : 12.0\n",
      "       Average edge count : 70.94\n",
      "           Max edge count : 703.0\n",
      "     Min filling fraction : 0.14\n",
      " Average filling fraction : 0.56\n",
      "     Max filling fraction : 1.0\n",
      "          Label \"1\" count : 481\n",
      "          Label \"2\" count : 374\n",
      "          Label \"3\" count : 376\n",
      "----------------------------------------------------------------\n"
     ]
    },
    {
     "data": {
      "application/vnd.jupyter.widget-view+json": {
       "model_id": "f8ec4a0c54684f0ea01e5592bc18b280",
       "version_major": 2,
       "version_minor": 0
      },
      "text/plain": [
       "preparing dataset train for autoencoder:   0%|          | 0/5380 [00:00<?, ?it/s]"
      ]
     },
     "metadata": {},
     "output_type": "display_data"
    },
    {
     "data": {
      "application/vnd.jupyter.widget-view+json": {
       "model_id": "68b73774640e441f832ad6481bcf0046",
       "version_major": 2,
       "version_minor": 0
      },
      "text/plain": [
       "preparing dataset val 0 for autoencoder:   0%|          | 0/1261 [00:00<?, ?it/s]"
      ]
     },
     "metadata": {},
     "output_type": "display_data"
    },
    {
     "data": {
      "application/vnd.jupyter.widget-view+json": {
       "model_id": "f582d1a05ece4a3da8f47e8399ee8855",
       "version_major": 2,
       "version_minor": 0
      },
      "text/plain": [
       "preparing dataset test 0 for autoencoder:   0%|          | 0/1231 [00:00<?, ?it/s]"
      ]
     },
     "metadata": {},
     "output_type": "display_data"
    },
    {
     "data": {
      "application/vnd.jupyter.widget-view+json": {
       "model_id": "e4fa56451daf4c9e9f70a017e8afcb40",
       "version_major": 2,
       "version_minor": 0
      },
      "text/plain": [
       "reading edges: 0it [00:00, ?it/s]"
      ]
     },
     "metadata": {},
     "output_type": "display_data"
    },
    {
     "name": "stdout",
     "output_type": "stream",
     "text": [
      "Statistic of set:  Full original dataset\n",
      "             Dataset size : 1500\n",
      "                   Labels : True\n",
      "           Min node count : 7\n",
      "       Average node count : 13.0\n",
      "           Max node count : 89\n",
      "           Min edge count : 12.0\n",
      "       Average edge count : 65.94\n",
      "           Max edge count : 1467.0\n",
      "     Min filling fraction : 0.13\n",
      " Average filling fraction : 0.77\n",
      "     Max filling fraction : 1.0\n",
      "          Label \"1\" count : 500\n",
      "          Label \"2\" count : 500\n",
      "          Label \"3\" count : 500\n",
      "----------------------------------------------------------------\n",
      "Dataset pickled successfully\n",
      "File path: /usr/local/datasets/IMDB-MULTI/2.pkl\n",
      "File size: 21.42 MB\n",
      "Statistic of set:  Train dataset\n",
      "             Dataset size : 5465\n",
      "                   Labels : True\n",
      "           Min node count : 7\n",
      "       Average node count : 15.58\n",
      "           Max node count : 78\n",
      "           Min edge count : 12.0\n",
      "       Average edge count : 70.46\n",
      "           Max edge count : 902.0\n",
      "     Min filling fraction : 0.13\n",
      " Average filling fraction : 0.57\n",
      "     Max filling fraction : 1.0\n",
      "          Label \"1\" count : 2188\n",
      "          Label \"2\" count : 1756\n",
      "          Label \"3\" count : 1521\n",
      "----------------------------------------------------------------\n",
      "Statistic of set:  Validation dataset 0\n",
      "             Dataset size : 1186\n",
      "                   Labels : True\n",
      "           Min node count : 7\n",
      "       Average node count : 16.1\n",
      "           Max node count : 89\n",
      "           Min edge count : 16.0\n",
      "       Average edge count : 77.99\n",
      "           Max edge count : 1467.0\n",
      "     Min filling fraction : 0.16\n",
      " Average filling fraction : 0.56\n",
      "     Max filling fraction : 1.0\n",
      "          Label \"1\" count : 391\n",
      "          Label \"2\" count : 392\n",
      "          Label \"3\" count : 403\n",
      "----------------------------------------------------------------\n",
      "Statistic of set:  Test dataset 0\n",
      "             Dataset size : 1216\n",
      "                   Labels : True\n",
      "           Min node count : 7\n",
      "       Average node count : 17.64\n",
      "           Max node count : 63\n",
      "           Min edge count : 12.0\n",
      "       Average edge count : 98.01\n",
      "           Max edge count : 982.0\n",
      "     Min filling fraction : 0.16\n",
      " Average filling fraction : 0.55\n",
      "     Max filling fraction : 1.0\n",
      "          Label \"1\" count : 427\n",
      "          Label \"2\" count : 496\n",
      "          Label \"3\" count : 293\n",
      "----------------------------------------------------------------\n"
     ]
    },
    {
     "data": {
      "application/vnd.jupyter.widget-view+json": {
       "model_id": "ff89685168f042cc9d7ab3b793af34ae",
       "version_major": 2,
       "version_minor": 0
      },
      "text/plain": [
       "preparing dataset train for autoencoder:   0%|          | 0/5465 [00:00<?, ?it/s]"
      ]
     },
     "metadata": {},
     "output_type": "display_data"
    },
    {
     "data": {
      "application/vnd.jupyter.widget-view+json": {
       "model_id": "4fe6b9362a0d4158898e924ebcbc339e",
       "version_major": 2,
       "version_minor": 0
      },
      "text/plain": [
       "preparing dataset val 0 for autoencoder:   0%|          | 0/1186 [00:00<?, ?it/s]"
      ]
     },
     "metadata": {},
     "output_type": "display_data"
    },
    {
     "data": {
      "application/vnd.jupyter.widget-view+json": {
       "model_id": "77dc4b8815fb479db433260d7af7d42a",
       "version_major": 2,
       "version_minor": 0
      },
      "text/plain": [
       "preparing dataset test 0 for autoencoder:   0%|          | 0/1216 [00:00<?, ?it/s]"
      ]
     },
     "metadata": {},
     "output_type": "display_data"
    },
    {
     "data": {
      "application/vnd.jupyter.widget-view+json": {
       "model_id": "ce625d176b2444efb18a14e6dfd76279",
       "version_major": 2,
       "version_minor": 0
      },
      "text/plain": [
       "reading edges: 0it [00:00, ?it/s]"
      ]
     },
     "metadata": {},
     "output_type": "display_data"
    },
    {
     "name": "stdout",
     "output_type": "stream",
     "text": [
      "Statistic of set:  Full original dataset\n",
      "             Dataset size : 1500\n",
      "                   Labels : True\n",
      "           Min node count : 7\n",
      "       Average node count : 13.0\n",
      "           Max node count : 89\n",
      "           Min edge count : 12.0\n",
      "       Average edge count : 65.94\n",
      "           Max edge count : 1467.0\n",
      "     Min filling fraction : 0.13\n",
      " Average filling fraction : 0.77\n",
      "     Max filling fraction : 1.0\n",
      "          Label \"1\" count : 500\n",
      "          Label \"2\" count : 500\n",
      "          Label \"3\" count : 500\n",
      "----------------------------------------------------------------\n",
      "Dataset pickled successfully\n",
      "File path: /usr/local/datasets/IMDB-MULTI/3.pkl\n",
      "File size: 21.42 MB\n",
      "Statistic of set:  Train dataset\n",
      "             Dataset size : 5632\n",
      "                   Labels : True\n",
      "           Min node count : 7\n",
      "       Average node count : 16.14\n",
      "           Max node count : 89\n",
      "           Min edge count : 12.0\n",
      "       Average edge count : 78.34\n",
      "           Max edge count : 1467.0\n",
      "     Min filling fraction : 0.13\n",
      " Average filling fraction : 0.56\n",
      "     Max filling fraction : 1.0\n",
      "          Label \"1\" count : 2208\n",
      "          Label \"2\" count : 1906\n",
      "          Label \"3\" count : 1518\n",
      "----------------------------------------------------------------\n",
      "Statistic of set:  Validation dataset 0\n",
      "             Dataset size : 1086\n",
      "                   Labels : True\n",
      "           Min node count : 7\n",
      "       Average node count : 15.7\n",
      "           Max node count : 43\n",
      "           Min edge count : 13.0\n",
      "       Average edge count : 76.0\n",
      "           Max edge count : 719.0\n",
      "     Min filling fraction : 0.13\n",
      " Average filling fraction : 0.59\n",
      "     Max filling fraction : 1.0\n",
      "          Label \"1\" count : 361\n",
      "          Label \"2\" count : 333\n",
      "          Label \"3\" count : 392\n",
      "----------------------------------------------------------------\n",
      "Statistic of set:  Test dataset 0\n",
      "             Dataset size : 1155\n",
      "                   Labels : True\n",
      "           Min node count : 7\n",
      "       Average node count : 15.39\n",
      "           Max node count : 50\n",
      "           Min edge count : 12.0\n",
      "       Average edge count : 63.25\n",
      "           Max edge count : 703.0\n",
      "     Min filling fraction : 0.15\n",
      " Average filling fraction : 0.57\n",
      "     Max filling fraction : 1.0\n",
      "          Label \"1\" count : 445\n",
      "          Label \"2\" count : 402\n",
      "          Label \"3\" count : 308\n",
      "----------------------------------------------------------------\n"
     ]
    },
    {
     "data": {
      "application/vnd.jupyter.widget-view+json": {
       "model_id": "58dafbc9751a4a42af555c8df5bfb620",
       "version_major": 2,
       "version_minor": 0
      },
      "text/plain": [
       "preparing dataset train for autoencoder:   0%|          | 0/5632 [00:00<?, ?it/s]"
      ]
     },
     "metadata": {},
     "output_type": "display_data"
    },
    {
     "data": {
      "application/vnd.jupyter.widget-view+json": {
       "model_id": "9829319210b148e0aa1833429d472a19",
       "version_major": 2,
       "version_minor": 0
      },
      "text/plain": [
       "preparing dataset val 0 for autoencoder:   0%|          | 0/1086 [00:00<?, ?it/s]"
      ]
     },
     "metadata": {},
     "output_type": "display_data"
    },
    {
     "data": {
      "application/vnd.jupyter.widget-view+json": {
       "model_id": "8e8e7a3fd7db41d1a50d2edffe6e0b94",
       "version_major": 2,
       "version_minor": 0
      },
      "text/plain": [
       "preparing dataset test 0 for autoencoder:   0%|          | 0/1155 [00:00<?, ?it/s]"
      ]
     },
     "metadata": {},
     "output_type": "display_data"
    },
    {
     "data": {
      "application/vnd.jupyter.widget-view+json": {
       "model_id": "a6f070af321b4695a9e1bc6109648e96",
       "version_major": 2,
       "version_minor": 0
      },
      "text/plain": [
       "reading edges: 0it [00:00, ?it/s]"
      ]
     },
     "metadata": {},
     "output_type": "display_data"
    },
    {
     "name": "stdout",
     "output_type": "stream",
     "text": [
      "Statistic of set:  Full original dataset\n",
      "             Dataset size : 1500\n",
      "                   Labels : True\n",
      "           Min node count : 7\n",
      "       Average node count : 13.0\n",
      "           Max node count : 89\n",
      "           Min edge count : 12.0\n",
      "       Average edge count : 65.94\n",
      "           Max edge count : 1467.0\n",
      "     Min filling fraction : 0.13\n",
      " Average filling fraction : 0.77\n",
      "     Max filling fraction : 1.0\n",
      "          Label \"1\" count : 500\n",
      "          Label \"2\" count : 500\n",
      "          Label \"3\" count : 500\n",
      "----------------------------------------------------------------\n",
      "Dataset pickled successfully\n",
      "File path: /usr/local/datasets/IMDB-MULTI/4.pkl\n",
      "File size: 21.42 MB\n",
      "Statistic of set:  Train dataset\n",
      "             Dataset size : 5406\n",
      "                   Labels : True\n",
      "           Min node count : 7\n",
      "       Average node count : 15.8\n",
      "           Max node count : 63\n",
      "           Min edge count : 12.0\n",
      "       Average edge count : 71.26\n",
      "           Max edge count : 982.0\n",
      "     Min filling fraction : 0.13\n",
      " Average filling fraction : 0.56\n",
      "     Max filling fraction : 1.0\n",
      "          Label \"1\" count : 2019\n",
      "          Label \"2\" count : 1903\n",
      "          Label \"3\" count : 1484\n",
      "----------------------------------------------------------------\n",
      "Statistic of set:  Validation dataset 0\n",
      "             Dataset size : 1236\n",
      "                   Labels : True\n",
      "           Min node count : 7\n",
      "       Average node count : 16.6\n",
      "           Max node count : 89\n",
      "           Min edge count : 13.0\n",
      "       Average edge count : 93.43\n",
      "           Max edge count : 1467.0\n",
      "     Min filling fraction : 0.22\n",
      " Average filling fraction : 0.58\n",
      "     Max filling fraction : 1.0\n",
      "          Label \"1\" count : 524\n",
      "          Label \"2\" count : 364\n",
      "          Label \"3\" count : 348\n",
      "----------------------------------------------------------------\n",
      "Statistic of set:  Test dataset 0\n",
      "             Dataset size : 1224\n",
      "                   Labels : True\n",
      "           Min node count : 7\n",
      "       Average node count : 16.15\n",
      "           Max node count : 50\n",
      "           Min edge count : 12.0\n",
      "       Average edge count : 78.41\n",
      "           Max edge count : 626.0\n",
      "     Min filling fraction : 0.19\n",
      " Average filling fraction : 0.57\n",
      "     Max filling fraction : 1.0\n",
      "          Label \"1\" count : 466\n",
      "          Label \"2\" count : 370\n",
      "          Label \"3\" count : 388\n",
      "----------------------------------------------------------------\n"
     ]
    },
    {
     "data": {
      "application/vnd.jupyter.widget-view+json": {
       "model_id": "973498cc18a04dcf883d02d813170d29",
       "version_major": 2,
       "version_minor": 0
      },
      "text/plain": [
       "preparing dataset train for autoencoder:   0%|          | 0/5406 [00:00<?, ?it/s]"
      ]
     },
     "metadata": {},
     "output_type": "display_data"
    },
    {
     "data": {
      "application/vnd.jupyter.widget-view+json": {
       "model_id": "cb1d8122033f4d19bf3b736ee8e57b24",
       "version_major": 2,
       "version_minor": 0
      },
      "text/plain": [
       "preparing dataset val 0 for autoencoder:   0%|          | 0/1236 [00:00<?, ?it/s]"
      ]
     },
     "metadata": {},
     "output_type": "display_data"
    },
    {
     "data": {
      "application/vnd.jupyter.widget-view+json": {
       "model_id": "43a223ab6b06480d92554b702196d422",
       "version_major": 2,
       "version_minor": 0
      },
      "text/plain": [
       "preparing dataset test 0 for autoencoder:   0%|          | 0/1224 [00:00<?, ?it/s]"
      ]
     },
     "metadata": {},
     "output_type": "display_data"
    }
   ],
   "source": [
    "save_datasets('IMDB-MULTI')"
   ]
  },
  {
   "cell_type": "code",
   "execution_count": 14,
   "id": "cc1e5f1d",
   "metadata": {
    "scrolled": true
   },
   "outputs": [
    {
     "data": {
      "application/vnd.jupyter.widget-view+json": {
       "model_id": "e6f7bcb140754ca0949a8893c9be70e0",
       "version_major": 2,
       "version_minor": 0
      },
      "text/plain": [
       "COLLAB:   0%|          | 0/5 [00:00<?, ?it/s]"
      ]
     },
     "metadata": {},
     "output_type": "display_data"
    },
    {
     "data": {
      "application/vnd.jupyter.widget-view+json": {
       "model_id": "6721710d8cac491899c40b0ccfa46315",
       "version_major": 2,
       "version_minor": 0
      },
      "text/plain": [
       "reading edges: 0it [00:00, ?it/s]"
      ]
     },
     "metadata": {},
     "output_type": "display_data"
    },
    {
     "name": "stdout",
     "output_type": "stream",
     "text": [
      "Statistic of set:  Full original dataset\n",
      "             Dataset size : 5000\n",
      "                   Labels : True\n",
      "           Min node count : 32\n",
      "       Average node count : 74.49\n",
      "           Max node count : 492\n",
      "           Min edge count : 60.0\n",
      "       Average edge count : 2457.5\n",
      "           Max edge count : 40119.5\n",
      "     Min filling fraction : 0.03\n",
      " Average filling fraction : 0.51\n",
      "     Max filling fraction : 1.0\n",
      "          Label \"1\" count : 2600\n",
      "          Label \"2\" count : 775\n",
      "          Label \"3\" count : 1625\n",
      "----------------------------------------------------------------\n",
      "Dataset pickled successfully\n",
      "File path: /usr/local/datasets/COLLAB/0.pkl\n",
      "File size: 3.4 GB\n",
      "Statistic of set:  Train dataset\n",
      "             Dataset size : 31618\n",
      "                   Labels : True\n",
      "           Min node count : 32\n",
      "       Average node count : 76.53\n",
      "           Max node count : 445\n",
      "           Min edge count : 60.0\n",
      "       Average edge count : 2479.43\n",
      "           Max edge count : 38915.0\n",
      "     Min filling fraction : 0.05\n",
      " Average filling fraction : 0.46\n",
      "     Max filling fraction : 1.0\n",
      "          Label \"1\" count : 17489\n",
      "          Label \"2\" count : 5210\n",
      "          Label \"3\" count : 8919\n",
      "----------------------------------------------------------------\n",
      "Statistic of set:  Validation dataset 0\n",
      "             Dataset size : 6825\n",
      "                   Labels : True\n",
      "           Min node count : 32\n",
      "       Average node count : 78.67\n",
      "           Max node count : 487\n",
      "           Min edge count : 71.0\n",
      "       Average edge count : 2650.68\n",
      "           Max edge count : 40119.5\n",
      "     Min filling fraction : 0.07\n",
      " Average filling fraction : 0.45\n",
      "     Max filling fraction : 1.0\n",
      "          Label \"1\" count : 3744\n",
      "          Label \"2\" count : 1170\n",
      "          Label \"3\" count : 1911\n",
      "----------------------------------------------------------------\n",
      "Statistic of set:  Test dataset 0\n",
      "             Dataset size : 6788\n",
      "                   Labels : True\n",
      "           Min node count : 32\n",
      "       Average node count : 76.79\n",
      "           Max node count : 492\n",
      "           Min edge count : 72.0\n",
      "       Average edge count : 2797.6\n",
      "           Max edge count : 39225.5\n",
      "     Min filling fraction : 0.03\n",
      " Average filling fraction : 0.45\n",
      "     Max filling fraction : 1.0\n",
      "          Label \"1\" count : 3634\n",
      "          Label \"2\" count : 1370\n",
      "          Label \"3\" count : 1784\n",
      "----------------------------------------------------------------\n"
     ]
    },
    {
     "data": {
      "application/vnd.jupyter.widget-view+json": {
       "model_id": "0ea6a83886e84b97b3472612e1d8a0bb",
       "version_major": 2,
       "version_minor": 0
      },
      "text/plain": [
       "preparing dataset train for autoencoder:   0%|          | 0/31618 [00:00<?, ?it/s]"
      ]
     },
     "metadata": {},
     "output_type": "display_data"
    },
    {
     "data": {
      "application/vnd.jupyter.widget-view+json": {
       "model_id": "e01f8ec36a7c4fd3845f84b8e8c5dcbe",
       "version_major": 2,
       "version_minor": 0
      },
      "text/plain": [
       "preparing dataset val 0 for autoencoder:   0%|          | 0/6825 [00:00<?, ?it/s]"
      ]
     },
     "metadata": {},
     "output_type": "display_data"
    },
    {
     "data": {
      "application/vnd.jupyter.widget-view+json": {
       "model_id": "0c7590e6519e4b53a1203e7c60ce1df8",
       "version_major": 2,
       "version_minor": 0
      },
      "text/plain": [
       "preparing dataset test 0 for autoencoder:   0%|          | 0/6788 [00:00<?, ?it/s]"
      ]
     },
     "metadata": {},
     "output_type": "display_data"
    },
    {
     "data": {
      "application/vnd.jupyter.widget-view+json": {
       "model_id": "4089eb200fcd471ba4a03df033539ec7",
       "version_major": 2,
       "version_minor": 0
      },
      "text/plain": [
       "reading edges: 0it [00:00, ?it/s]"
      ]
     },
     "metadata": {},
     "output_type": "display_data"
    },
    {
     "name": "stdout",
     "output_type": "stream",
     "text": [
      "Statistic of set:  Full original dataset\n",
      "             Dataset size : 5000\n",
      "                   Labels : True\n",
      "           Min node count : 32\n",
      "       Average node count : 74.49\n",
      "           Max node count : 492\n",
      "           Min edge count : 60.0\n",
      "       Average edge count : 2457.5\n",
      "           Max edge count : 40119.5\n",
      "     Min filling fraction : 0.03\n",
      " Average filling fraction : 0.51\n",
      "     Max filling fraction : 1.0\n",
      "          Label \"1\" count : 2600\n",
      "          Label \"2\" count : 775\n",
      "          Label \"3\" count : 1625\n",
      "----------------------------------------------------------------\n",
      "Dataset pickled successfully\n",
      "File path: /usr/local/datasets/COLLAB/1.pkl\n",
      "File size: 3.41 GB\n",
      "Statistic of set:  Train dataset\n",
      "             Dataset size : 31804\n",
      "                   Labels : True\n",
      "           Min node count : 32\n",
      "       Average node count : 77.4\n",
      "           Max node count : 487\n",
      "           Min edge count : 60.0\n",
      "       Average edge count : 2582.18\n",
      "           Max edge count : 40119.5\n",
      "     Min filling fraction : 0.03\n",
      " Average filling fraction : 0.45\n",
      "     Max filling fraction : 1.0\n",
      "          Label \"1\" count : 17307\n",
      "          Label \"2\" count : 5490\n",
      "          Label \"3\" count : 9007\n",
      "----------------------------------------------------------------\n",
      "Statistic of set:  Validation dataset 0\n",
      "             Dataset size : 6747\n",
      "                   Labels : True\n",
      "           Min node count : 32\n",
      "       Average node count : 73.94\n",
      "           Max node count : 492\n",
      "           Min edge count : 72.0\n",
      "       Average edge count : 2238.35\n",
      "           Max edge count : 37674.0\n",
      "     Min filling fraction : 0.06\n",
      " Average filling fraction : 0.47\n",
      "     Max filling fraction : 1.0\n",
      "          Label \"1\" count : 3790\n",
      "          Label \"2\" count : 1180\n",
      "          Label \"3\" count : 1777\n",
      "----------------------------------------------------------------\n",
      "Statistic of set:  Test dataset 0\n",
      "             Dataset size : 6684\n",
      "                   Labels : True\n",
      "           Min node count : 32\n",
      "       Average node count : 77.64\n",
      "           Max node count : 444\n",
      "           Min edge count : 61.0\n",
      "       Average edge count : 2757.13\n",
      "           Max edge count : 39225.5\n",
      "     Min filling fraction : 0.05\n",
      " Average filling fraction : 0.47\n",
      "     Max filling fraction : 1.0\n",
      "          Label \"1\" count : 3774\n",
      "          Label \"2\" count : 1080\n",
      "          Label \"3\" count : 1830\n",
      "----------------------------------------------------------------\n"
     ]
    },
    {
     "data": {
      "application/vnd.jupyter.widget-view+json": {
       "model_id": "dd5797cbedf44eebb5ec45c197183bdb",
       "version_major": 2,
       "version_minor": 0
      },
      "text/plain": [
       "preparing dataset train for autoencoder:   0%|          | 0/31804 [00:00<?, ?it/s]"
      ]
     },
     "metadata": {},
     "output_type": "display_data"
    },
    {
     "data": {
      "application/vnd.jupyter.widget-view+json": {
       "model_id": "66157aa88b3645999642edee4b033e4e",
       "version_major": 2,
       "version_minor": 0
      },
      "text/plain": [
       "preparing dataset val 0 for autoencoder:   0%|          | 0/6747 [00:00<?, ?it/s]"
      ]
     },
     "metadata": {},
     "output_type": "display_data"
    },
    {
     "data": {
      "application/vnd.jupyter.widget-view+json": {
       "model_id": "3ef24ca4c3594b23855376bd86739ee3",
       "version_major": 2,
       "version_minor": 0
      },
      "text/plain": [
       "preparing dataset test 0 for autoencoder:   0%|          | 0/6684 [00:00<?, ?it/s]"
      ]
     },
     "metadata": {},
     "output_type": "display_data"
    },
    {
     "data": {
      "application/vnd.jupyter.widget-view+json": {
       "model_id": "4d2ad0df1395420b97a2e25ee0d7e5bd",
       "version_major": 2,
       "version_minor": 0
      },
      "text/plain": [
       "reading edges: 0it [00:00, ?it/s]"
      ]
     },
     "metadata": {},
     "output_type": "display_data"
    },
    {
     "name": "stdout",
     "output_type": "stream",
     "text": [
      "Statistic of set:  Full original dataset\n",
      "             Dataset size : 5000\n",
      "                   Labels : True\n",
      "           Min node count : 32\n",
      "       Average node count : 74.49\n",
      "           Max node count : 492\n",
      "           Min edge count : 60.0\n",
      "       Average edge count : 2457.5\n",
      "           Max edge count : 40119.5\n",
      "     Min filling fraction : 0.03\n",
      " Average filling fraction : 0.51\n",
      "     Max filling fraction : 1.0\n",
      "          Label \"1\" count : 2600\n",
      "          Label \"2\" count : 775\n",
      "          Label \"3\" count : 1625\n",
      "----------------------------------------------------------------\n",
      "Dataset pickled successfully\n",
      "File path: /usr/local/datasets/COLLAB/2.pkl\n",
      "File size: 3.4 GB\n",
      "Statistic of set:  Train dataset\n",
      "             Dataset size : 31712\n",
      "                   Labels : True\n",
      "           Min node count : 32\n",
      "       Average node count : 76.23\n",
      "           Max node count : 492\n",
      "           Min edge count : 60.0\n",
      "       Average edge count : 2473.7\n",
      "           Max edge count : 40119.5\n",
      "     Min filling fraction : 0.03\n",
      " Average filling fraction : 0.46\n",
      "     Max filling fraction : 1.0\n",
      "          Label \"1\" count : 17465\n",
      "          Label \"2\" count : 5440\n",
      "          Label \"3\" count : 8807\n",
      "----------------------------------------------------------------\n",
      "Statistic of set:  Validation dataset 0\n",
      "             Dataset size : 6730\n",
      "                   Labels : True\n",
      "           Min node count : 32\n",
      "       Average node count : 79.4\n",
      "           Max node count : 423\n",
      "           Min edge count : 65.0\n",
      "       Average edge count : 2767.52\n",
      "           Max edge count : 37478.5\n",
      "     Min filling fraction : 0.07\n",
      " Average filling fraction : 0.46\n",
      "     Max filling fraction : 1.0\n",
      "          Label \"1\" count : 3600\n",
      "          Label \"2\" count : 1180\n",
      "          Label \"3\" count : 1950\n",
      "----------------------------------------------------------------\n",
      "Statistic of set:  Test dataset 0\n",
      "             Dataset size : 6791\n",
      "                   Labels : True\n",
      "           Min node count : 32\n",
      "       Average node count : 77.41\n",
      "           Max node count : 483\n",
      "           Min edge count : 71.0\n",
      "       Average edge count : 2695.89\n",
      "           Max edge count : 40008.0\n",
      "     Min filling fraction : 0.05\n",
      " Average filling fraction : 0.47\n",
      "     Max filling fraction : 1.0\n",
      "          Label \"1\" count : 3812\n",
      "          Label \"2\" count : 1130\n",
      "          Label \"3\" count : 1849\n",
      "----------------------------------------------------------------\n"
     ]
    },
    {
     "data": {
      "application/vnd.jupyter.widget-view+json": {
       "model_id": "735bc6839b2c4486b304ee88ad64f3f8",
       "version_major": 2,
       "version_minor": 0
      },
      "text/plain": [
       "preparing dataset train for autoencoder:   0%|          | 0/31712 [00:00<?, ?it/s]"
      ]
     },
     "metadata": {},
     "output_type": "display_data"
    },
    {
     "data": {
      "application/vnd.jupyter.widget-view+json": {
       "model_id": "05d81b9888cf4ea49f85c172cc8655bf",
       "version_major": 2,
       "version_minor": 0
      },
      "text/plain": [
       "preparing dataset val 0 for autoencoder:   0%|          | 0/6730 [00:00<?, ?it/s]"
      ]
     },
     "metadata": {},
     "output_type": "display_data"
    },
    {
     "data": {
      "application/vnd.jupyter.widget-view+json": {
       "model_id": "6ad96266e91a4fc585da36f55edcbfe3",
       "version_major": 2,
       "version_minor": 0
      },
      "text/plain": [
       "preparing dataset test 0 for autoencoder:   0%|          | 0/6791 [00:00<?, ?it/s]"
      ]
     },
     "metadata": {},
     "output_type": "display_data"
    },
    {
     "data": {
      "application/vnd.jupyter.widget-view+json": {
       "model_id": "59cea953685a47c484bae4d0c5daf1b3",
       "version_major": 2,
       "version_minor": 0
      },
      "text/plain": [
       "reading edges: 0it [00:00, ?it/s]"
      ]
     },
     "metadata": {},
     "output_type": "display_data"
    },
    {
     "name": "stdout",
     "output_type": "stream",
     "text": [
      "Statistic of set:  Full original dataset\n",
      "             Dataset size : 5000\n",
      "                   Labels : True\n",
      "           Min node count : 32\n",
      "       Average node count : 74.49\n",
      "           Max node count : 492\n",
      "           Min edge count : 60.0\n",
      "       Average edge count : 2457.5\n",
      "           Max edge count : 40119.5\n",
      "     Min filling fraction : 0.03\n",
      " Average filling fraction : 0.51\n",
      "     Max filling fraction : 1.0\n",
      "          Label \"1\" count : 2600\n",
      "          Label \"2\" count : 775\n",
      "          Label \"3\" count : 1625\n",
      "----------------------------------------------------------------\n",
      "Dataset pickled successfully\n",
      "File path: /usr/local/datasets/COLLAB/3.pkl\n",
      "File size: 3.4 GB\n",
      "Statistic of set:  Train dataset\n",
      "             Dataset size : 31679\n",
      "                   Labels : True\n",
      "           Min node count : 32\n",
      "       Average node count : 76.51\n",
      "           Max node count : 492\n",
      "           Min edge count : 60.0\n",
      "       Average edge count : 2495.42\n",
      "           Max edge count : 40008.0\n",
      "     Min filling fraction : 0.03\n",
      " Average filling fraction : 0.46\n",
      "     Max filling fraction : 1.0\n",
      "          Label \"1\" count : 17545\n",
      "          Label \"2\" count : 5300\n",
      "          Label \"3\" count : 8834\n",
      "----------------------------------------------------------------\n",
      "Statistic of set:  Validation dataset 0\n",
      "             Dataset size : 6889\n",
      "                   Labels : True\n",
      "           Min node count : 32\n",
      "       Average node count : 78.26\n",
      "           Max node count : 445\n",
      "           Min edge count : 72.0\n",
      "       Average edge count : 2773.66\n",
      "           Max edge count : 37762.5\n",
      "     Min filling fraction : 0.05\n",
      " Average filling fraction : 0.47\n",
      "     Max filling fraction : 1.0\n",
      "          Label \"1\" count : 3568\n",
      "          Label \"2\" count : 1150\n",
      "          Label \"3\" count : 2171\n",
      "----------------------------------------------------------------\n",
      "Statistic of set:  Test dataset 0\n",
      "             Dataset size : 6672\n",
      "                   Labels : True\n",
      "           Min node count : 32\n",
      "       Average node count : 77.3\n",
      "           Max node count : 487\n",
      "           Min edge count : 72.0\n",
      "       Average edge count : 2595.55\n",
      "           Max edge count : 40119.5\n",
      "     Min filling fraction : 0.07\n",
      " Average filling fraction : 0.45\n",
      "     Max filling fraction : 1.0\n",
      "          Label \"1\" count : 3760\n",
      "          Label \"2\" count : 1300\n",
      "          Label \"3\" count : 1612\n",
      "----------------------------------------------------------------\n"
     ]
    },
    {
     "data": {
      "application/vnd.jupyter.widget-view+json": {
       "model_id": "9adb62e0eb41471289da270281265f17",
       "version_major": 2,
       "version_minor": 0
      },
      "text/plain": [
       "preparing dataset train for autoencoder:   0%|          | 0/31679 [00:00<?, ?it/s]"
      ]
     },
     "metadata": {},
     "output_type": "display_data"
    },
    {
     "data": {
      "application/vnd.jupyter.widget-view+json": {
       "model_id": "a671a0fc8e614286b23a75968b22619d",
       "version_major": 2,
       "version_minor": 0
      },
      "text/plain": [
       "preparing dataset val 0 for autoencoder:   0%|          | 0/6889 [00:00<?, ?it/s]"
      ]
     },
     "metadata": {},
     "output_type": "display_data"
    },
    {
     "data": {
      "application/vnd.jupyter.widget-view+json": {
       "model_id": "b69be7309d1647fbb537cb31dceda65f",
       "version_major": 2,
       "version_minor": 0
      },
      "text/plain": [
       "preparing dataset test 0 for autoencoder:   0%|          | 0/6672 [00:00<?, ?it/s]"
      ]
     },
     "metadata": {},
     "output_type": "display_data"
    },
    {
     "data": {
      "application/vnd.jupyter.widget-view+json": {
       "model_id": "2f93ecc2a7f94f3ca5b824c6f9d02944",
       "version_major": 2,
       "version_minor": 0
      },
      "text/plain": [
       "reading edges: 0it [00:00, ?it/s]"
      ]
     },
     "metadata": {},
     "output_type": "display_data"
    },
    {
     "name": "stdout",
     "output_type": "stream",
     "text": [
      "Statistic of set:  Full original dataset\n",
      "             Dataset size : 5000\n",
      "                   Labels : True\n",
      "           Min node count : 32\n",
      "       Average node count : 74.49\n",
      "           Max node count : 492\n",
      "           Min edge count : 60.0\n",
      "       Average edge count : 2457.5\n",
      "           Max edge count : 40119.5\n",
      "     Min filling fraction : 0.03\n",
      " Average filling fraction : 0.51\n",
      "     Max filling fraction : 1.0\n",
      "          Label \"1\" count : 2600\n",
      "          Label \"2\" count : 775\n",
      "          Label \"3\" count : 1625\n",
      "----------------------------------------------------------------\n",
      "Dataset pickled successfully\n",
      "File path: /usr/local/datasets/COLLAB/4.pkl\n",
      "File size: 3.4 GB\n",
      "Statistic of set:  Train dataset\n",
      "             Dataset size : 31610\n",
      "                   Labels : True\n",
      "           Min node count : 32\n",
      "       Average node count : 77.06\n",
      "           Max node count : 487\n",
      "           Min edge count : 61.0\n",
      "       Average edge count : 2571.51\n",
      "           Max edge count : 40119.5\n",
      "     Min filling fraction : 0.03\n",
      " Average filling fraction : 0.46\n",
      "     Max filling fraction : 1.0\n",
      "          Label \"1\" count : 17569\n",
      "          Label \"2\" count : 5340\n",
      "          Label \"3\" count : 8701\n",
      "----------------------------------------------------------------\n",
      "Statistic of set:  Validation dataset 0\n",
      "             Dataset size : 6849\n",
      "                   Labels : True\n",
      "           Min node count : 32\n",
      "       Average node count : 80.52\n",
      "           Max node count : 492\n",
      "           Min edge count : 75.0\n",
      "       Average edge count : 2962.8\n",
      "           Max edge count : 40008.0\n",
      "     Min filling fraction : 0.05\n",
      " Average filling fraction : 0.47\n",
      "     Max filling fraction : 1.0\n",
      "          Label \"1\" count : 3520\n",
      "          Label \"2\" count : 1230\n",
      "          Label \"3\" count : 2099\n",
      "----------------------------------------------------------------\n",
      "Statistic of set:  Test dataset 0\n",
      "             Dataset size : 6776\n",
      "                   Labels : True\n",
      "           Min node count : 32\n",
      "       Average node count : 72.58\n",
      "           Max node count : 444\n",
      "           Min edge count : 60.0\n",
      "       Average edge count : 2071.18\n",
      "           Max edge count : 39225.5\n",
      "     Min filling fraction : 0.07\n",
      " Average filling fraction : 0.44\n",
      "     Max filling fraction : 1.0\n",
      "          Label \"1\" count : 3784\n",
      "          Label \"2\" count : 1180\n",
      "          Label \"3\" count : 1812\n",
      "----------------------------------------------------------------\n"
     ]
    },
    {
     "data": {
      "application/vnd.jupyter.widget-view+json": {
       "model_id": "8ff4a7793d04448fa39ac356d130e7a1",
       "version_major": 2,
       "version_minor": 0
      },
      "text/plain": [
       "preparing dataset train for autoencoder:   0%|          | 0/31610 [00:00<?, ?it/s]"
      ]
     },
     "metadata": {},
     "output_type": "display_data"
    },
    {
     "data": {
      "application/vnd.jupyter.widget-view+json": {
       "model_id": "b6ca223b711448f3bb25fd79f8e427d2",
       "version_major": 2,
       "version_minor": 0
      },
      "text/plain": [
       "preparing dataset val 0 for autoencoder:   0%|          | 0/6849 [00:00<?, ?it/s]"
      ]
     },
     "metadata": {},
     "output_type": "display_data"
    },
    {
     "data": {
      "application/vnd.jupyter.widget-view+json": {
       "model_id": "ae6f6b35bd4d4c129862976f56ef164b",
       "version_major": 2,
       "version_minor": 0
      },
      "text/plain": [
       "preparing dataset test 0 for autoencoder:   0%|          | 0/6776 [00:00<?, ?it/s]"
      ]
     },
     "metadata": {},
     "output_type": "display_data"
    }
   ],
   "source": [
    "save_datasets('COLLAB')"
   ]
  },
  {
   "cell_type": "code",
   "execution_count": 15,
   "id": "82503874",
   "metadata": {},
   "outputs": [],
   "source": [
    "num_dataset_graph_permutations = 1"
   ]
  },
  {
   "cell_type": "code",
   "execution_count": 16,
   "id": "5a7ae33f",
   "metadata": {
    "scrolled": true
   },
   "outputs": [
    {
     "data": {
      "application/vnd.jupyter.widget-view+json": {
       "model_id": "3cbe02a4c32642ed95ce1f855d06b18c",
       "version_major": 2,
       "version_minor": 0
      },
      "text/plain": [
       "REDDIT-BINARY:   0%|          | 0/5 [00:00<?, ?it/s]"
      ]
     },
     "metadata": {},
     "output_type": "display_data"
    },
    {
     "data": {
      "application/vnd.jupyter.widget-view+json": {
       "model_id": "b6d3dfd593d94350bdab2a198ce3f6fc",
       "version_major": 2,
       "version_minor": 0
      },
      "text/plain": [
       "reading edges: 0it [00:00, ?it/s]"
      ]
     },
     "metadata": {},
     "output_type": "display_data"
    },
    {
     "name": "stdout",
     "output_type": "stream",
     "text": [
      "Statistic of set:  Full original dataset\n",
      "             Dataset size : 2000\n",
      "                   Labels : True\n",
      "           Min node count : 6\n",
      "       Average node count : 429.63\n",
      "           Max node count : 3782\n",
      "           Min edge count : 4.0\n",
      "       Average edge count : 497.75\n",
      "           Max edge count : 4071.0\n",
      "     Min filling fraction : 0.0\n",
      " Average filling fraction : 0.02\n",
      "     Max filling fraction : 0.29\n",
      "         Label \"-1\" count : 1000\n",
      "          Label \"1\" count : 1000\n",
      "----------------------------------------------------------------\n",
      "Dataset pickled successfully\n",
      "File path: /usr/local/datasets/REDDIT-BINARY/0.pkl\n",
      "File size: 7.32 GB\n",
      "Statistic of set:  Train dataset\n",
      "             Dataset size : 1400\n",
      "                   Labels : True\n",
      "           Min node count : 6\n",
      "       Average node count : 436.84\n",
      "           Max node count : 3782\n",
      "           Min edge count : 4.0\n",
      "       Average edge count : 505.86\n",
      "           Max edge count : 4071.0\n",
      "     Min filling fraction : 0.0\n",
      " Average filling fraction : 0.02\n",
      "     Max filling fraction : 0.29\n",
      "         Label \"-1\" count : 699\n",
      "          Label \"1\" count : 701\n",
      "----------------------------------------------------------------\n",
      "Statistic of set:  Validation dataset 0\n",
      "             Dataset size : 300\n",
      "                   Labels : True\n",
      "           Min node count : 10\n",
      "       Average node count : 415.77\n",
      "           Max node count : 3259\n",
      "           Min edge count : 9.0\n",
      "       Average edge count : 483.56\n",
      "           Max edge count : 3692.0\n",
      "     Min filling fraction : 0.0\n",
      " Average filling fraction : 0.02\n",
      "     Max filling fraction : 0.22\n",
      "         Label \"-1\" count : 155\n",
      "          Label \"1\" count : 145\n",
      "----------------------------------------------------------------\n",
      "Statistic of set:  Test dataset 0\n",
      "             Dataset size : 300\n",
      "                   Labels : True\n",
      "           Min node count : 13\n",
      "       Average node count : 409.83\n",
      "           Max node count : 3399\n",
      "           Min edge count : 12.0\n",
      "       Average edge count : 474.12\n",
      "           Max edge count : 3629.0\n",
      "     Min filling fraction : 0.0\n",
      " Average filling fraction : 0.02\n",
      "     Max filling fraction : 0.16\n",
      "         Label \"-1\" count : 146\n",
      "          Label \"1\" count : 154\n",
      "----------------------------------------------------------------\n"
     ]
    },
    {
     "data": {
      "application/vnd.jupyter.widget-view+json": {
       "model_id": "f063540011014c6a94fba94ecb1fb331",
       "version_major": 2,
       "version_minor": 0
      },
      "text/plain": [
       "preparing dataset train for autoencoder:   0%|          | 0/1400 [00:00<?, ?it/s]"
      ]
     },
     "metadata": {},
     "output_type": "display_data"
    },
    {
     "data": {
      "application/vnd.jupyter.widget-view+json": {
       "model_id": "fab877c586b54274b31cd62beafbb41d",
       "version_major": 2,
       "version_minor": 0
      },
      "text/plain": [
       "preparing dataset val 0 for autoencoder:   0%|          | 0/300 [00:00<?, ?it/s]"
      ]
     },
     "metadata": {},
     "output_type": "display_data"
    },
    {
     "data": {
      "application/vnd.jupyter.widget-view+json": {
       "model_id": "45700982e77e441287c1ccf0c2959d15",
       "version_major": 2,
       "version_minor": 0
      },
      "text/plain": [
       "preparing dataset test 0 for autoencoder:   0%|          | 0/300 [00:00<?, ?it/s]"
      ]
     },
     "metadata": {},
     "output_type": "display_data"
    },
    {
     "data": {
      "application/vnd.jupyter.widget-view+json": {
       "model_id": "a1c06be751374b818b40c968d862cb8c",
       "version_major": 2,
       "version_minor": 0
      },
      "text/plain": [
       "reading edges: 0it [00:00, ?it/s]"
      ]
     },
     "metadata": {},
     "output_type": "display_data"
    },
    {
     "name": "stdout",
     "output_type": "stream",
     "text": [
      "Statistic of set:  Full original dataset\n",
      "             Dataset size : 2000\n",
      "                   Labels : True\n",
      "           Min node count : 6\n",
      "       Average node count : 429.63\n",
      "           Max node count : 3782\n",
      "           Min edge count : 4.0\n",
      "       Average edge count : 497.75\n",
      "           Max edge count : 4071.0\n",
      "     Min filling fraction : 0.0\n",
      " Average filling fraction : 0.02\n",
      "     Max filling fraction : 0.29\n",
      "         Label \"-1\" count : 1000\n",
      "          Label \"1\" count : 1000\n",
      "----------------------------------------------------------------\n",
      "Dataset pickled successfully\n",
      "File path: /usr/local/datasets/REDDIT-BINARY/1.pkl\n",
      "File size: 7.32 GB\n",
      "Statistic of set:  Train dataset\n",
      "             Dataset size : 1400\n",
      "                   Labels : True\n",
      "           Min node count : 6\n",
      "       Average node count : 424.51\n",
      "           Max node count : 3782\n",
      "           Min edge count : 4.0\n",
      "       Average edge count : 490.16\n",
      "           Max edge count : 4071.0\n",
      "     Min filling fraction : 0.0\n",
      " Average filling fraction : 0.02\n",
      "     Max filling fraction : 0.27\n",
      "         Label \"-1\" count : 687\n",
      "          Label \"1\" count : 713\n",
      "----------------------------------------------------------------\n",
      "Statistic of set:  Validation dataset 0\n",
      "             Dataset size : 300\n",
      "                   Labels : True\n",
      "           Min node count : 11\n",
      "       Average node count : 419.04\n",
      "           Max node count : 3361\n",
      "           Min edge count : 10.0\n",
      "       Average edge count : 486.22\n",
      "           Max edge count : 3718.0\n",
      "     Min filling fraction : 0.0\n",
      " Average filling fraction : 0.02\n",
      "     Max filling fraction : 0.18\n",
      "         Label \"-1\" count : 158\n",
      "          Label \"1\" count : 142\n",
      "----------------------------------------------------------------\n",
      "Statistic of set:  Test dataset 0\n",
      "             Dataset size : 300\n",
      "                   Labels : True\n",
      "           Min node count : 7\n",
      "       Average node count : 464.11\n",
      "           Max node count : 3232\n",
      "           Min edge count : 6.0\n",
      "       Average edge count : 544.71\n",
      "           Max edge count : 3630.0\n",
      "     Min filling fraction : 0.0\n",
      " Average filling fraction : 0.02\n",
      "     Max filling fraction : 0.29\n",
      "         Label \"-1\" count : 155\n",
      "          Label \"1\" count : 145\n",
      "----------------------------------------------------------------\n"
     ]
    },
    {
     "data": {
      "application/vnd.jupyter.widget-view+json": {
       "model_id": "4bfb121cf1f34aae8c1ab81fdcbb5551",
       "version_major": 2,
       "version_minor": 0
      },
      "text/plain": [
       "preparing dataset train for autoencoder:   0%|          | 0/1400 [00:00<?, ?it/s]"
      ]
     },
     "metadata": {},
     "output_type": "display_data"
    },
    {
     "data": {
      "application/vnd.jupyter.widget-view+json": {
       "model_id": "fd48753fd08c41709a373bb462c0ef46",
       "version_major": 2,
       "version_minor": 0
      },
      "text/plain": [
       "preparing dataset val 0 for autoencoder:   0%|          | 0/300 [00:00<?, ?it/s]"
      ]
     },
     "metadata": {},
     "output_type": "display_data"
    },
    {
     "data": {
      "application/vnd.jupyter.widget-view+json": {
       "model_id": "f4ed25cf6cf24fdcba5a25df10565688",
       "version_major": 2,
       "version_minor": 0
      },
      "text/plain": [
       "preparing dataset test 0 for autoencoder:   0%|          | 0/300 [00:00<?, ?it/s]"
      ]
     },
     "metadata": {},
     "output_type": "display_data"
    },
    {
     "data": {
      "application/vnd.jupyter.widget-view+json": {
       "model_id": "782bcc66f21b482587ff0e78ba62e9a6",
       "version_major": 2,
       "version_minor": 0
      },
      "text/plain": [
       "reading edges: 0it [00:00, ?it/s]"
      ]
     },
     "metadata": {},
     "output_type": "display_data"
    },
    {
     "name": "stdout",
     "output_type": "stream",
     "text": [
      "Statistic of set:  Full original dataset\n",
      "             Dataset size : 2000\n",
      "                   Labels : True\n",
      "           Min node count : 6\n",
      "       Average node count : 429.63\n",
      "           Max node count : 3782\n",
      "           Min edge count : 4.0\n",
      "       Average edge count : 497.75\n",
      "           Max edge count : 4071.0\n",
      "     Min filling fraction : 0.0\n",
      " Average filling fraction : 0.02\n",
      "     Max filling fraction : 0.29\n",
      "         Label \"-1\" count : 1000\n",
      "          Label \"1\" count : 1000\n",
      "----------------------------------------------------------------\n",
      "Dataset pickled successfully\n",
      "File path: /usr/local/datasets/REDDIT-BINARY/2.pkl\n",
      "File size: 7.32 GB\n",
      "Statistic of set:  Train dataset\n",
      "             Dataset size : 1400\n",
      "                   Labels : True\n",
      "           Min node count : 6\n",
      "       Average node count : 407.13\n",
      "           Max node count : 3648\n",
      "           Min edge count : 4.0\n",
      "       Average edge count : 473.56\n",
      "           Max edge count : 4006.0\n",
      "     Min filling fraction : 0.0\n",
      " Average filling fraction : 0.02\n",
      "     Max filling fraction : 0.29\n",
      "         Label \"-1\" count : 687\n",
      "          Label \"1\" count : 713\n",
      "----------------------------------------------------------------\n",
      "Statistic of set:  Validation dataset 0\n",
      "             Dataset size : 300\n",
      "                   Labels : True\n",
      "           Min node count : 10\n",
      "       Average node count : 484.66\n",
      "           Max node count : 3782\n",
      "           Min edge count : 8.0\n",
      "       Average edge count : 557.24\n",
      "           Max edge count : 4071.0\n",
      "     Min filling fraction : 0.0\n",
      " Average filling fraction : 0.02\n",
      "     Max filling fraction : 0.22\n",
      "         Label \"-1\" count : 146\n",
      "          Label \"1\" count : 154\n",
      "----------------------------------------------------------------\n",
      "Statistic of set:  Test dataset 0\n",
      "             Dataset size : 300\n",
      "                   Labels : True\n",
      "           Min node count : 13\n",
      "       Average node count : 479.56\n",
      "           Max node count : 3376\n",
      "           Min edge count : 11.0\n",
      "       Average edge count : 551.2\n",
      "           Max edge count : 3561.0\n",
      "     Min filling fraction : 0.0\n",
      " Average filling fraction : 0.02\n",
      "     Max filling fraction : 0.15\n",
      "         Label \"-1\" count : 167\n",
      "          Label \"1\" count : 133\n",
      "----------------------------------------------------------------\n"
     ]
    },
    {
     "data": {
      "application/vnd.jupyter.widget-view+json": {
       "model_id": "dd3ba0613a544c3280b7ec782be6cca0",
       "version_major": 2,
       "version_minor": 0
      },
      "text/plain": [
       "preparing dataset train for autoencoder:   0%|          | 0/1400 [00:00<?, ?it/s]"
      ]
     },
     "metadata": {},
     "output_type": "display_data"
    },
    {
     "data": {
      "application/vnd.jupyter.widget-view+json": {
       "model_id": "cd7ac19768c24b9091119f1c54f30499",
       "version_major": 2,
       "version_minor": 0
      },
      "text/plain": [
       "preparing dataset val 0 for autoencoder:   0%|          | 0/300 [00:00<?, ?it/s]"
      ]
     },
     "metadata": {},
     "output_type": "display_data"
    },
    {
     "data": {
      "application/vnd.jupyter.widget-view+json": {
       "model_id": "367b67e3160d4992aab24fbc91f843fa",
       "version_major": 2,
       "version_minor": 0
      },
      "text/plain": [
       "preparing dataset test 0 for autoencoder:   0%|          | 0/300 [00:00<?, ?it/s]"
      ]
     },
     "metadata": {},
     "output_type": "display_data"
    },
    {
     "data": {
      "application/vnd.jupyter.widget-view+json": {
       "model_id": "e85d9e1ea2014eeaaab34f51787079fc",
       "version_major": 2,
       "version_minor": 0
      },
      "text/plain": [
       "reading edges: 0it [00:00, ?it/s]"
      ]
     },
     "metadata": {},
     "output_type": "display_data"
    },
    {
     "name": "stdout",
     "output_type": "stream",
     "text": [
      "Statistic of set:  Full original dataset\n",
      "             Dataset size : 2000\n",
      "                   Labels : True\n",
      "           Min node count : 6\n",
      "       Average node count : 429.63\n",
      "           Max node count : 3782\n",
      "           Min edge count : 4.0\n",
      "       Average edge count : 497.75\n",
      "           Max edge count : 4071.0\n",
      "     Min filling fraction : 0.0\n",
      " Average filling fraction : 0.02\n",
      "     Max filling fraction : 0.29\n",
      "         Label \"-1\" count : 1000\n",
      "          Label \"1\" count : 1000\n",
      "----------------------------------------------------------------\n",
      "Dataset pickled successfully\n",
      "File path: /usr/local/datasets/REDDIT-BINARY/3.pkl\n",
      "File size: 7.32 GB\n",
      "Statistic of set:  Train dataset\n",
      "             Dataset size : 1400\n",
      "                   Labels : True\n",
      "           Min node count : 6\n",
      "       Average node count : 426.66\n",
      "           Max node count : 3648\n",
      "           Min edge count : 4.0\n",
      "       Average edge count : 494.06\n",
      "           Max edge count : 4006.0\n",
      "     Min filling fraction : 0.0\n",
      " Average filling fraction : 0.02\n",
      "     Max filling fraction : 0.29\n",
      "         Label \"-1\" count : 705\n",
      "          Label \"1\" count : 695\n",
      "----------------------------------------------------------------\n",
      "Statistic of set:  Validation dataset 0\n",
      "             Dataset size : 300\n",
      "                   Labels : True\n",
      "           Min node count : 17\n",
      "       Average node count : 448.67\n",
      "           Max node count : 3782\n",
      "           Min edge count : 16.0\n",
      "       Average edge count : 518.24\n",
      "           Max edge count : 4071.0\n",
      "     Min filling fraction : 0.0\n",
      " Average filling fraction : 0.02\n",
      "     Max filling fraction : 0.15\n",
      "         Label \"-1\" count : 157\n",
      "          Label \"1\" count : 143\n",
      "----------------------------------------------------------------\n",
      "Statistic of set:  Test dataset 0\n",
      "             Dataset size : 300\n",
      "                   Labels : True\n",
      "           Min node count : 9\n",
      "       Average node count : 424.42\n",
      "           Max node count : 3268\n",
      "           Min edge count : 8.0\n",
      "       Average edge count : 494.51\n",
      "           Max edge count : 3692.0\n",
      "     Min filling fraction : 0.0\n",
      " Average filling fraction : 0.02\n",
      "     Max filling fraction : 0.22\n",
      "         Label \"-1\" count : 138\n",
      "          Label \"1\" count : 162\n",
      "----------------------------------------------------------------\n"
     ]
    },
    {
     "data": {
      "application/vnd.jupyter.widget-view+json": {
       "model_id": "96b4430420b44943a7796cbd1623e817",
       "version_major": 2,
       "version_minor": 0
      },
      "text/plain": [
       "preparing dataset train for autoencoder:   0%|          | 0/1400 [00:00<?, ?it/s]"
      ]
     },
     "metadata": {},
     "output_type": "display_data"
    },
    {
     "data": {
      "application/vnd.jupyter.widget-view+json": {
       "model_id": "23ac5f684d0144c6a1efee6fd38045ae",
       "version_major": 2,
       "version_minor": 0
      },
      "text/plain": [
       "preparing dataset val 0 for autoencoder:   0%|          | 0/300 [00:00<?, ?it/s]"
      ]
     },
     "metadata": {},
     "output_type": "display_data"
    },
    {
     "data": {
      "application/vnd.jupyter.widget-view+json": {
       "model_id": "fc7ea6dcd1124af8bb1805fbb96e7682",
       "version_major": 2,
       "version_minor": 0
      },
      "text/plain": [
       "preparing dataset test 0 for autoencoder:   0%|          | 0/300 [00:00<?, ?it/s]"
      ]
     },
     "metadata": {},
     "output_type": "display_data"
    },
    {
     "data": {
      "application/vnd.jupyter.widget-view+json": {
       "model_id": "ceb3ac94b32a40c0ba0fd0da8d16276f",
       "version_major": 2,
       "version_minor": 0
      },
      "text/plain": [
       "reading edges: 0it [00:00, ?it/s]"
      ]
     },
     "metadata": {},
     "output_type": "display_data"
    },
    {
     "name": "stdout",
     "output_type": "stream",
     "text": [
      "Statistic of set:  Full original dataset\n",
      "             Dataset size : 2000\n",
      "                   Labels : True\n",
      "           Min node count : 6\n",
      "       Average node count : 429.63\n",
      "           Max node count : 3782\n",
      "           Min edge count : 4.0\n",
      "       Average edge count : 497.75\n",
      "           Max edge count : 4071.0\n",
      "     Min filling fraction : 0.0\n",
      " Average filling fraction : 0.02\n",
      "     Max filling fraction : 0.29\n",
      "         Label \"-1\" count : 1000\n",
      "          Label \"1\" count : 1000\n",
      "----------------------------------------------------------------\n",
      "Dataset pickled successfully\n",
      "File path: /usr/local/datasets/REDDIT-BINARY/4.pkl\n",
      "File size: 7.32 GB\n",
      "Statistic of set:  Train dataset\n",
      "             Dataset size : 1400\n",
      "                   Labels : True\n",
      "           Min node count : 7\n",
      "       Average node count : 424.69\n",
      "           Max node count : 3782\n",
      "           Min edge count : 6.0\n",
      "       Average edge count : 492.38\n",
      "           Max edge count : 4071.0\n",
      "     Min filling fraction : 0.0\n",
      " Average filling fraction : 0.02\n",
      "     Max filling fraction : 0.29\n",
      "         Label \"-1\" count : 687\n",
      "          Label \"1\" count : 713\n",
      "----------------------------------------------------------------\n",
      "Statistic of set:  Validation dataset 0\n",
      "             Dataset size : 300\n",
      "                   Labels : True\n",
      "           Min node count : 6\n",
      "       Average node count : 463.09\n",
      "           Max node count : 3648\n",
      "           Min edge count : 4.0\n",
      "       Average edge count : 535.95\n",
      "           Max edge count : 4006.0\n",
      "     Min filling fraction : 0.0\n",
      " Average filling fraction : 0.02\n",
      "     Max filling fraction : 0.27\n",
      "         Label \"-1\" count : 166\n",
      "          Label \"1\" count : 134\n",
      "----------------------------------------------------------------\n",
      "Statistic of set:  Test dataset 0\n",
      "             Dataset size : 300\n",
      "                   Labels : True\n",
      "           Min node count : 13\n",
      "       Average node count : 419.19\n",
      "           Max node count : 3428\n",
      "           Min edge count : 12.0\n",
      "       Average edge count : 484.63\n",
      "           Max edge count : 3660.0\n",
      "     Min filling fraction : 0.0\n",
      " Average filling fraction : 0.02\n",
      "     Max filling fraction : 0.15\n",
      "         Label \"-1\" count : 147\n",
      "          Label \"1\" count : 153\n",
      "----------------------------------------------------------------\n"
     ]
    },
    {
     "data": {
      "application/vnd.jupyter.widget-view+json": {
       "model_id": "7ac9effe987d412e90864460c4b3edfa",
       "version_major": 2,
       "version_minor": 0
      },
      "text/plain": [
       "preparing dataset train for autoencoder:   0%|          | 0/1400 [00:00<?, ?it/s]"
      ]
     },
     "metadata": {},
     "output_type": "display_data"
    },
    {
     "data": {
      "application/vnd.jupyter.widget-view+json": {
       "model_id": "041f1dbfe9e54228b3486ee1663f7057",
       "version_major": 2,
       "version_minor": 0
      },
      "text/plain": [
       "preparing dataset val 0 for autoencoder:   0%|          | 0/300 [00:00<?, ?it/s]"
      ]
     },
     "metadata": {},
     "output_type": "display_data"
    },
    {
     "data": {
      "application/vnd.jupyter.widget-view+json": {
       "model_id": "52859db906c74d8e9f2fc243d9ad28a4",
       "version_major": 2,
       "version_minor": 0
      },
      "text/plain": [
       "preparing dataset test 0 for autoencoder:   0%|          | 0/300 [00:00<?, ?it/s]"
      ]
     },
     "metadata": {},
     "output_type": "display_data"
    }
   ],
   "source": [
    "save_datasets('REDDIT-BINARY')"
   ]
  },
  {
   "cell_type": "code",
   "execution_count": 17,
   "id": "5e3c4077",
   "metadata": {
    "scrolled": true
   },
   "outputs": [
    {
     "data": {
      "application/vnd.jupyter.widget-view+json": {
       "model_id": "d4e0fddcfa9b409f9712e551f9f0f49c",
       "version_major": 2,
       "version_minor": 0
      },
      "text/plain": [
       "REDDIT-MULTI-5K:   0%|          | 0/5 [00:00<?, ?it/s]"
      ]
     },
     "metadata": {},
     "output_type": "display_data"
    },
    {
     "data": {
      "application/vnd.jupyter.widget-view+json": {
       "model_id": "7370c83b41f94576aff8d8c34e264c14",
       "version_major": 2,
       "version_minor": 0
      },
      "text/plain": [
       "reading edges: 0it [00:00, ?it/s]"
      ]
     },
     "metadata": {},
     "output_type": "display_data"
    },
    {
     "name": "stdout",
     "output_type": "stream",
     "text": [
      "Statistic of set:  Full original dataset\n",
      "             Dataset size : 4999\n",
      "                   Labels : True\n",
      "           Min node count : 22\n",
      "       Average node count : 508.52\n",
      "           Max node count : 3648\n",
      "           Min edge count : 21.0\n",
      "       Average edge count : 594.87\n",
      "           Max edge count : 4783.0\n",
      "     Min filling fraction : 0.0\n",
      " Average filling fraction : 0.01\n",
      "     Max filling fraction : 0.09\n",
      "          Label \"1\" count : 1000\n",
      "          Label \"2\" count : 1000\n",
      "          Label \"3\" count : 1000\n",
      "          Label \"4\" count : 1000\n",
      "          Label \"5\" count : 999\n",
      "----------------------------------------------------------------\n",
      "Dataset pickled successfully\n",
      "File path: /usr/local/datasets/REDDIT-MULTI-5K/0.pkl\n",
      "File size: 17.26 GB\n",
      "Statistic of set:  Train dataset\n",
      "             Dataset size : 3501\n",
      "                   Labels : True\n",
      "           Min node count : 22\n",
      "       Average node count : 516.5\n",
      "           Max node count : 3648\n",
      "           Min edge count : 21.0\n",
      "       Average edge count : 603.54\n",
      "           Max edge count : 4783.0\n",
      "     Min filling fraction : 0.0\n",
      " Average filling fraction : 0.01\n",
      "     Max filling fraction : 0.09\n",
      "          Label \"1\" count : 703\n",
      "          Label \"2\" count : 720\n",
      "          Label \"3\" count : 708\n",
      "          Label \"4\" count : 700\n",
      "          Label \"5\" count : 670\n",
      "----------------------------------------------------------------\n",
      "Statistic of set:  Validation dataset 0\n",
      "             Dataset size : 749\n",
      "                   Labels : True\n",
      "           Min node count : 32\n",
      "       Average node count : 481.84\n",
      "           Max node count : 2888\n",
      "           Min edge count : 32.0\n",
      "       Average edge count : 566.17\n",
      "           Max edge count : 4018.0\n",
      "     Min filling fraction : 0.0\n",
      " Average filling fraction : 0.01\n",
      "     Max filling fraction : 0.06\n",
      "          Label \"1\" count : 158\n",
      "          Label \"2\" count : 140\n",
      "          Label \"3\" count : 149\n",
      "          Label \"4\" count : 153\n",
      "          Label \"5\" count : 149\n",
      "----------------------------------------------------------------\n",
      "Statistic of set:  Test dataset 0\n",
      "             Dataset size : 749\n",
      "                   Labels : True\n",
      "           Min node count : 26\n",
      "       Average node count : 497.85\n",
      "           Max node count : 3311\n",
      "           Min edge count : 26.0\n",
      "       Average edge count : 583.07\n",
      "           Max edge count : 4365.0\n",
      "     Min filling fraction : 0.0\n",
      " Average filling fraction : 0.01\n",
      "     Max filling fraction : 0.08\n",
      "          Label \"1\" count : 139\n",
      "          Label \"2\" count : 140\n",
      "          Label \"3\" count : 143\n",
      "          Label \"4\" count : 147\n",
      "          Label \"5\" count : 180\n",
      "----------------------------------------------------------------\n"
     ]
    },
    {
     "data": {
      "application/vnd.jupyter.widget-view+json": {
       "model_id": "9e02cddf7c6b4273b9269a0dbddb3b36",
       "version_major": 2,
       "version_minor": 0
      },
      "text/plain": [
       "preparing dataset train for autoencoder:   0%|          | 0/3501 [00:00<?, ?it/s]"
      ]
     },
     "metadata": {},
     "output_type": "display_data"
    },
    {
     "data": {
      "application/vnd.jupyter.widget-view+json": {
       "model_id": "2ef0b0d6ada34c5faeb1c05f81fb8344",
       "version_major": 2,
       "version_minor": 0
      },
      "text/plain": [
       "preparing dataset val 0 for autoencoder:   0%|          | 0/749 [00:00<?, ?it/s]"
      ]
     },
     "metadata": {},
     "output_type": "display_data"
    },
    {
     "data": {
      "application/vnd.jupyter.widget-view+json": {
       "model_id": "6d4cea9d15e14fe3940efa6224be76d8",
       "version_major": 2,
       "version_minor": 0
      },
      "text/plain": [
       "preparing dataset test 0 for autoencoder:   0%|          | 0/749 [00:00<?, ?it/s]"
      ]
     },
     "metadata": {},
     "output_type": "display_data"
    },
    {
     "data": {
      "application/vnd.jupyter.widget-view+json": {
       "model_id": "9f0c9a9814954c28a781cb8b55baffe3",
       "version_major": 2,
       "version_minor": 0
      },
      "text/plain": [
       "reading edges: 0it [00:00, ?it/s]"
      ]
     },
     "metadata": {},
     "output_type": "display_data"
    },
    {
     "name": "stdout",
     "output_type": "stream",
     "text": [
      "Statistic of set:  Full original dataset\n",
      "             Dataset size : 4999\n",
      "                   Labels : True\n",
      "           Min node count : 22\n",
      "       Average node count : 508.52\n",
      "           Max node count : 3648\n",
      "           Min edge count : 21.0\n",
      "       Average edge count : 594.87\n",
      "           Max edge count : 4783.0\n",
      "     Min filling fraction : 0.0\n",
      " Average filling fraction : 0.01\n",
      "     Max filling fraction : 0.09\n",
      "          Label \"1\" count : 1000\n",
      "          Label \"2\" count : 1000\n",
      "          Label \"3\" count : 1000\n",
      "          Label \"4\" count : 1000\n",
      "          Label \"5\" count : 999\n",
      "----------------------------------------------------------------\n",
      "Dataset pickled successfully\n",
      "File path: /usr/local/datasets/REDDIT-MULTI-5K/1.pkl\n",
      "File size: 17.26 GB\n",
      "Statistic of set:  Train dataset\n",
      "             Dataset size : 3501\n",
      "                   Labels : True\n",
      "           Min node count : 22\n",
      "       Average node count : 508.52\n",
      "           Max node count : 3311\n",
      "           Min edge count : 21.0\n",
      "       Average edge count : 594.62\n",
      "           Max edge count : 4365.0\n",
      "     Min filling fraction : 0.0\n",
      " Average filling fraction : 0.01\n",
      "     Max filling fraction : 0.09\n",
      "          Label \"1\" count : 680\n",
      "          Label \"2\" count : 705\n",
      "          Label \"3\" count : 731\n",
      "          Label \"4\" count : 694\n",
      "          Label \"5\" count : 691\n",
      "----------------------------------------------------------------\n",
      "Statistic of set:  Validation dataset 0\n",
      "             Dataset size : 749\n",
      "                   Labels : True\n",
      "           Min node count : 32\n",
      "       Average node count : 502.99\n",
      "           Max node count : 3107\n",
      "           Min edge count : 32.0\n",
      "       Average edge count : 588.96\n",
      "           Max edge count : 4783.0\n",
      "     Min filling fraction : 0.0\n",
      " Average filling fraction : 0.01\n",
      "     Max filling fraction : 0.06\n",
      "          Label \"1\" count : 172\n",
      "          Label \"2\" count : 139\n",
      "          Label \"3\" count : 141\n",
      "          Label \"4\" count : 152\n",
      "          Label \"5\" count : 145\n",
      "----------------------------------------------------------------\n",
      "Statistic of set:  Test dataset 0\n",
      "             Dataset size : 749\n",
      "                   Labels : True\n",
      "           Min node count : 38\n",
      "       Average node count : 514.0\n",
      "           Max node count : 3648\n",
      "           Min edge count : 37.0\n",
      "       Average edge count : 601.97\n",
      "           Max edge count : 4360.0\n",
      "     Min filling fraction : 0.0\n",
      " Average filling fraction : 0.01\n",
      "     Max filling fraction : 0.05\n",
      "          Label \"1\" count : 148\n",
      "          Label \"2\" count : 156\n",
      "          Label \"3\" count : 128\n",
      "          Label \"4\" count : 154\n",
      "          Label \"5\" count : 163\n",
      "----------------------------------------------------------------\n"
     ]
    },
    {
     "data": {
      "application/vnd.jupyter.widget-view+json": {
       "model_id": "1a472690fc5d4c1b873c8ae4257c36cd",
       "version_major": 2,
       "version_minor": 0
      },
      "text/plain": [
       "preparing dataset train for autoencoder:   0%|          | 0/3501 [00:00<?, ?it/s]"
      ]
     },
     "metadata": {},
     "output_type": "display_data"
    },
    {
     "data": {
      "application/vnd.jupyter.widget-view+json": {
       "model_id": "cdcc51d4bc7f44c8b627b106064d5efc",
       "version_major": 2,
       "version_minor": 0
      },
      "text/plain": [
       "preparing dataset val 0 for autoencoder:   0%|          | 0/749 [00:00<?, ?it/s]"
      ]
     },
     "metadata": {},
     "output_type": "display_data"
    },
    {
     "data": {
      "application/vnd.jupyter.widget-view+json": {
       "model_id": "cf3eccb455de4990a2c87aa5a9682df0",
       "version_major": 2,
       "version_minor": 0
      },
      "text/plain": [
       "preparing dataset test 0 for autoencoder:   0%|          | 0/749 [00:00<?, ?it/s]"
      ]
     },
     "metadata": {},
     "output_type": "display_data"
    },
    {
     "data": {
      "application/vnd.jupyter.widget-view+json": {
       "model_id": "01e39d7b713b41a691fa912e9503bb56",
       "version_major": 2,
       "version_minor": 0
      },
      "text/plain": [
       "reading edges: 0it [00:00, ?it/s]"
      ]
     },
     "metadata": {},
     "output_type": "display_data"
    },
    {
     "name": "stdout",
     "output_type": "stream",
     "text": [
      "Statistic of set:  Full original dataset\n",
      "             Dataset size : 4999\n",
      "                   Labels : True\n",
      "           Min node count : 22\n",
      "       Average node count : 508.52\n",
      "           Max node count : 3648\n",
      "           Min edge count : 21.0\n",
      "       Average edge count : 594.87\n",
      "           Max edge count : 4783.0\n",
      "     Min filling fraction : 0.0\n",
      " Average filling fraction : 0.01\n",
      "     Max filling fraction : 0.09\n",
      "          Label \"1\" count : 1000\n",
      "          Label \"2\" count : 1000\n",
      "          Label \"3\" count : 1000\n",
      "          Label \"4\" count : 1000\n",
      "          Label \"5\" count : 999\n",
      "----------------------------------------------------------------\n",
      "Dataset pickled successfully\n",
      "File path: /usr/local/datasets/REDDIT-MULTI-5K/2.pkl\n",
      "File size: 17.26 GB\n",
      "Statistic of set:  Train dataset\n",
      "             Dataset size : 3501\n",
      "                   Labels : True\n",
      "           Min node count : 26\n",
      "       Average node count : 514.44\n",
      "           Max node count : 3648\n",
      "           Min edge count : 26.0\n",
      "       Average edge count : 601.59\n",
      "           Max edge count : 4783.0\n",
      "     Min filling fraction : 0.0\n",
      " Average filling fraction : 0.01\n",
      "     Max filling fraction : 0.08\n",
      "          Label \"1\" count : 692\n",
      "          Label \"2\" count : 727\n",
      "          Label \"3\" count : 694\n",
      "          Label \"4\" count : 699\n",
      "          Label \"5\" count : 689\n",
      "----------------------------------------------------------------\n",
      "Statistic of set:  Validation dataset 0\n",
      "             Dataset size : 749\n",
      "                   Labels : True\n",
      "           Min node count : 22\n",
      "       Average node count : 508.66\n",
      "           Max node count : 3107\n",
      "           Min edge count : 21.0\n",
      "       Average edge count : 594.38\n",
      "           Max edge count : 4114.0\n",
      "     Min filling fraction : 0.0\n",
      " Average filling fraction : 0.01\n",
      "     Max filling fraction : 0.09\n",
      "          Label \"1\" count : 148\n",
      "          Label \"2\" count : 155\n",
      "          Label \"3\" count : 145\n",
      "          Label \"4\" count : 146\n",
      "          Label \"5\" count : 155\n",
      "----------------------------------------------------------------\n",
      "Statistic of set:  Test dataset 0\n",
      "             Dataset size : 749\n",
      "                   Labels : True\n",
      "           Min node count : 35\n",
      "       Average node count : 480.69\n",
      "           Max node count : 3159\n",
      "           Min edge count : 34.0\n",
      "       Average edge count : 563.96\n",
      "           Max edge count : 4103.0\n",
      "     Min filling fraction : 0.0\n",
      " Average filling fraction : 0.01\n",
      "     Max filling fraction : 0.06\n",
      "          Label \"1\" count : 160\n",
      "          Label \"2\" count : 118\n",
      "          Label \"3\" count : 161\n",
      "          Label \"4\" count : 155\n",
      "          Label \"5\" count : 155\n",
      "----------------------------------------------------------------\n"
     ]
    },
    {
     "data": {
      "application/vnd.jupyter.widget-view+json": {
       "model_id": "542ec508984a4b7dbf16a1ea613d4aca",
       "version_major": 2,
       "version_minor": 0
      },
      "text/plain": [
       "preparing dataset train for autoencoder:   0%|          | 0/3501 [00:00<?, ?it/s]"
      ]
     },
     "metadata": {},
     "output_type": "display_data"
    },
    {
     "data": {
      "application/vnd.jupyter.widget-view+json": {
       "model_id": "8ecd9150868b4e01ab718f0605a0f0d7",
       "version_major": 2,
       "version_minor": 0
      },
      "text/plain": [
       "preparing dataset val 0 for autoencoder:   0%|          | 0/749 [00:00<?, ?it/s]"
      ]
     },
     "metadata": {},
     "output_type": "display_data"
    },
    {
     "data": {
      "application/vnd.jupyter.widget-view+json": {
       "model_id": "6c85e116957d4c1f992198ff180d482b",
       "version_major": 2,
       "version_minor": 0
      },
      "text/plain": [
       "preparing dataset test 0 for autoencoder:   0%|          | 0/749 [00:00<?, ?it/s]"
      ]
     },
     "metadata": {},
     "output_type": "display_data"
    },
    {
     "data": {
      "application/vnd.jupyter.widget-view+json": {
       "model_id": "70f161ac638848ca83426f018f6d24d3",
       "version_major": 2,
       "version_minor": 0
      },
      "text/plain": [
       "reading edges: 0it [00:00, ?it/s]"
      ]
     },
     "metadata": {},
     "output_type": "display_data"
    },
    {
     "name": "stdout",
     "output_type": "stream",
     "text": [
      "Statistic of set:  Full original dataset\n",
      "             Dataset size : 4999\n",
      "                   Labels : True\n",
      "           Min node count : 22\n",
      "       Average node count : 508.52\n",
      "           Max node count : 3648\n",
      "           Min edge count : 21.0\n",
      "       Average edge count : 594.87\n",
      "           Max edge count : 4783.0\n",
      "     Min filling fraction : 0.0\n",
      " Average filling fraction : 0.01\n",
      "     Max filling fraction : 0.09\n",
      "          Label \"1\" count : 1000\n",
      "          Label \"2\" count : 1000\n",
      "          Label \"3\" count : 1000\n",
      "          Label \"4\" count : 1000\n",
      "          Label \"5\" count : 999\n",
      "----------------------------------------------------------------\n",
      "Dataset pickled successfully\n",
      "File path: /usr/local/datasets/REDDIT-MULTI-5K/3.pkl\n",
      "File size: 17.26 GB\n",
      "Statistic of set:  Train dataset\n",
      "             Dataset size : 3501\n",
      "                   Labels : True\n",
      "           Min node count : 26\n",
      "       Average node count : 511.94\n",
      "           Max node count : 3648\n",
      "           Min edge count : 26.0\n",
      "       Average edge count : 599.01\n",
      "           Max edge count : 4365.0\n",
      "     Min filling fraction : 0.0\n",
      " Average filling fraction : 0.01\n",
      "     Max filling fraction : 0.08\n",
      "          Label \"1\" count : 715\n",
      "          Label \"2\" count : 688\n",
      "          Label \"3\" count : 683\n",
      "          Label \"4\" count : 710\n",
      "          Label \"5\" count : 705\n",
      "----------------------------------------------------------------\n",
      "Statistic of set:  Validation dataset 0\n",
      "             Dataset size : 749\n",
      "                   Labels : True\n",
      "           Min node count : 38\n",
      "       Average node count : 502.84\n",
      "           Max node count : 3056\n",
      "           Min edge count : 37.0\n",
      "       Average edge count : 583.87\n",
      "           Max edge count : 4110.0\n",
      "     Min filling fraction : 0.0\n",
      " Average filling fraction : 0.01\n",
      "     Max filling fraction : 0.05\n",
      "          Label \"1\" count : 136\n",
      "          Label \"2\" count : 161\n",
      "          Label \"3\" count : 153\n",
      "          Label \"4\" count : 152\n",
      "          Label \"5\" count : 147\n",
      "----------------------------------------------------------------\n",
      "Statistic of set:  Test dataset 0\n",
      "             Dataset size : 749\n",
      "                   Labels : True\n",
      "           Min node count : 22\n",
      "       Average node count : 498.17\n",
      "           Max node count : 3107\n",
      "           Min edge count : 21.0\n",
      "       Average edge count : 586.54\n",
      "           Max edge count : 4783.0\n",
      "     Min filling fraction : 0.0\n",
      " Average filling fraction : 0.01\n",
      "     Max filling fraction : 0.09\n",
      "          Label \"1\" count : 149\n",
      "          Label \"2\" count : 151\n",
      "          Label \"3\" count : 164\n",
      "          Label \"4\" count : 138\n",
      "          Label \"5\" count : 147\n",
      "----------------------------------------------------------------\n"
     ]
    },
    {
     "data": {
      "application/vnd.jupyter.widget-view+json": {
       "model_id": "b9fb4f3f6dc24f2c8af30d0aa5a04be5",
       "version_major": 2,
       "version_minor": 0
      },
      "text/plain": [
       "preparing dataset train for autoencoder:   0%|          | 0/3501 [00:00<?, ?it/s]"
      ]
     },
     "metadata": {},
     "output_type": "display_data"
    },
    {
     "data": {
      "application/vnd.jupyter.widget-view+json": {
       "model_id": "3cae1357200d48048096e45b1d948a4d",
       "version_major": 2,
       "version_minor": 0
      },
      "text/plain": [
       "preparing dataset val 0 for autoencoder:   0%|          | 0/749 [00:00<?, ?it/s]"
      ]
     },
     "metadata": {},
     "output_type": "display_data"
    },
    {
     "data": {
      "application/vnd.jupyter.widget-view+json": {
       "model_id": "807e334b289344399b752260b751adc5",
       "version_major": 2,
       "version_minor": 0
      },
      "text/plain": [
       "preparing dataset test 0 for autoencoder:   0%|          | 0/749 [00:00<?, ?it/s]"
      ]
     },
     "metadata": {},
     "output_type": "display_data"
    },
    {
     "data": {
      "application/vnd.jupyter.widget-view+json": {
       "model_id": "d088986ca26d422f98aa6875db50d962",
       "version_major": 2,
       "version_minor": 0
      },
      "text/plain": [
       "reading edges: 0it [00:00, ?it/s]"
      ]
     },
     "metadata": {},
     "output_type": "display_data"
    },
    {
     "name": "stdout",
     "output_type": "stream",
     "text": [
      "Statistic of set:  Full original dataset\n",
      "             Dataset size : 4999\n",
      "                   Labels : True\n",
      "           Min node count : 22\n",
      "       Average node count : 508.52\n",
      "           Max node count : 3648\n",
      "           Min edge count : 21.0\n",
      "       Average edge count : 594.87\n",
      "           Max edge count : 4783.0\n",
      "     Min filling fraction : 0.0\n",
      " Average filling fraction : 0.01\n",
      "     Max filling fraction : 0.09\n",
      "          Label \"1\" count : 1000\n",
      "          Label \"2\" count : 1000\n",
      "          Label \"3\" count : 1000\n",
      "          Label \"4\" count : 1000\n",
      "          Label \"5\" count : 999\n",
      "----------------------------------------------------------------\n",
      "Dataset pickled successfully\n",
      "File path: /usr/local/datasets/REDDIT-MULTI-5K/4.pkl\n",
      "File size: 17.26 GB\n",
      "Statistic of set:  Train dataset\n",
      "             Dataset size : 3501\n",
      "                   Labels : True\n",
      "           Min node count : 22\n",
      "       Average node count : 512.78\n",
      "           Max node count : 3311\n",
      "           Min edge count : 21.0\n",
      "       Average edge count : 599.62\n",
      "           Max edge count : 4365.0\n",
      "     Min filling fraction : 0.0\n",
      " Average filling fraction : 0.01\n",
      "     Max filling fraction : 0.09\n",
      "          Label \"1\" count : 685\n",
      "          Label \"2\" count : 702\n",
      "          Label \"3\" count : 682\n",
      "          Label \"4\" count : 691\n",
      "          Label \"5\" count : 741\n",
      "----------------------------------------------------------------\n",
      "Statistic of set:  Validation dataset 0\n",
      "             Dataset size : 749\n",
      "                   Labels : True\n",
      "           Min node count : 26\n",
      "       Average node count : 498.96\n",
      "           Max node count : 3648\n",
      "           Min edge count : 26.0\n",
      "       Average edge count : 584.74\n",
      "           Max edge count : 4783.0\n",
      "     Min filling fraction : 0.0\n",
      " Average filling fraction : 0.01\n",
      "     Max filling fraction : 0.08\n",
      "          Label \"1\" count : 157\n",
      "          Label \"2\" count : 146\n",
      "          Label \"3\" count : 169\n",
      "          Label \"4\" count : 148\n",
      "          Label \"5\" count : 129\n",
      "----------------------------------------------------------------\n",
      "Statistic of set:  Test dataset 0\n",
      "             Dataset size : 749\n",
      "                   Labels : True\n",
      "           Min node count : 38\n",
      "       Average node count : 498.16\n",
      "           Max node count : 2438\n",
      "           Min edge count : 37.0\n",
      "       Average edge count : 582.85\n",
      "           Max edge count : 2970.0\n",
      "     Min filling fraction : 0.0\n",
      " Average filling fraction : 0.01\n",
      "     Max filling fraction : 0.05\n",
      "          Label \"1\" count : 158\n",
      "          Label \"2\" count : 152\n",
      "          Label \"3\" count : 149\n",
      "          Label \"4\" count : 161\n",
      "          Label \"5\" count : 129\n",
      "----------------------------------------------------------------\n"
     ]
    },
    {
     "data": {
      "application/vnd.jupyter.widget-view+json": {
       "model_id": "510d9e341129489d845fb8e5d4ad4a92",
       "version_major": 2,
       "version_minor": 0
      },
      "text/plain": [
       "preparing dataset train for autoencoder:   0%|          | 0/3501 [00:00<?, ?it/s]"
      ]
     },
     "metadata": {},
     "output_type": "display_data"
    },
    {
     "data": {
      "application/vnd.jupyter.widget-view+json": {
       "model_id": "4c6bfc4ccbc74ac9946211be0503039d",
       "version_major": 2,
       "version_minor": 0
      },
      "text/plain": [
       "preparing dataset val 0 for autoencoder:   0%|          | 0/749 [00:00<?, ?it/s]"
      ]
     },
     "metadata": {},
     "output_type": "display_data"
    },
    {
     "data": {
      "application/vnd.jupyter.widget-view+json": {
       "model_id": "4c7e2dcdc8674e49b25580e72f8124eb",
       "version_major": 2,
       "version_minor": 0
      },
      "text/plain": [
       "preparing dataset test 0 for autoencoder:   0%|          | 0/749 [00:00<?, ?it/s]"
      ]
     },
     "metadata": {},
     "output_type": "display_data"
    }
   ],
   "source": [
    "save_datasets('REDDIT-MULTI-5K')"
   ]
  },
  {
   "cell_type": "code",
   "execution_count": 18,
   "id": "216a3de5",
   "metadata": {
    "scrolled": true
   },
   "outputs": [
    {
     "data": {
      "application/vnd.jupyter.widget-view+json": {
       "model_id": "f9b93beb17654eaa890578ff5426f7b1",
       "version_major": 2,
       "version_minor": 0
      },
      "text/plain": [
       "REDDIT-MULTI-12K:   0%|          | 0/5 [00:00<?, ?it/s]"
      ]
     },
     "metadata": {},
     "output_type": "display_data"
    },
    {
     "data": {
      "application/vnd.jupyter.widget-view+json": {
       "model_id": "a89f61fe2a3c48c1b672d4036a3e0760",
       "version_major": 2,
       "version_minor": 0
      },
      "text/plain": [
       "reading edges: 0it [00:00, ?it/s]"
      ]
     },
     "metadata": {},
     "output_type": "display_data"
    },
    {
     "name": "stdout",
     "output_type": "stream",
     "text": [
      "Statistic of set:  Full original dataset\n",
      "             Dataset size : 11929\n",
      "                   Labels : True\n",
      "           Min node count : 2\n",
      "       Average node count : 391.41\n",
      "           Max node count : 3782\n",
      "           Min edge count : 1.0\n",
      "       Average edge count : 456.89\n",
      "           Max edge count : 5171.0\n",
      "     Min filling fraction : 0.0\n",
      " Average filling fraction : 0.02\n",
      "     Max filling fraction : 1.0\n",
      "          Label \"1\" count : 767\n",
      "          Label \"2\" count : 1094\n",
      "          Label \"3\" count : 902\n",
      "          Label \"4\" count : 1205\n",
      "          Label \"5\" count : 513\n",
      "          Label \"6\" count : 999\n",
      "          Label \"7\" count : 1243\n",
      "          Label \"8\" count : 1092\n",
      "          Label \"9\" count : 522\n",
      "         Label \"10\" count : 2592\n",
      "         Label \"11\" count : 1000\n",
      "----------------------------------------------------------------\n",
      "Dataset pickled successfully\n",
      "File path: /usr/local/datasets/REDDIT-MULTI-12K/0.pkl\n",
      "File size: 29.95 GB\n",
      "Statistic of set:  Train dataset\n",
      "             Dataset size : 8351\n",
      "                   Labels : True\n",
      "           Min node count : 2\n",
      "       Average node count : 391.99\n",
      "           Max node count : 3648\n",
      "           Min edge count : 1.0\n",
      "       Average edge count : 457.35\n",
      "           Max edge count : 4365.0\n",
      "     Min filling fraction : 0.0\n",
      " Average filling fraction : 0.02\n",
      "     Max filling fraction : 1.0\n",
      "          Label \"1\" count : 524\n",
      "          Label \"2\" count : 760\n",
      "          Label \"3\" count : 630\n",
      "          Label \"4\" count : 837\n",
      "          Label \"5\" count : 355\n",
      "          Label \"6\" count : 694\n",
      "          Label \"7\" count : 894\n",
      "          Label \"8\" count : 771\n",
      "          Label \"9\" count : 356\n",
      "         Label \"10\" count : 1823\n",
      "         Label \"11\" count : 707\n",
      "----------------------------------------------------------------\n",
      "Statistic of set:  Validation dataset 0\n",
      "             Dataset size : 1789\n",
      "                   Labels : True\n",
      "           Min node count : 3\n",
      "       Average node count : 399.35\n",
      "           Max node count : 3782\n",
      "           Min edge count : 2.0\n",
      "       Average edge count : 466.02\n",
      "           Max edge count : 4783.0\n",
      "     Min filling fraction : 0.0\n",
      " Average filling fraction : 0.02\n",
      "     Max filling fraction : 0.67\n",
      "          Label \"1\" count : 133\n",
      "          Label \"2\" count : 151\n",
      "          Label \"3\" count : 147\n",
      "          Label \"4\" count : 180\n",
      "          Label \"5\" count : 83\n",
      "          Label \"6\" count : 151\n",
      "          Label \"7\" count : 180\n",
      "          Label \"8\" count : 172\n",
      "          Label \"9\" count : 75\n",
      "         Label \"10\" count : 375\n",
      "         Label \"11\" count : 142\n",
      "----------------------------------------------------------------\n",
      "Statistic of set:  Test dataset 0\n",
      "             Dataset size : 1789\n",
      "                   Labels : True\n",
      "           Min node count : 7\n",
      "       Average node count : 380.78\n",
      "           Max node count : 3648\n",
      "           Min edge count : 6.0\n",
      "       Average edge count : 445.6\n",
      "           Max edge count : 5171.0\n",
      "     Min filling fraction : 0.0\n",
      " Average filling fraction : 0.02\n",
      "     Max filling fraction : 0.29\n",
      "          Label \"1\" count : 110\n",
      "          Label \"2\" count : 183\n",
      "          Label \"3\" count : 125\n",
      "          Label \"4\" count : 188\n",
      "          Label \"5\" count : 75\n",
      "          Label \"6\" count : 154\n",
      "          Label \"7\" count : 169\n",
      "          Label \"8\" count : 149\n",
      "          Label \"9\" count : 91\n",
      "         Label \"10\" count : 394\n",
      "         Label \"11\" count : 151\n",
      "----------------------------------------------------------------\n"
     ]
    },
    {
     "data": {
      "application/vnd.jupyter.widget-view+json": {
       "model_id": "11a27db4ef4c486da7d34745591a956d",
       "version_major": 2,
       "version_minor": 0
      },
      "text/plain": [
       "preparing dataset train for autoencoder:   0%|          | 0/8351 [00:00<?, ?it/s]"
      ]
     },
     "metadata": {},
     "output_type": "display_data"
    },
    {
     "data": {
      "application/vnd.jupyter.widget-view+json": {
       "model_id": "867f98c2175e4a19b1012dd441e86c8d",
       "version_major": 2,
       "version_minor": 0
      },
      "text/plain": [
       "preparing dataset val 0 for autoencoder:   0%|          | 0/1789 [00:00<?, ?it/s]"
      ]
     },
     "metadata": {},
     "output_type": "display_data"
    },
    {
     "data": {
      "application/vnd.jupyter.widget-view+json": {
       "model_id": "509e530f2f474c29a76227e03a4e57a7",
       "version_major": 2,
       "version_minor": 0
      },
      "text/plain": [
       "preparing dataset test 0 for autoencoder:   0%|          | 0/1789 [00:00<?, ?it/s]"
      ]
     },
     "metadata": {},
     "output_type": "display_data"
    },
    {
     "data": {
      "application/vnd.jupyter.widget-view+json": {
       "model_id": "17c9132cbede489aaa015f85939e3bd1",
       "version_major": 2,
       "version_minor": 0
      },
      "text/plain": [
       "reading edges: 0it [00:00, ?it/s]"
      ]
     },
     "metadata": {},
     "output_type": "display_data"
    },
    {
     "name": "stdout",
     "output_type": "stream",
     "text": [
      "Statistic of set:  Full original dataset\n",
      "             Dataset size : 11929\n",
      "                   Labels : True\n",
      "           Min node count : 2\n",
      "       Average node count : 391.41\n",
      "           Max node count : 3782\n",
      "           Min edge count : 1.0\n",
      "       Average edge count : 456.89\n",
      "           Max edge count : 5171.0\n",
      "     Min filling fraction : 0.0\n",
      " Average filling fraction : 0.02\n",
      "     Max filling fraction : 1.0\n",
      "          Label \"1\" count : 767\n",
      "          Label \"2\" count : 1094\n",
      "          Label \"3\" count : 902\n",
      "          Label \"4\" count : 1205\n",
      "          Label \"5\" count : 513\n",
      "          Label \"6\" count : 999\n",
      "          Label \"7\" count : 1243\n",
      "          Label \"8\" count : 1092\n",
      "          Label \"9\" count : 522\n",
      "         Label \"10\" count : 2592\n",
      "         Label \"11\" count : 1000\n",
      "----------------------------------------------------------------\n",
      "Dataset pickled successfully\n",
      "File path: /usr/local/datasets/REDDIT-MULTI-12K/1.pkl\n",
      "File size: 29.95 GB\n",
      "Statistic of set:  Train dataset\n",
      "             Dataset size : 8351\n",
      "                   Labels : True\n",
      "           Min node count : 2\n",
      "       Average node count : 393.55\n",
      "           Max node count : 3648\n",
      "           Min edge count : 1.0\n",
      "       Average edge count : 459.11\n",
      "           Max edge count : 5171.0\n",
      "     Min filling fraction : 0.0\n",
      " Average filling fraction : 0.02\n",
      "     Max filling fraction : 1.0\n",
      "          Label \"1\" count : 548\n",
      "          Label \"2\" count : 755\n",
      "          Label \"3\" count : 655\n",
      "          Label \"4\" count : 835\n",
      "          Label \"5\" count : 340\n",
      "          Label \"6\" count : 719\n",
      "          Label \"7\" count : 871\n",
      "          Label \"8\" count : 779\n",
      "          Label \"9\" count : 367\n",
      "         Label \"10\" count : 1781\n",
      "         Label \"11\" count : 701\n",
      "----------------------------------------------------------------\n",
      "Statistic of set:  Validation dataset 0\n",
      "             Dataset size : 1789\n",
      "                   Labels : True\n",
      "           Min node count : 4\n",
      "       Average node count : 390.07\n",
      "           Max node count : 3399\n",
      "           Min edge count : 3.0\n",
      "       Average edge count : 456.44\n",
      "           Max edge count : 4026.0\n",
      "     Min filling fraction : 0.0\n",
      " Average filling fraction : 0.02\n",
      "     Max filling fraction : 0.5\n",
      "          Label \"1\" count : 103\n",
      "          Label \"2\" count : 171\n",
      "          Label \"3\" count : 121\n",
      "          Label \"4\" count : 193\n",
      "          Label \"5\" count : 83\n",
      "          Label \"6\" count : 141\n",
      "          Label \"7\" count : 186\n",
      "          Label \"8\" count : 160\n",
      "          Label \"9\" count : 85\n",
      "         Label \"10\" count : 394\n",
      "         Label \"11\" count : 152\n",
      "----------------------------------------------------------------\n",
      "Statistic of set:  Test dataset 0\n",
      "             Dataset size : 1789\n",
      "                   Labels : True\n",
      "           Min node count : 6\n",
      "       Average node count : 382.74\n",
      "           Max node count : 3782\n",
      "           Min edge count : 5.0\n",
      "       Average edge count : 446.97\n",
      "           Max edge count : 4365.0\n",
      "     Min filling fraction : 0.0\n",
      " Average filling fraction : 0.02\n",
      "     Max filling fraction : 0.33\n",
      "          Label \"1\" count : 116\n",
      "          Label \"2\" count : 168\n",
      "          Label \"3\" count : 126\n",
      "          Label \"4\" count : 177\n",
      "          Label \"5\" count : 90\n",
      "          Label \"6\" count : 139\n",
      "          Label \"7\" count : 186\n",
      "          Label \"8\" count : 153\n",
      "          Label \"9\" count : 70\n",
      "         Label \"10\" count : 417\n",
      "         Label \"11\" count : 147\n",
      "----------------------------------------------------------------\n"
     ]
    },
    {
     "data": {
      "application/vnd.jupyter.widget-view+json": {
       "model_id": "ea1ed283d30a4809b9714150180d9819",
       "version_major": 2,
       "version_minor": 0
      },
      "text/plain": [
       "preparing dataset train for autoencoder:   0%|          | 0/8351 [00:00<?, ?it/s]"
      ]
     },
     "metadata": {},
     "output_type": "display_data"
    },
    {
     "data": {
      "application/vnd.jupyter.widget-view+json": {
       "model_id": "a0f2beb6f76f48958c5861e031009363",
       "version_major": 2,
       "version_minor": 0
      },
      "text/plain": [
       "preparing dataset val 0 for autoencoder:   0%|          | 0/1789 [00:00<?, ?it/s]"
      ]
     },
     "metadata": {},
     "output_type": "display_data"
    },
    {
     "data": {
      "application/vnd.jupyter.widget-view+json": {
       "model_id": "c7bbc193c27e4a15a3d21731450ee277",
       "version_major": 2,
       "version_minor": 0
      },
      "text/plain": [
       "preparing dataset test 0 for autoencoder:   0%|          | 0/1789 [00:00<?, ?it/s]"
      ]
     },
     "metadata": {},
     "output_type": "display_data"
    },
    {
     "data": {
      "application/vnd.jupyter.widget-view+json": {
       "model_id": "8d9ac9e7c6a840418052f80e8009246c",
       "version_major": 2,
       "version_minor": 0
      },
      "text/plain": [
       "reading edges: 0it [00:00, ?it/s]"
      ]
     },
     "metadata": {},
     "output_type": "display_data"
    },
    {
     "name": "stdout",
     "output_type": "stream",
     "text": [
      "Statistic of set:  Full original dataset\n",
      "             Dataset size : 11929\n",
      "                   Labels : True\n",
      "           Min node count : 2\n",
      "       Average node count : 391.41\n",
      "           Max node count : 3782\n",
      "           Min edge count : 1.0\n",
      "       Average edge count : 456.89\n",
      "           Max edge count : 5171.0\n",
      "     Min filling fraction : 0.0\n",
      " Average filling fraction : 0.02\n",
      "     Max filling fraction : 1.0\n",
      "          Label \"1\" count : 767\n",
      "          Label \"2\" count : 1094\n",
      "          Label \"3\" count : 902\n",
      "          Label \"4\" count : 1205\n",
      "          Label \"5\" count : 513\n",
      "          Label \"6\" count : 999\n",
      "          Label \"7\" count : 1243\n",
      "          Label \"8\" count : 1092\n",
      "          Label \"9\" count : 522\n",
      "         Label \"10\" count : 2592\n",
      "         Label \"11\" count : 1000\n",
      "----------------------------------------------------------------\n",
      "Dataset pickled successfully\n",
      "File path: /usr/local/datasets/REDDIT-MULTI-12K/2.pkl\n",
      "File size: 29.95 GB\n",
      "Statistic of set:  Train dataset\n",
      "             Dataset size : 8351\n",
      "                   Labels : True\n",
      "           Min node count : 2\n",
      "       Average node count : 396.37\n",
      "           Max node count : 3782\n",
      "           Min edge count : 1.0\n",
      "       Average edge count : 463.79\n",
      "           Max edge count : 5171.0\n",
      "     Min filling fraction : 0.0\n",
      " Average filling fraction : 0.02\n",
      "     Max filling fraction : 1.0\n",
      "          Label \"1\" count : 541\n",
      "          Label \"2\" count : 760\n",
      "          Label \"3\" count : 632\n",
      "          Label \"4\" count : 848\n",
      "          Label \"5\" count : 346\n",
      "          Label \"6\" count : 713\n",
      "          Label \"7\" count : 866\n",
      "          Label \"8\" count : 739\n",
      "          Label \"9\" count : 374\n",
      "         Label \"10\" count : 1831\n",
      "         Label \"11\" count : 701\n",
      "----------------------------------------------------------------\n",
      "Statistic of set:  Validation dataset 0\n",
      "             Dataset size : 1789\n",
      "                   Labels : True\n",
      "           Min node count : 6\n",
      "       Average node count : 389.15\n",
      "           Max node count : 3428\n",
      "           Min edge count : 4.0\n",
      "       Average edge count : 450.45\n",
      "           Max edge count : 4365.0\n",
      "     Min filling fraction : 0.0\n",
      " Average filling fraction : 0.02\n",
      "     Max filling fraction : 0.33\n",
      "          Label \"1\" count : 116\n",
      "          Label \"2\" count : 164\n",
      "          Label \"3\" count : 130\n",
      "          Label \"4\" count : 180\n",
      "          Label \"5\" count : 81\n",
      "          Label \"6\" count : 139\n",
      "          Label \"7\" count : 210\n",
      "          Label \"8\" count : 175\n",
      "          Label \"9\" count : 73\n",
      "         Label \"10\" count : 373\n",
      "         Label \"11\" count : 148\n",
      "----------------------------------------------------------------\n",
      "Statistic of set:  Test dataset 0\n",
      "             Dataset size : 1789\n",
      "                   Labels : True\n",
      "           Min node count : 7\n",
      "       Average node count : 370.53\n",
      "           Max node count : 3376\n",
      "           Min edge count : 6.0\n",
      "       Average edge count : 431.12\n",
      "           Max edge count : 4110.0\n",
      "     Min filling fraction : 0.0\n",
      " Average filling fraction : 0.02\n",
      "     Max filling fraction : 0.29\n",
      "          Label \"1\" count : 110\n",
      "          Label \"2\" count : 170\n",
      "          Label \"3\" count : 140\n",
      "          Label \"4\" count : 177\n",
      "          Label \"5\" count : 86\n",
      "          Label \"6\" count : 147\n",
      "          Label \"7\" count : 167\n",
      "          Label \"8\" count : 178\n",
      "          Label \"9\" count : 75\n",
      "         Label \"10\" count : 388\n",
      "         Label \"11\" count : 151\n",
      "----------------------------------------------------------------\n"
     ]
    },
    {
     "data": {
      "application/vnd.jupyter.widget-view+json": {
       "model_id": "9ef0c4e70407427cb3c784dbd6a4f384",
       "version_major": 2,
       "version_minor": 0
      },
      "text/plain": [
       "preparing dataset train for autoencoder:   0%|          | 0/8351 [00:00<?, ?it/s]"
      ]
     },
     "metadata": {},
     "output_type": "display_data"
    },
    {
     "data": {
      "application/vnd.jupyter.widget-view+json": {
       "model_id": "3b92fd15d6594868bef6b2afd38f64a7",
       "version_major": 2,
       "version_minor": 0
      },
      "text/plain": [
       "preparing dataset val 0 for autoencoder:   0%|          | 0/1789 [00:00<?, ?it/s]"
      ]
     },
     "metadata": {},
     "output_type": "display_data"
    },
    {
     "data": {
      "application/vnd.jupyter.widget-view+json": {
       "model_id": "dd6aacc831604c0c81d1f2de19414786",
       "version_major": 2,
       "version_minor": 0
      },
      "text/plain": [
       "preparing dataset test 0 for autoencoder:   0%|          | 0/1789 [00:00<?, ?it/s]"
      ]
     },
     "metadata": {},
     "output_type": "display_data"
    },
    {
     "data": {
      "application/vnd.jupyter.widget-view+json": {
       "model_id": "d8d34e5a5928496b8761f9bd3aec2ddc",
       "version_major": 2,
       "version_minor": 0
      },
      "text/plain": [
       "reading edges: 0it [00:00, ?it/s]"
      ]
     },
     "metadata": {},
     "output_type": "display_data"
    },
    {
     "name": "stdout",
     "output_type": "stream",
     "text": [
      "Statistic of set:  Full original dataset\n",
      "             Dataset size : 11929\n",
      "                   Labels : True\n",
      "           Min node count : 2\n",
      "       Average node count : 391.41\n",
      "           Max node count : 3782\n",
      "           Min edge count : 1.0\n",
      "       Average edge count : 456.89\n",
      "           Max edge count : 5171.0\n",
      "     Min filling fraction : 0.0\n",
      " Average filling fraction : 0.02\n",
      "     Max filling fraction : 1.0\n",
      "          Label \"1\" count : 767\n",
      "          Label \"2\" count : 1094\n",
      "          Label \"3\" count : 902\n",
      "          Label \"4\" count : 1205\n",
      "          Label \"5\" count : 513\n",
      "          Label \"6\" count : 999\n",
      "          Label \"7\" count : 1243\n",
      "          Label \"8\" count : 1092\n",
      "          Label \"9\" count : 522\n",
      "         Label \"10\" count : 2592\n",
      "         Label \"11\" count : 1000\n",
      "----------------------------------------------------------------\n",
      "Dataset pickled successfully\n",
      "File path: /usr/local/datasets/REDDIT-MULTI-12K/3.pkl\n",
      "File size: 29.95 GB\n",
      "Statistic of set:  Train dataset\n",
      "             Dataset size : 8351\n",
      "                   Labels : True\n",
      "           Min node count : 2\n",
      "       Average node count : 390.85\n",
      "           Max node count : 3648\n",
      "           Min edge count : 1.0\n",
      "       Average edge count : 456.04\n",
      "           Max edge count : 5171.0\n",
      "     Min filling fraction : 0.0\n",
      " Average filling fraction : 0.02\n",
      "     Max filling fraction : 1.0\n",
      "          Label \"1\" count : 532\n",
      "          Label \"2\" count : 739\n",
      "          Label \"3\" count : 645\n",
      "          Label \"4\" count : 847\n",
      "          Label \"5\" count : 358\n",
      "          Label \"6\" count : 704\n",
      "          Label \"7\" count : 872\n",
      "          Label \"8\" count : 763\n",
      "          Label \"9\" count : 370\n",
      "         Label \"10\" count : 1803\n",
      "         Label \"11\" count : 718\n",
      "----------------------------------------------------------------\n",
      "Statistic of set:  Validation dataset 0\n",
      "             Dataset size : 1789\n",
      "                   Labels : True\n",
      "           Min node count : 4\n",
      "       Average node count : 398.03\n",
      "           Max node count : 3782\n",
      "           Min edge count : 3.0\n",
      "       Average edge count : 464.58\n",
      "           Max edge count : 4365.0\n",
      "     Min filling fraction : 0.0\n",
      " Average filling fraction : 0.02\n",
      "     Max filling fraction : 0.5\n",
      "          Label \"1\" count : 126\n",
      "          Label \"2\" count : 180\n",
      "          Label \"3\" count : 116\n",
      "          Label \"4\" count : 161\n",
      "          Label \"5\" count : 77\n",
      "          Label \"6\" count : 142\n",
      "          Label \"7\" count : 198\n",
      "          Label \"8\" count : 182\n",
      "          Label \"9\" count : 72\n",
      "         Label \"10\" count : 412\n",
      "         Label \"11\" count : 123\n",
      "----------------------------------------------------------------\n",
      "Statistic of set:  Test dataset 0\n",
      "             Dataset size : 1789\n",
      "                   Labels : True\n",
      "           Min node count : 9\n",
      "       Average node count : 387.38\n",
      "           Max node count : 3648\n",
      "           Min edge count : 8.0\n",
      "       Average edge count : 453.19\n",
      "           Max edge count : 4360.0\n",
      "     Min filling fraction : 0.0\n",
      " Average filling fraction : 0.02\n",
      "     Max filling fraction : 0.24\n",
      "          Label \"1\" count : 109\n",
      "          Label \"2\" count : 175\n",
      "          Label \"3\" count : 141\n",
      "          Label \"4\" count : 197\n",
      "          Label \"5\" count : 78\n",
      "          Label \"6\" count : 153\n",
      "          Label \"7\" count : 173\n",
      "          Label \"8\" count : 147\n",
      "          Label \"9\" count : 80\n",
      "         Label \"10\" count : 377\n",
      "         Label \"11\" count : 159\n",
      "----------------------------------------------------------------\n"
     ]
    },
    {
     "data": {
      "application/vnd.jupyter.widget-view+json": {
       "model_id": "9e2df9c248594ed6b54f53d31db82edd",
       "version_major": 2,
       "version_minor": 0
      },
      "text/plain": [
       "preparing dataset train for autoencoder:   0%|          | 0/8351 [00:00<?, ?it/s]"
      ]
     },
     "metadata": {},
     "output_type": "display_data"
    },
    {
     "data": {
      "application/vnd.jupyter.widget-view+json": {
       "model_id": "3fbd379edb83412dacb620a72984fc17",
       "version_major": 2,
       "version_minor": 0
      },
      "text/plain": [
       "preparing dataset val 0 for autoencoder:   0%|          | 0/1789 [00:00<?, ?it/s]"
      ]
     },
     "metadata": {},
     "output_type": "display_data"
    },
    {
     "data": {
      "application/vnd.jupyter.widget-view+json": {
       "model_id": "b060d11837424bec911c03b7d5ce9e72",
       "version_major": 2,
       "version_minor": 0
      },
      "text/plain": [
       "preparing dataset test 0 for autoencoder:   0%|          | 0/1789 [00:00<?, ?it/s]"
      ]
     },
     "metadata": {},
     "output_type": "display_data"
    },
    {
     "data": {
      "application/vnd.jupyter.widget-view+json": {
       "model_id": "7cc1fd0b404a40e08efd975ed9c16dea",
       "version_major": 2,
       "version_minor": 0
      },
      "text/plain": [
       "reading edges: 0it [00:00, ?it/s]"
      ]
     },
     "metadata": {},
     "output_type": "display_data"
    },
    {
     "name": "stdout",
     "output_type": "stream",
     "text": [
      "Statistic of set:  Full original dataset\n",
      "             Dataset size : 11929\n",
      "                   Labels : True\n",
      "           Min node count : 2\n",
      "       Average node count : 391.41\n",
      "           Max node count : 3782\n",
      "           Min edge count : 1.0\n",
      "       Average edge count : 456.89\n",
      "           Max edge count : 5171.0\n",
      "     Min filling fraction : 0.0\n",
      " Average filling fraction : 0.02\n",
      "     Max filling fraction : 1.0\n",
      "          Label \"1\" count : 767\n",
      "          Label \"2\" count : 1094\n",
      "          Label \"3\" count : 902\n",
      "          Label \"4\" count : 1205\n",
      "          Label \"5\" count : 513\n",
      "          Label \"6\" count : 999\n",
      "          Label \"7\" count : 1243\n",
      "          Label \"8\" count : 1092\n",
      "          Label \"9\" count : 522\n",
      "         Label \"10\" count : 2592\n",
      "         Label \"11\" count : 1000\n",
      "----------------------------------------------------------------\n",
      "Dataset pickled successfully\n",
      "File path: /usr/local/datasets/REDDIT-MULTI-12K/4.pkl\n",
      "File size: 29.95 GB\n",
      "Statistic of set:  Train dataset\n",
      "             Dataset size : 8351\n",
      "                   Labels : True\n",
      "           Min node count : 2\n",
      "       Average node count : 391.8\n",
      "           Max node count : 3782\n",
      "           Min edge count : 1.0\n",
      "       Average edge count : 457.71\n",
      "           Max edge count : 5171.0\n",
      "     Min filling fraction : 0.0\n",
      " Average filling fraction : 0.02\n",
      "     Max filling fraction : 1.0\n",
      "          Label \"1\" count : 538\n",
      "          Label \"2\" count : 751\n",
      "          Label \"3\" count : 645\n",
      "          Label \"4\" count : 836\n",
      "          Label \"5\" count : 354\n",
      "          Label \"6\" count : 693\n",
      "          Label \"7\" count : 874\n",
      "          Label \"8\" count : 771\n",
      "          Label \"9\" count : 363\n",
      "         Label \"10\" count : 1824\n",
      "         Label \"11\" count : 702\n",
      "----------------------------------------------------------------\n",
      "Statistic of set:  Validation dataset 0\n",
      "             Dataset size : 1789\n",
      "                   Labels : True\n",
      "           Min node count : 5\n",
      "       Average node count : 365.6\n",
      "           Max node count : 3361\n",
      "           Min edge count : 4.0\n",
      "       Average edge count : 425.68\n",
      "           Max edge count : 3718.0\n",
      "     Min filling fraction : 0.0\n",
      " Average filling fraction : 0.02\n",
      "     Max filling fraction : 0.4\n",
      "          Label \"1\" count : 110\n",
      "          Label \"2\" count : 162\n",
      "          Label \"3\" count : 119\n",
      "          Label \"4\" count : 192\n",
      "          Label \"5\" count : 80\n",
      "          Label \"6\" count : 161\n",
      "          Label \"7\" count : 195\n",
      "          Label \"8\" count : 160\n",
      "          Label \"9\" count : 73\n",
      "         Label \"10\" count : 381\n",
      "         Label \"11\" count : 156\n",
      "----------------------------------------------------------------\n",
      "Statistic of set:  Test dataset 0\n",
      "             Dataset size : 1789\n",
      "                   Labels : True\n",
      "           Min node count : 6\n",
      "       Average node count : 415.38\n",
      "           Max node count : 3311\n",
      "           Min edge count : 5.0\n",
      "       Average edge count : 484.29\n",
      "           Max edge count : 4365.0\n",
      "     Min filling fraction : 0.0\n",
      " Average filling fraction : 0.02\n",
      "     Max filling fraction : 0.33\n",
      "          Label \"1\" count : 119\n",
      "          Label \"2\" count : 181\n",
      "          Label \"3\" count : 138\n",
      "          Label \"4\" count : 177\n",
      "          Label \"5\" count : 79\n",
      "          Label \"6\" count : 145\n",
      "          Label \"7\" count : 174\n",
      "          Label \"8\" count : 161\n",
      "          Label \"9\" count : 86\n",
      "         Label \"10\" count : 387\n",
      "         Label \"11\" count : 142\n",
      "----------------------------------------------------------------\n"
     ]
    },
    {
     "data": {
      "application/vnd.jupyter.widget-view+json": {
       "model_id": "ccdf8ae287364f24b8f8a2572640f55b",
       "version_major": 2,
       "version_minor": 0
      },
      "text/plain": [
       "preparing dataset train for autoencoder:   0%|          | 0/8351 [00:00<?, ?it/s]"
      ]
     },
     "metadata": {},
     "output_type": "display_data"
    },
    {
     "data": {
      "application/vnd.jupyter.widget-view+json": {
       "model_id": "7f8e991538d244a1a8a0a79c4ac0a0c4",
       "version_major": 2,
       "version_minor": 0
      },
      "text/plain": [
       "preparing dataset val 0 for autoencoder:   0%|          | 0/1789 [00:00<?, ?it/s]"
      ]
     },
     "metadata": {},
     "output_type": "display_data"
    },
    {
     "data": {
      "application/vnd.jupyter.widget-view+json": {
       "model_id": "c45a8fe2c4864c6f86df989c76887d38",
       "version_major": 2,
       "version_minor": 0
      },
      "text/plain": [
       "preparing dataset test 0 for autoencoder:   0%|          | 0/1789 [00:00<?, ?it/s]"
      ]
     },
     "metadata": {},
     "output_type": "display_data"
    }
   ],
   "source": [
    "save_datasets('REDDIT-MULTI-12K')"
   ]
  },
  {
   "cell_type": "code",
   "execution_count": null,
   "id": "075476e1",
   "metadata": {},
   "outputs": [],
   "source": []
  }
 ],
 "metadata": {
  "interpreter": {
   "hash": "c37224fb4409952eb251e31ba483053a30ac3ecaa917b50e887cf90f0c69f7d5"
  },
  "kernelspec": {
   "display_name": "Python 3 (ipykernel)",
   "language": "python",
   "name": "python3"
  },
  "language_info": {
   "codemirror_mode": {
    "name": "ipython",
    "version": 3
   },
   "file_extension": ".py",
   "mimetype": "text/x-python",
   "name": "python",
   "nbconvert_exporter": "python",
   "pygments_lexer": "ipython3",
   "version": "3.9.7"
  }
 },
 "nbformat": 4,
 "nbformat_minor": 5
}
