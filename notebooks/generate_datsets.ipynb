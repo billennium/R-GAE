{
 "cells": [
  {
   "cell_type": "code",
   "execution_count": null,
   "id": "bbb519c3",
   "metadata": {},
   "outputs": [],
   "source": [
    "import torch\n",
    "import random\n",
    "import numpy as np\n",
    "\n",
    "from graph_nn_vae.data.adj_matrix_data_module import AdjMatrixDataModule\n",
    "from graph_nn_vae.data.graph_loaders import RealGraphLoader, SyntheticGraphLoader\n",
    "from graph_nn_vae.experiments.decorators import add_graphloader_args"
   ]
  },
  {
   "cell_type": "code",
   "execution_count": null,
   "id": "77f784b8",
   "metadata": {},
   "outputs": [],
   "source": [
    "torch.manual_seed(0)\n",
    "random.seed(0)\n",
    "np.random.seed(0)"
   ]
  },
  {
   "cell_type": "code",
   "execution_count": null,
   "id": "e1822467",
   "metadata": {},
   "outputs": [],
   "source": [
    "train_val_test_split = [0.7, 0.15, 0.15]\n",
    "train_val_test_permutation_split = [0.9, 0.1, 0.0]\n",
    "num_dataset_graph_permutations = 10"
   ]
  },
  {
   "cell_type": "code",
   "execution_count": null,
   "id": "c86f78cc",
   "metadata": {},
   "outputs": [],
   "source": [
    "N = 5"
   ]
  },
  {
   "cell_type": "code",
   "execution_count": null,
   "id": "a4bf7f51",
   "metadata": {},
   "outputs": [],
   "source": [
    "datasets_path = './data'\n",
    "!mkdir $datasets_path/prepared_sets\n",
    "!mkdir $datasets_path/prepared_sets/GRID-SMALL\n",
    "!mkdir $datasets_path/prepared_sets/IMDB-BINARY\n",
    "!mkdir $datasets_path/prepared_sets/IMDB-MULTI\n",
    "!mkdir $datasets_path/prepared_sets/COLLAB\n",
    "!mkdir $datasets_path/prepared_sets/REDDIT-BINNARY\n",
    "!mkdir $datasets_path/prepared_sets/REDDIT-MULTI-5K\n",
    "!mkdir $datasets_path/prepared_sets/REDDIT-MULTI-12K"
   ]
  },
  {
   "cell_type": "code",
   "execution_count": null,
   "id": "4b72482a",
   "metadata": {},
   "outputs": [],
   "source": [
    "@add_graphloader_args\n",
    "class SyntheticSaver(AdjMatrixDataModule):\n",
    "    graphloader_class = SyntheticGraphLoader"
   ]
  },
  {
   "cell_type": "code",
   "execution_count": null,
   "id": "0d465e8e",
   "metadata": {},
   "outputs": [],
   "source": [
    "for i in range(N):\n",
    "    SyntheticSaver(\n",
    "        graph_type='grid_small',\n",
    "        num_dataset_graph_permutations=num_dataset_graph_permutations, \n",
    "        train_val_test_split=[0.5, 0.25, 0.25], \n",
    "        train_val_test_permutation_split=train_val_test_permutation_split,\n",
    "        use_labels=False,\n",
    "        save_dataset_to_pickle=datasets_path+'/prepared_sets/GRID-SMALL/'+str(i)+'.pkl',\n",
    "        bfs=False,\n",
    "        deduplicate_train = False,\n",
    "        deduplicate_val_test = False,\n",
    "        batch_size=1,\n",
    "        batch_size_val=0,\n",
    "        batch_size_test=0,\n",
    "        workers=0\n",
    "    )"
   ]
  },
  {
   "cell_type": "code",
   "execution_count": null,
   "id": "c111509b",
   "metadata": {},
   "outputs": [],
   "source": [
    "@add_graphloader_args\n",
    "class RealSaver(AdjMatrixDataModule):\n",
    "    graphloader_class = RealGraphLoader"
   ]
  },
  {
   "cell_type": "code",
   "execution_count": null,
   "id": "f2f00cdd",
   "metadata": {},
   "outputs": [],
   "source": [
    "def save_datasets(dataset_name):\n",
    "    for i in range(N):\n",
    "        RealSaver(\n",
    "            datasets_dir=datasets_path,\n",
    "            dataset_name=dataset_name,\n",
    "            use_labels=True,\n",
    "            max_graph_size=None,\n",
    "            num_dataset_graph_permutations=num_dataset_graph_permutations, \n",
    "            train_val_test_split=train_val_test_split, \n",
    "            train_val_test_permutation_split=train_val_test_permutation_split,\n",
    "            save_dataset_to_pickle=datasets_path+'/prepared_sets/'+dataset_name+'/'+str(i)+'.pkl',\n",
    "            bfs=False,\n",
    "            deduplicate_train = False,\n",
    "            deduplicate_val_test = False,\n",
    "            batch_size=1,\n",
    "            batch_size_val=0,\n",
    "            batch_size_test=0,\n",
    "            workers=0\n",
    "        )"
   ]
  },
  {
   "cell_type": "code",
   "execution_count": null,
   "id": "3b2b8974",
   "metadata": {},
   "outputs": [],
   "source": [
    "save_datasets('IMDB-BINARY')"
   ]
  },
  {
   "cell_type": "code",
   "execution_count": null,
   "id": "c50db477",
   "metadata": {},
   "outputs": [],
   "source": [
    "save_datasets('IMDB-MULTI')"
   ]
  },
  {
   "cell_type": "code",
   "execution_count": null,
   "id": "5a7ae33f",
   "metadata": {},
   "outputs": [],
   "source": [
    "save_datasets('REDDIT-BINARY')"
   ]
  },
  {
   "cell_type": "code",
   "execution_count": null,
   "id": "5e3c4077",
   "metadata": {},
   "outputs": [],
   "source": [
    "save_datasets('REDDIT-MULTI-5K')"
   ]
  },
  {
   "cell_type": "code",
   "execution_count": null,
   "id": "216a3de5",
   "metadata": {},
   "outputs": [],
   "source": [
    "save_datasets('REDDIT-MULTI-12K')"
   ]
  },
  {
   "cell_type": "code",
   "execution_count": null,
   "id": "cc1e5f1d",
   "metadata": {},
   "outputs": [],
   "source": [
    "save_datasets('COLLAB')"
   ]
  }
 ],
 "metadata": {
  "interpreter": {
   "hash": "c37224fb4409952eb251e31ba483053a30ac3ecaa917b50e887cf90f0c69f7d5"
  },
  "kernelspec": {
   "display_name": "Python (reccurent graph autoencoder)",
   "language": "python",
   "name": "python3"
  },
  "language_info": {
   "codemirror_mode": {
    "name": "ipython",
    "version": 3
   },
   "file_extension": ".py",
   "mimetype": "text/x-python",
   "name": "python",
   "nbconvert_exporter": "python",
   "pygments_lexer": "ipython3",
   "version": "3.9.0"
  }
 },
 "nbformat": 4,
 "nbformat_minor": 5
}
