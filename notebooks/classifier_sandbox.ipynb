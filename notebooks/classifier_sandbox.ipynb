{
 "cells": [
  {
   "cell_type": "code",
   "execution_count": 1,
   "id": "f420238f",
   "metadata": {},
   "outputs": [
    {
     "name": "stdout",
     "output_type": "stream",
     "text": [
      "/home/adam/phd/recurrent-graph-autoencoder\n"
     ]
    }
   ],
   "source": [
    "cd .."
   ]
  },
  {
   "cell_type": "code",
   "execution_count": 2,
   "id": "eb8b0b3b",
   "metadata": {},
   "outputs": [],
   "source": [
    "import gc\n",
    "import torch\n",
    "import random\n",
    "import numpy as np\n",
    "from tqdm.auto import tqdm\n",
    "\n",
    "from graph_nn_vae.data.diag_repr_graph_data_module import DiagonalRepresentationGraphDataModule\n",
    "from graph_nn_vae.data.graph_loaders import RealGraphLoader, SyntheticGraphLoader\n",
    "from graph_nn_vae.experiments.decorators import add_graphloader_args\n",
    "from graph_nn_vae.models.autoencoder_components import GraphEncoder\n",
    "from graph_nn_vae.models.edge_encoders import MemoryEdgeEncoder"
   ]
  },
  {
   "cell_type": "code",
   "execution_count": 3,
   "id": "c6fd2c12",
   "metadata": {},
   "outputs": [],
   "source": [
    "class RealSaver(DiagonalRepresentationGraphDataModule):\n",
    "    graphloader_class = RealGraphLoader"
   ]
  },
  {
   "cell_type": "code",
   "execution_count": 4,
   "id": "8592e3d3",
   "metadata": {},
   "outputs": [],
   "source": [
    "train_val_test_split = [0.7, 0.15, 0.15]\n",
    "train_val_test_permutation_split = [1, 0, 0.0]\n",
    "num_dataset_graph_permutations = 10"
   ]
  },
  {
   "cell_type": "code",
   "execution_count": 19,
   "id": "2d8484d3",
   "metadata": {},
   "outputs": [
    {
     "data": {
      "application/vnd.jupyter.widget-view+json": {
       "model_id": "0aef997c0b8a47009d6e19ae63eb6a5c",
       "version_major": 2,
       "version_minor": 0
      },
      "text/plain": [
       "reading edges: 0it [00:00, ?it/s]"
      ]
     },
     "metadata": {},
     "output_type": "display_data"
    },
    {
     "name": "stdout",
     "output_type": "stream",
     "text": [
      "Statistic of set:  Full original dataset\n",
      "             Dataset size : 1500\n",
      "                   Labels : True\n",
      "           Min node count : 7\n",
      "       Average node count : 13.0\n",
      "           Max node count : 89\n",
      "           Min edge count : 12.0\n",
      "       Average edge count : 65.94\n",
      "           Max edge count : 1467.0\n",
      "     Min filling fraction : 0.13\n",
      " Average filling fraction : 0.77\n",
      "     Max filling fraction : 1.0\n",
      "          Label \"1\" count : 500\n",
      "          Label \"2\" count : 500\n",
      "          Label \"3\" count : 500\n",
      "----------------------------------------------------------------\n",
      "Statistic of set:  Train dataset\n",
      "             Dataset size : 1050\n",
      "                   Labels : True\n",
      "           Min node count : 7\n",
      "       Average node count : 12.99\n",
      "           Max node count : 89\n",
      "           Min edge count : 12.0\n",
      "       Average edge count : 67.04\n",
      "           Max edge count : 1467.0\n",
      "     Min filling fraction : 0.14\n",
      " Average filling fraction : 0.78\n",
      "     Max filling fraction : 1.0\n",
      "          Label \"1\" count : 345\n",
      "          Label \"2\" count : 352\n",
      "          Label \"3\" count : 353\n",
      "----------------------------------------------------------------\n",
      "Statistic of set:  Validation dataset 0\n",
      "             Dataset size : 225\n",
      "                   Labels : True\n",
      "           Min node count : 7\n",
      "       Average node count : 13.33\n",
      "           Max node count : 63\n",
      "           Min edge count : 12.0\n",
      "       Average edge count : 66.49\n",
      "           Max edge count : 858.0\n",
      "     Min filling fraction : 0.15\n",
      " Average filling fraction : 0.75\n",
      "     Max filling fraction : 1.0\n",
      "          Label \"1\" count : 80\n",
      "          Label \"2\" count : 69\n",
      "          Label \"3\" count : 76\n",
      "----------------------------------------------------------------\n",
      "Statistic of set:  Test dataset 0\n",
      "             Dataset size : 225\n",
      "                   Labels : True\n",
      "           Min node count : 7\n",
      "       Average node count : 12.73\n",
      "           Max node count : 78\n",
      "           Min edge count : 12.0\n",
      "       Average edge count : 60.22\n",
      "           Max edge count : 745.0\n",
      "     Min filling fraction : 0.13\n",
      " Average filling fraction : 0.78\n",
      "     Max filling fraction : 1.0\n",
      "          Label \"1\" count : 75\n",
      "          Label \"2\" count : 79\n",
      "          Label \"3\" count : 71\n",
      "----------------------------------------------------------------\n"
     ]
    },
    {
     "data": {
      "application/vnd.jupyter.widget-view+json": {
       "model_id": "a643875ea280434eb170f7e86c179613",
       "version_major": 2,
       "version_minor": 0
      },
      "text/plain": [
       "preparing dataset train for autoencoder:   0%|          | 0/1050 [00:00<?, ?it/s]"
      ]
     },
     "metadata": {},
     "output_type": "display_data"
    },
    {
     "data": {
      "application/vnd.jupyter.widget-view+json": {
       "model_id": "1e46dfd7be0e485ead4b54bedc96fa0e",
       "version_major": 2,
       "version_minor": 0
      },
      "text/plain": [
       "preparing dataset val 0 for autoencoder:   0%|          | 0/225 [00:00<?, ?it/s]"
      ]
     },
     "metadata": {},
     "output_type": "display_data"
    },
    {
     "data": {
      "application/vnd.jupyter.widget-view+json": {
       "model_id": "156fcdb599bf4ca4a7cd423ffd68be43",
       "version_major": 2,
       "version_minor": 0
      },
      "text/plain": [
       "preparing dataset test 0 for autoencoder:   0%|          | 0/225 [00:00<?, ?it/s]"
      ]
     },
     "metadata": {},
     "output_type": "display_data"
    }
   ],
   "source": [
    "dataset = RealSaver(\n",
    "    datasets_dir='/home/adam/phd/recurrent-graph-autoencoder/datasets',\n",
    "    dataset_name='IMDB-MULTI',\n",
    "    use_labels=True,\n",
    "    max_graph_size=None,\n",
    "    num_dataset_graph_permutations=1, \n",
    "    train_val_test_split=train_val_test_split, \n",
    "    train_val_test_permutation_split=train_val_test_permutation_split,\n",
    "    # save_dataset_to_pickle=to_save_path+'/'+dataset_name+'/'+str(i)+'.pkl',\n",
    "    bfs=True,\n",
    "    deduplicate_train = False,\n",
    "    deduplicate_val_test = False,\n",
    "    batch_size=500000,\n",
    "    batch_size_val=500000,\n",
    "    batch_size_test=500000,\n",
    "    workers=0,\n",
    "    block_size=6,\n",
    "    subgraph_scheduler_name='none',\n",
    "    subgraph_scheduler_params={}\n",
    ")"
   ]
  },
  {
   "cell_type": "code",
   "execution_count": 20,
   "id": "7b105dc9",
   "metadata": {},
   "outputs": [
    {
     "data": {
      "text/plain": [
       "<__main__.RealSaver at 0x7ff1f643d4f0>"
      ]
     },
     "execution_count": 20,
     "metadata": {},
     "output_type": "execute_result"
    }
   ],
   "source": [
    "dataset"
   ]
  },
  {
   "cell_type": "code",
   "execution_count": 21,
   "id": "737506ca",
   "metadata": {},
   "outputs": [
    {
     "data": {
      "text/plain": [
       "<All keys matched successfully>"
      ]
     },
     "execution_count": 21,
     "metadata": {},
     "output_type": "execute_result"
    }
   ],
   "source": [
    "checkpoint_path = '/home/adam/phd/recurrent-graph-autoencoder/tb_logs/RecurrentGraphAutoencoder/IMDB-MULTI/version_0/checkpoints/epoch=329-step=14189-v1.ckpt'\n",
    "\n",
    "encoder = GraphEncoder(\n",
    "    edge_encoder_class = MemoryEdgeEncoder,\n",
    "    embedding_size = 104,\n",
    "    edge_size = 1,\n",
    "    block_size= 6,\n",
    "    loss_function = 'BCEWithLogits',\n",
    "    loss_weight = None,\n",
    "    learning_rate = '0.0001',\n",
    "    optimizer = 'AdamWAMSGrad',\n",
    "    lr_scheduler_name = 'NoSched',\n",
    "    lr_scheduler_params = {},\n",
    "    lr_scheduler_metric = 'loss/train_avg',\n",
    "    metrics = [],\n",
    "    encoder_hidden_layer_sizes=[1024, 768],\n",
    "    encoder_activation_function='ELU'\n",
    ")\n",
    "\n",
    "checkpoint = torch.load(checkpoint_path)\n",
    "encoder_checkpoint = {\n",
    "    k.replace(\"encoder.edge_encoder.\", \"edge_encoder.\"): v\n",
    "    for (k, v) in checkpoint[\"state_dict\"].items()\n",
    "    if \"encoder\" in k\n",
    "}\n",
    "encoder.load_state_dict(encoder_checkpoint)"
   ]
  },
  {
   "cell_type": "code",
   "execution_count": 36,
   "id": "cca36863",
   "metadata": {},
   "outputs": [
    {
     "name": "stdout",
     "output_type": "stream",
     "text": [
      "1050\n",
      "225\n",
      "225\n"
     ]
    }
   ],
   "source": [
    "train_batch = next(iter(dataset.train_dataloader()))\n",
    "train_batch_labels = train_batch[3]\n",
    "print(len(train_batch_labels))\n",
    "\n",
    "val_batch = next(iter(dataset.val_dataloader()[0]))\n",
    "val_batch_labels = val_batch[3]\n",
    "print(len(val_batch_labels))\n",
    "\n",
    "test_batch = next(iter(dataset.test_dataloader()[0]))\n",
    "test_batch_labels = test_batch[3]\n",
    "print(len(test_batch_labels))\n"
   ]
  },
  {
   "cell_type": "code",
   "execution_count": 44,
   "id": "a69f4902",
   "metadata": {},
   "outputs": [],
   "source": [
    "train_batch_X = encoder(train_batch).detach().numpy()\n",
    "val_batch_X = encoder(val_batch).detach().numpy()\n",
    "test_batch_X = encoder(test_batch).detach().numpy()"
   ]
  },
  {
   "cell_type": "code",
   "execution_count": 45,
   "id": "f7064650",
   "metadata": {},
   "outputs": [
    {
     "data": {
      "text/plain": [
       "(1050, 104)"
      ]
     },
     "execution_count": 45,
     "metadata": {},
     "output_type": "execute_result"
    }
   ],
   "source": [
    "train_batch_X.shape"
   ]
  },
  {
   "cell_type": "code",
   "execution_count": 42,
   "id": "92cc8f58",
   "metadata": {},
   "outputs": [
    {
     "data": {
      "text/plain": [
       "tensor([3, 1, 2,  ..., 3, 1, 2])"
      ]
     },
     "execution_count": 42,
     "metadata": {},
     "output_type": "execute_result"
    }
   ],
   "source": [
    "train_batch_labels"
   ]
  },
  {
   "cell_type": "code",
   "execution_count": 63,
   "id": "8b0933e0",
   "metadata": {},
   "outputs": [],
   "source": [
    "from sklearn.naive_bayes import GaussianNB\n",
    "from sklearn.svm import SVC\n",
    "from sklearn.ensemble import RandomForestClassifier, GradientBoostingClassifier\n",
    "from sklearn.metrics import classification_report"
   ]
  },
  {
   "cell_type": "code",
   "execution_count": 65,
   "id": "524db657",
   "metadata": {},
   "outputs": [
    {
     "name": "stdout",
     "output_type": "stream",
     "text": [
      "              precision    recall  f1-score   support\n",
      "\n",
      "           1       0.86      0.47      0.61       345\n",
      "           2       0.62      0.74      0.67       352\n",
      "           3       0.60      0.74      0.66       353\n",
      "\n",
      "    accuracy                           0.65      1050\n",
      "   macro avg       0.69      0.65      0.65      1050\n",
      "weighted avg       0.69      0.65      0.65      1050\n",
      "\n",
      "              precision    recall  f1-score   support\n",
      "\n",
      "           1       0.44      0.40      0.42        80\n",
      "           2       0.46      0.42      0.44        69\n",
      "           3       0.49      0.58      0.53        76\n",
      "\n",
      "    accuracy                           0.47       225\n",
      "   macro avg       0.46      0.47      0.46       225\n",
      "weighted avg       0.46      0.47      0.46       225\n",
      "\n"
     ]
    }
   ],
   "source": [
    "model = RandomForestClassifier(n_estimators=500, min_samples_leaf=5, min_samples_split=4)\n",
    "# model = GradientBoostingClassifier()\n",
    "model.fit(train_batch_X, train_batch_labels)\n",
    "train_batch_labels_pred = model.predict(train_batch_X)\n",
    "print(classification_report(train_batch_labels, train_batch_labels_pred))\n",
    "\n",
    "val_batch_labels_pred = model.predict(val_batch_X)\n",
    "print(classification_report(val_batch_labels, val_batch_labels_pred))"
   ]
  },
  {
   "cell_type": "code",
   "execution_count": null,
   "id": "0e38776c",
   "metadata": {},
   "outputs": [],
   "source": []
  }
 ],
 "metadata": {
  "interpreter": {
   "hash": "c37224fb4409952eb251e31ba483053a30ac3ecaa917b50e887cf90f0c69f7d5"
  },
  "kernelspec": {
   "display_name": "Python 3 (ipykernel)",
   "language": "python",
   "name": "python3"
  },
  "language_info": {
   "codemirror_mode": {
    "name": "ipython",
    "version": 3
   },
   "file_extension": ".py",
   "mimetype": "text/x-python",
   "name": "python",
   "nbconvert_exporter": "python",
   "pygments_lexer": "ipython3",
   "version": "3.9.0"
  }
 },
 "nbformat": 4,
 "nbformat_minor": 5
}
